{
  "nbformat": 4,
  "nbformat_minor": 0,
  "metadata": {
    "colab": {
      "name": "OCRusingTesseract.ipynb",
      "provenance": [],
      "include_colab_link": true
    },
    "kernelspec": {
      "name": "python2",
      "display_name": "Python 2"
    }
  },
  "cells": [
    {
      "cell_type": "markdown",
      "metadata": {
        "id": "view-in-github",
        "colab_type": "text"
      },
      "source": [
        "<a href=\"https://colab.research.google.com/github/kebab03/2side/blob/main/OCRusingTesseract.ipynb\" target=\"_parent\"><img src=\"https://colab.research.google.com/assets/colab-badge.svg\" alt=\"Open In Colab\"/></a>"
      ]
    },
    {
      "metadata": {
        "id": "uWwpI-24_Nob",
        "colab": {
          "base_uri": "https://localhost:8080/"
        },
        "outputId": "b594e63e-36f4-4c7f-fd12-663694d713f4"
      },
      "cell_type": "code",
      "source": [
        "!sudo apt install tesseract-ocr"
      ],
      "execution_count": 5,
      "outputs": [
        {
          "output_type": "stream",
          "name": "stdout",
          "text": [
            "Reading package lists... Done\n",
            "Building dependency tree       \n",
            "Reading state information... Done\n",
            "tesseract-ocr is already the newest version (4.1.1-2build2).\n",
            "0 upgraded, 0 newly installed, 0 to remove and 23 not upgraded.\n"
          ]
        }
      ]
    },
    {
      "metadata": {
        "id": "ujL16dZ2_O-3",
        "colab": {
          "base_uri": "https://localhost:8080/"
        },
        "outputId": "c10cc79a-259c-4568-b66c-2e4acb5fbbc7"
      },
      "cell_type": "code",
      "source": [
        "!pip install pytesseract"
      ],
      "execution_count": 6,
      "outputs": [
        {
          "output_type": "stream",
          "name": "stdout",
          "text": [
            "Looking in indexes: https://pypi.org/simple, https://us-python.pkg.dev/colab-wheels/public/simple/\n",
            "Collecting pytesseract\n",
            "  Downloading pytesseract-0.3.10-py3-none-any.whl (14 kB)\n",
            "Requirement already satisfied: Pillow>=8.0.0 in /usr/local/lib/python3.9/dist-packages (from pytesseract) (8.4.0)\n",
            "Requirement already satisfied: packaging>=21.3 in /usr/local/lib/python3.9/dist-packages (from pytesseract) (23.0)\n",
            "Installing collected packages: pytesseract\n",
            "Successfully installed pytesseract-0.3.10\n"
          ]
        }
      ]
    },
    {
      "metadata": {
        "id": "QKJh7JjTAqzO"
      },
      "cell_type": "code",
      "source": [
        "import pytesseract\n",
        "import shutil\n",
        "import os\n",
        "import random\n",
        "try:\n",
        "    from PIL import Image\n",
        "except ImportError:\n",
        "    import Image"
      ],
      "execution_count": 7,
      "outputs": []
    },
    {
      "metadata": {
        "id": "8zmc-K_nAyg1",
        "colab": {
          "base_uri": "https://localhost:8080/",
          "height": 73
        },
        "outputId": "501b3a55-bd35-4851-9e05-b13e075dc5a5"
      },
      "cell_type": "code",
      "source": [
        "from google.colab import files\n",
        "\n",
        "uploaded = files.upload()"
      ],
      "execution_count": 8,
      "outputs": [
        {
          "output_type": "display_data",
          "data": {
            "text/plain": [
              "<IPython.core.display.HTML object>"
            ],
            "text/html": [
              "\n",
              "     <input type=\"file\" id=\"files-c2c5650b-8f73-43b7-b989-da37f265f077\" name=\"files[]\" multiple disabled\n",
              "        style=\"border:none\" />\n",
              "     <output id=\"result-c2c5650b-8f73-43b7-b989-da37f265f077\">\n",
              "      Upload widget is only available when the cell has been executed in the\n",
              "      current browser session. Please rerun this cell to enable.\n",
              "      </output>\n",
              "      <script>// Copyright 2017 Google LLC\n",
              "//\n",
              "// Licensed under the Apache License, Version 2.0 (the \"License\");\n",
              "// you may not use this file except in compliance with the License.\n",
              "// You may obtain a copy of the License at\n",
              "//\n",
              "//      http://www.apache.org/licenses/LICENSE-2.0\n",
              "//\n",
              "// Unless required by applicable law or agreed to in writing, software\n",
              "// distributed under the License is distributed on an \"AS IS\" BASIS,\n",
              "// WITHOUT WARRANTIES OR CONDITIONS OF ANY KIND, either express or implied.\n",
              "// See the License for the specific language governing permissions and\n",
              "// limitations under the License.\n",
              "\n",
              "/**\n",
              " * @fileoverview Helpers for google.colab Python module.\n",
              " */\n",
              "(function(scope) {\n",
              "function span(text, styleAttributes = {}) {\n",
              "  const element = document.createElement('span');\n",
              "  element.textContent = text;\n",
              "  for (const key of Object.keys(styleAttributes)) {\n",
              "    element.style[key] = styleAttributes[key];\n",
              "  }\n",
              "  return element;\n",
              "}\n",
              "\n",
              "// Max number of bytes which will be uploaded at a time.\n",
              "const MAX_PAYLOAD_SIZE = 100 * 1024;\n",
              "\n",
              "function _uploadFiles(inputId, outputId) {\n",
              "  const steps = uploadFilesStep(inputId, outputId);\n",
              "  const outputElement = document.getElementById(outputId);\n",
              "  // Cache steps on the outputElement to make it available for the next call\n",
              "  // to uploadFilesContinue from Python.\n",
              "  outputElement.steps = steps;\n",
              "\n",
              "  return _uploadFilesContinue(outputId);\n",
              "}\n",
              "\n",
              "// This is roughly an async generator (not supported in the browser yet),\n",
              "// where there are multiple asynchronous steps and the Python side is going\n",
              "// to poll for completion of each step.\n",
              "// This uses a Promise to block the python side on completion of each step,\n",
              "// then passes the result of the previous step as the input to the next step.\n",
              "function _uploadFilesContinue(outputId) {\n",
              "  const outputElement = document.getElementById(outputId);\n",
              "  const steps = outputElement.steps;\n",
              "\n",
              "  const next = steps.next(outputElement.lastPromiseValue);\n",
              "  return Promise.resolve(next.value.promise).then((value) => {\n",
              "    // Cache the last promise value to make it available to the next\n",
              "    // step of the generator.\n",
              "    outputElement.lastPromiseValue = value;\n",
              "    return next.value.response;\n",
              "  });\n",
              "}\n",
              "\n",
              "/**\n",
              " * Generator function which is called between each async step of the upload\n",
              " * process.\n",
              " * @param {string} inputId Element ID of the input file picker element.\n",
              " * @param {string} outputId Element ID of the output display.\n",
              " * @return {!Iterable<!Object>} Iterable of next steps.\n",
              " */\n",
              "function* uploadFilesStep(inputId, outputId) {\n",
              "  const inputElement = document.getElementById(inputId);\n",
              "  inputElement.disabled = false;\n",
              "\n",
              "  const outputElement = document.getElementById(outputId);\n",
              "  outputElement.innerHTML = '';\n",
              "\n",
              "  const pickedPromise = new Promise((resolve) => {\n",
              "    inputElement.addEventListener('change', (e) => {\n",
              "      resolve(e.target.files);\n",
              "    });\n",
              "  });\n",
              "\n",
              "  const cancel = document.createElement('button');\n",
              "  inputElement.parentElement.appendChild(cancel);\n",
              "  cancel.textContent = 'Cancel upload';\n",
              "  const cancelPromise = new Promise((resolve) => {\n",
              "    cancel.onclick = () => {\n",
              "      resolve(null);\n",
              "    };\n",
              "  });\n",
              "\n",
              "  // Wait for the user to pick the files.\n",
              "  const files = yield {\n",
              "    promise: Promise.race([pickedPromise, cancelPromise]),\n",
              "    response: {\n",
              "      action: 'starting',\n",
              "    }\n",
              "  };\n",
              "\n",
              "  cancel.remove();\n",
              "\n",
              "  // Disable the input element since further picks are not allowed.\n",
              "  inputElement.disabled = true;\n",
              "\n",
              "  if (!files) {\n",
              "    return {\n",
              "      response: {\n",
              "        action: 'complete',\n",
              "      }\n",
              "    };\n",
              "  }\n",
              "\n",
              "  for (const file of files) {\n",
              "    const li = document.createElement('li');\n",
              "    li.append(span(file.name, {fontWeight: 'bold'}));\n",
              "    li.append(span(\n",
              "        `(${file.type || 'n/a'}) - ${file.size} bytes, ` +\n",
              "        `last modified: ${\n",
              "            file.lastModifiedDate ? file.lastModifiedDate.toLocaleDateString() :\n",
              "                                    'n/a'} - `));\n",
              "    const percent = span('0% done');\n",
              "    li.appendChild(percent);\n",
              "\n",
              "    outputElement.appendChild(li);\n",
              "\n",
              "    const fileDataPromise = new Promise((resolve) => {\n",
              "      const reader = new FileReader();\n",
              "      reader.onload = (e) => {\n",
              "        resolve(e.target.result);\n",
              "      };\n",
              "      reader.readAsArrayBuffer(file);\n",
              "    });\n",
              "    // Wait for the data to be ready.\n",
              "    let fileData = yield {\n",
              "      promise: fileDataPromise,\n",
              "      response: {\n",
              "        action: 'continue',\n",
              "      }\n",
              "    };\n",
              "\n",
              "    // Use a chunked sending to avoid message size limits. See b/62115660.\n",
              "    let position = 0;\n",
              "    do {\n",
              "      const length = Math.min(fileData.byteLength - position, MAX_PAYLOAD_SIZE);\n",
              "      const chunk = new Uint8Array(fileData, position, length);\n",
              "      position += length;\n",
              "\n",
              "      const base64 = btoa(String.fromCharCode.apply(null, chunk));\n",
              "      yield {\n",
              "        response: {\n",
              "          action: 'append',\n",
              "          file: file.name,\n",
              "          data: base64,\n",
              "        },\n",
              "      };\n",
              "\n",
              "      let percentDone = fileData.byteLength === 0 ?\n",
              "          100 :\n",
              "          Math.round((position / fileData.byteLength) * 100);\n",
              "      percent.textContent = `${percentDone}% done`;\n",
              "\n",
              "    } while (position < fileData.byteLength);\n",
              "  }\n",
              "\n",
              "  // All done.\n",
              "  yield {\n",
              "    response: {\n",
              "      action: 'complete',\n",
              "    }\n",
              "  };\n",
              "}\n",
              "\n",
              "scope.google = scope.google || {};\n",
              "scope.google.colab = scope.google.colab || {};\n",
              "scope.google.colab._files = {\n",
              "  _uploadFiles,\n",
              "  _uploadFilesContinue,\n",
              "};\n",
              "})(self);\n",
              "</script> "
            ]
          },
          "metadata": {}
        },
        {
          "output_type": "stream",
          "name": "stdout",
          "text": [
            "Saving PHOTO-2023-03-21-12-20-18.jpg to PHOTO-2023-03-21-12-20-18.jpg\n"
          ]
        }
      ]
    },
    {
      "metadata": {
        "id": "HaM3cMUDA_Ma"
      },
      "cell_type": "code",
      "source": [
        "extractedInformation2 = pytesseract.image_to_string(Image.open('PHOTO-2023-03-21-12-20-18.jpg'))"
      ],
      "execution_count": 9,
      "outputs": []
    },
    {
      "cell_type": "code",
      "source": [
        "extractedInformation3 = pytesseract.image_to_string(Image.open('IMG-20220705-WA0001.jpg'))"
      ],
      "metadata": {
        "id": "ryUTY1mFnvRZ"
      },
      "execution_count": 11,
      "outputs": []
    },
    {
      "cell_type": "code",
      "source": [
        "print(extractedInformation3)"
      ],
      "metadata": {
        "id": "FfUoUYoLn1sA",
        "outputId": "deeeeb3a-8743-40be-e24b-c895c4eca481",
        "colab": {
          "base_uri": "https://localhost:8080/"
        }
      },
      "execution_count": 12,
      "outputs": [
        {
          "output_type": "stream",
          "name": "stdout",
          "text": [
            "   \n",
            "\n",
            " \n",
            "\n",
            "om Be PERSONAL DATA AND EMER\n",
            "\n",
            "  \n",
            "\n",
            "   \n",
            "  \n",
            "\n",
            "   \n",
            "  \n",
            "\n",
            "a\n",
            "\n",
            "ie Name: MD SELIM AHAMED ALA MIAH\n",
            "\n",
            ":\n",
            "\n",
            ". Name: FOZAL MIAH\n",
            "\n",
            "ve Name: HAMIDA BEGUM\n",
            "\n",
            "ee Spouse's Name: MST SUFIA BEGUM\n",
            "\n",
            "vz Permanent Address: | MUNSHIR COW, BISHWANATH, BISHWANATH.\n",
            ".\n",
            "\n",
            "an SYLHET\n",
            "\n",
            "3\n",
            "\n",
            " \n",
            "\n",
            "Emergency Contact:\n",
            "Name: HAMIDA BEGUM\n",
            "\n",
            "Relationship: MOTHER\n",
            "Address: MUNSHIR GOW, BISHWANATH, BISHWANATH, SYLHET\n",
            "\n",
            "Telephone No: 008801733925864\n",
            "\n",
            "AI Mahan! tA\n",
            "\n",
            " \n",
            "\n",
            "BY 0155530\n",
            "\n",
            " \n",
            "    \n",
            "   \n",
            "     \n",
            " \n",
            "  \n",
            " \n",
            "\n",
            "Space aaa / Passport No.\n",
            "\n",
            " \n",
            " \n",
            "\n",
            "“BNWT / PorsonalNo.\n",
            "196891 12073002981 ‘\n",
            "ATACATD AR / Previous Passport No\n",
            "\n",
            "BB0647639\n",
            "\n",
            " \n",
            " \n",
            "\n",
            "SARTST ASH / issuing Authonty\n",
            "IP / DHAKA\n",
            "\n",
            "7 Hoteer’s Sigaateré:. 715\n",
            "\n",
            " \n",
            "\n",
            "P<BGDMIAH<<MD<SELIM<AHAMED<ALAK<<<< <<< <<< KKK\n",
            "BY01555300BGD6805023M2312053<<<<<<<<<<<<<<00\n",
            "\n",
            "3 2 | bition\n",
            "\f\n"
          ]
        }
      ]
    },
    {
      "cell_type": "code",
      "source": [
        "print(type(extractedInformation3))"
      ],
      "metadata": {
        "id": "9sT5Ka0UoB1J",
        "outputId": "32514b14-e156-408e-8e3f-244bc810d6e8",
        "colab": {
          "base_uri": "https://localhost:8080/"
        }
      },
      "execution_count": 13,
      "outputs": [
        {
          "output_type": "stream",
          "name": "stdout",
          "text": [
            "<class 'str'>\n"
          ]
        }
      ]
    },
    {
      "cell_type": "code",
      "source": [
        "print(len(extractedInformation3))"
      ],
      "metadata": {
        "id": "4z71E4yKoLra",
        "outputId": "c7bd3d8f-aba5-4a95-a750-d617d3f316d1",
        "colab": {
          "base_uri": "https://localhost:8080/"
        }
      },
      "execution_count": 14,
      "outputs": [
        {
          "output_type": "stream",
          "name": "stdout",
          "text": [
            "761\n"
          ]
        }
      ]
    },
    {
      "cell_type": "code",
      "source": [
        "print(extractedInformation3.kyes())\n"
      ],
      "metadata": {
        "id": "P1QPC7MqoPLh",
        "outputId": "1efb5f6b-e6d6-4d6e-9654-297974c681ae",
        "colab": {
          "base_uri": "https://localhost:8080/",
          "height": 165
        }
      },
      "execution_count": 16,
      "outputs": [
        {
          "output_type": "error",
          "ename": "AttributeError",
          "evalue": "ignored",
          "traceback": [
            "\u001b[0;31m---------------------------------------------------------------------------\u001b[0m",
            "\u001b[0;31mAttributeError\u001b[0m                            Traceback (most recent call last)",
            "\u001b[0;32m<ipython-input-16-54c4351ad9c4>\u001b[0m in \u001b[0;36m<module>\u001b[0;34m\u001b[0m\n\u001b[0;32m----> 1\u001b[0;31m \u001b[0mprint\u001b[0m\u001b[0;34m(\u001b[0m\u001b[0mextractedInformation3\u001b[0m\u001b[0;34m.\u001b[0m\u001b[0mkyes\u001b[0m\u001b[0;34m(\u001b[0m\u001b[0;34m)\u001b[0m\u001b[0;34m)\u001b[0m\u001b[0;34m\u001b[0m\u001b[0;34m\u001b[0m\u001b[0m\n\u001b[0m",
            "\u001b[0;31mAttributeError\u001b[0m: 'str' object has no attribute 'kyes'"
          ]
        }
      ]
    },
    {
      "metadata": {
        "id": "Key-3vILBNUd",
        "colab": {
          "base_uri": "https://localhost:8080/"
        },
        "outputId": "eac918b2-8ae1-4e2c-95ca-588c142c1b31"
      },
      "cell_type": "code",
      "source": [
        "print(extractedInformation2)"
      ],
      "execution_count": 10,
      "outputs": [
        {
          "output_type": "stream",
          "name": "stdout",
          "text": [
            "om PERSONAL DATA AND EMERGENCY CONTACT\n",
            "\n",
            "Neme: MD BILLAL HOSSAIN\n",
            "\n",
            " \n",
            "\n",
            "Father's Mame: ‘MD ABDUL SAIYAL\n",
            "I°s \"Mothers Name: RASHEDA BEGUM\n",
            "S55 Spouse's Name: RA\n",
            "cecel Potmanant Address: VATPARA. SHORNOGRAM, TONCIBARI,\n",
            ": : MUNSHIGANS\n",
            "\n",
            "36 spray tae\n",
            "Dame: RASUEDA. BEGUM\n",
            "\n",
            "5 Relationship: ~MOTHER *\n",
            "\n",
            "| Address: VATPARA, SHORNOGRAM TONGIBARI. MUNSHIGANS\n",
            "\n",
            "Telephone No: 0131965637\n",
            "\n",
            "a oe MOWNAZMUL ISLAM\n",
            "ASSISTANT DIRECTOR\n",
            "DEPT OF IMMIGRATION & PASSPORTS\n",
            "GOVERNMENT OF THE PEOPLE'S,\n",
            "REPUBLIC OF BANGLADESH\n",
            "MUNSHIGANS\n",
            "\n",
            " \n",
            "\n",
            " \n",
            "\n",
            "©\n",
            "\n",
            "siracete aaa / Passport No.\n",
            "\n",
            " \n",
            "\n",
            "EH 0134198\n",
            "\n",
            " \n",
            "\n",
            "P<BGDHOSSAIN<<MD<BILLAL<<<<<ccceccceccccecc<\n",
            "EHO1341981BGD0211026M2511018<<<<<<<<<<<<<<04\n",
            "\n",
            " \n",
            "\n",
            "} Weeseaar\n",
            "\f\n"
          ]
        }
      ]
    },
    {
      "metadata": {
        "id": "aw9nJoeqBWZP"
      },
      "cell_type": "code",
      "source": [
        "# returns first occurrence of Substring\n",
        "result = extractedInformation2.find('Neme')\n",
        "print(\"Substring 'Neme' found at index:\", result)\n",
        " \n",
        "result = extractedInformation2.find('for')\n",
        "print(\"Substring 'for ' found at index:\", result)\n",
        " \n",
        "# How to use find()\n",
        "if word.find('pawan') != -1:\n",
        "    print(\"Contains given substring \")\n",
        "else:\n",
        "    print(\"Doesn't contains given substring\")"
      ],
      "execution_count": null,
      "outputs": []
    },
    {
      "cell_type": "code",
      "source": [
        "result = extractedInformation2.find('Neme')\n",
        "print(\"Substring 'Neme' found at index:\", result)"
      ],
      "metadata": {
        "id": "hyDKvbFCps7K",
        "outputId": "e1863f91-fa59-4e27-c89e-887963c21428",
        "colab": {
          "base_uri": "https://localhost:8080/"
        }
      },
      "execution_count": 17,
      "outputs": [
        {
          "output_type": "stream",
          "name": "stdout",
          "text": [
            "Substring 'Neme' found at index: 40\n"
          ]
        }
      ]
    },
    {
      "cell_type": "code",
      "source": [
        "\n",
        "print(extractedInformation2[result+6:result+16])"
      ],
      "metadata": {
        "id": "7TXyp4eYpy8x",
        "outputId": "7e664021-08f8-41d8-f722-5f2467d493a5",
        "colab": {
          "base_uri": "https://localhost:8080/"
        }
      },
      "execution_count": 21,
      "outputs": [
        {
          "output_type": "stream",
          "name": "stdout",
          "text": [
            "MD BILLAL \n"
          ]
        }
      ]
    }
  ]
}