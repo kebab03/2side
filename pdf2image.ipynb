{
  "nbformat": 4,
  "nbformat_minor": 0,
  "metadata": {
    "colab": {
      "provenance": [],
      "authorship_tag": "ABX9TyP6JPXuAIgldNuVBSgvWCv1",
      "include_colab_link": true
    },
    "kernelspec": {
      "name": "python3",
      "display_name": "Python 3"
    },
    "language_info": {
      "name": "python"
    }
  },
  "cells": [
    {
      "cell_type": "markdown",
      "metadata": {
        "id": "view-in-github",
        "colab_type": "text"
      },
      "source": [
        "<a href=\"https://colab.research.google.com/github/kebab03/2side/blob/main/pdf2image.ipynb\" target=\"_parent\"><img src=\"https://colab.research.google.com/assets/colab-badge.svg\" alt=\"Open In Colab\"/></a>"
      ]
    },
    {
      "cell_type": "code",
      "execution_count": 1,
      "metadata": {
        "colab": {
          "base_uri": "https://localhost:8080/"
        },
        "id": "mN4Ij3KnuYGG",
        "outputId": "7ba66375-dc90-4768-d052-b561a6c408f4"
      },
      "outputs": [
        {
          "output_type": "stream",
          "name": "stdout",
          "text": [
            "Looking in indexes: https://pypi.org/simple, https://us-python.pkg.dev/colab-wheels/public/simple/\n",
            "Collecting pypdfium2\n",
            "  Downloading pypdfium2-4.1.0-py3-none-manylinux_2_26_x86_64.whl (2.8 MB)\n",
            "\u001b[2K     \u001b[90m━━━━━━━━━━━━━━━━━━━━━━━━━━━━━━━━━━━━━━━━\u001b[0m \u001b[32m2.8/2.8 MB\u001b[0m \u001b[31m56.8 MB/s\u001b[0m eta \u001b[36m0:00:00\u001b[0m\n",
            "\u001b[?25hInstalling collected packages: pypdfium2\n",
            "Successfully installed pypdfium2-4.1.0\n"
          ]
        }
      ],
      "source": [
        "!pip install pypdfium2 "
      ]
    },
    {
      "cell_type": "code",
      "source": [
        "import pypdfium2 as pdfium\n",
        "\n",
        "pdf = pdfium.PdfDocument(\"my_pdf_file.pdf\")\n",
        "n_pages = len(pdf)\n",
        "for page_number in range(n_pages):\n",
        "    page = pdf.get_page(page_number)\n",
        "    pil_image = page.render_topil(\n",
        "        scale=1,\n",
        "        rotation=0,\n",
        "        crop=(0, 0, 0, 0),\n",
        "        colour=(255, 255, 255, 255),\n",
        "        annotations=True,\n",
        "        greyscale=False,\n",
        "        optimise_mode=pdfium.OptimiseMode.NONE,\n",
        "    )\n",
        "    pil_image.save(f\"image_{page_number+1}.png\")"
      ],
      "metadata": {
        "id": "OOgLNDEcuxV7"
      },
      "execution_count": null,
      "outputs": []
    }
  ]
}