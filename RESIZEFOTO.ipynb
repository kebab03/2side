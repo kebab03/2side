{
  "nbformat": 4,
  "nbformat_minor": 0,
  "metadata": {
    "colab": {
      "provenance": [],
      "authorship_tag": "ABX9TyOJ5X70Lq3PQcAAytzsjz6x",
      "include_colab_link": true
    },
    "kernelspec": {
      "name": "python3",
      "display_name": "Python 3"
    },
    "language_info": {
      "name": "python"
    }
  },
  "cells": [
    {
      "cell_type": "markdown",
      "metadata": {
        "id": "view-in-github",
        "colab_type": "text"
      },
      "source": [
        "<a href=\"https://colab.research.google.com/github/kebab03/2side/blob/main/RESIZEFOTO.ipynb\" target=\"_parent\"><img src=\"https://colab.research.google.com/assets/colab-badge.svg\" alt=\"Open In Colab\"/></a>"
      ]
    },
    {
      "cell_type": "code",
      "execution_count": 2,
      "metadata": {
        "id": "joXYckzR7nax"
      },
      "outputs": [],
      "source": [
        "from PIL import Image\n",
        "image = Image.open('IMG_1044.jpg')\n",
        "new_image = image.resize((150, 120))\n",
        "new_image.save('myimage_1500.jpg')"
      ]
    }
  ]
}