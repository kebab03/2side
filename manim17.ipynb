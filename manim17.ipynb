{
  "nbformat": 4,
  "nbformat_minor": 0,
  "metadata": {
    "colab": {
      "provenance": [],
      "authorship_tag": "ABX9TyPImJkBYnr1IXATYjyWIGys",
      "include_colab_link": true
    },
    "kernelspec": {
      "name": "python3",
      "display_name": "Python 3"
    },
    "language_info": {
      "name": "python"
    }
  },
  "cells": [
    {
      "cell_type": "markdown",
      "metadata": {
        "id": "view-in-github",
        "colab_type": "text"
      },
      "source": [
        "<a href=\"https://colab.research.google.com/github/kebab03/2side/blob/main/manim17.ipynb\" target=\"_parent\"><img src=\"https://colab.research.google.com/assets/colab-badge.svg\" alt=\"Open In Colab\"/></a>"
      ]
    },
    {
      "cell_type": "code",
      "execution_count": 1,
      "metadata": {
        "colab": {
          "base_uri": "https://localhost:8080/"
        },
        "id": "Nd_m6w9I6a9v",
        "outputId": "8392ae24-b610-4cad-c87e-edbb842422a5"
      },
      "outputs": [
        {
          "output_type": "stream",
          "name": "stdout",
          "text": [
            "Get:1 https://cloud.r-project.org/bin/linux/ubuntu focal-cran40/ InRelease [3,622 B]\n",
            "Get:2 https://developer.download.nvidia.com/compute/cuda/repos/ubuntu2004/x86_64  InRelease [1,581 B]\n",
            "Get:3 http://security.ubuntu.com/ubuntu focal-security InRelease [114 kB]\n",
            "Hit:4 http://archive.ubuntu.com/ubuntu focal InRelease\n",
            "Hit:5 http://ppa.launchpad.net/c2d4u.team/c2d4u4.0+/ubuntu focal InRelease\n",
            "Get:6 http://archive.ubuntu.com/ubuntu focal-updates InRelease [114 kB]\n",
            "Hit:7 http://ppa.launchpad.net/cran/libgit2/ubuntu focal InRelease\n",
            "Get:8 https://developer.download.nvidia.com/compute/cuda/repos/ubuntu2004/x86_64  Packages [973 kB]\n",
            "Hit:9 http://ppa.launchpad.net/deadsnakes/ppa/ubuntu focal InRelease\n",
            "Get:10 http://archive.ubuntu.com/ubuntu focal-backports InRelease [108 kB]\n",
            "Hit:11 http://ppa.launchpad.net/graphics-drivers/ppa/ubuntu focal InRelease\n",
            "Hit:12 http://ppa.launchpad.net/ubuntugis/ppa/ubuntu focal InRelease\n",
            "Get:13 http://security.ubuntu.com/ubuntu focal-security/universe amd64 Packages [1,028 kB]\n",
            "Get:14 http://security.ubuntu.com/ubuntu focal-security/restricted amd64 Packages [2,065 kB]\n",
            "Get:15 http://security.ubuntu.com/ubuntu focal-security/main amd64 Packages [2,593 kB]\n",
            "Get:16 http://archive.ubuntu.com/ubuntu focal-updates/universe amd64 Packages [1,324 kB]\n",
            "Get:17 http://archive.ubuntu.com/ubuntu focal-updates/restricted amd64 Packages [2,203 kB]\n",
            "Get:18 http://archive.ubuntu.com/ubuntu focal-updates/main amd64 Packages [3,073 kB]\n",
            "Fetched 13.6 MB in 4s (3,587 kB/s)\n",
            "Reading package lists... Done\n",
            "Building dependency tree       \n",
            "Reading state information... Done\n",
            "25 packages can be upgraded. Run 'apt list --upgradable' to see them.\n",
            "Reading package lists... Done\n",
            "Building dependency tree       \n",
            "Reading state information... Done\n",
            "ffmpeg is already the newest version (7:4.2.7-0ubuntu0.1).\n",
            "The following additional packages will be installed:\n",
            "  dvisvgm fonts-adf-accanthis fonts-adf-berenis fonts-adf-gillius\n",
            "  fonts-adf-universalis fonts-cabin fonts-cantarell fonts-comfortaa\n",
            "  fonts-croscore fonts-crosextra-caladea fonts-crosextra-carlito\n",
            "  fonts-dejavu-core fonts-dejavu-extra fonts-droid-fallback fonts-ebgaramond\n",
            "  fonts-ebgaramond-extra fonts-font-awesome fonts-freefont-otf\n",
            "  fonts-freefont-ttf fonts-gfs-artemisia fonts-gfs-baskerville\n",
            "  fonts-gfs-complutum fonts-gfs-didot fonts-gfs-neohellenic fonts-gfs-olga\n",
            "  fonts-gfs-porson fonts-gfs-solomos fonts-go fonts-junicode fonts-lato\n",
            "  fonts-linuxlibertine fonts-lmodern fonts-lobster fonts-lobstertwo\n",
            "  fonts-noto-core fonts-noto-mono fonts-oflb-asana-math fonts-open-sans\n",
            "  fonts-roboto-unhinted fonts-sil-gentium fonts-sil-gentium-basic\n",
            "  fonts-sil-gentiumplus fonts-sil-gentiumplus-compact fonts-stix fonts-texgyre\n",
            "  fonts-urw-base35 gir1.2-freedesktop gir1.2-harfbuzz-0.0 gir1.2-pango-1.0\n",
            "  javascript-common libapache-pom-java libblkid-dev\n",
            "  libcairo-script-interpreter2 libcommons-logging-java libcommons-parent-java\n",
            "  libdatrie-dev libffi-dev libfontbox-java libfontenc1 libfribidi-dev\n",
            "  libglib2.0-dev libglib2.0-dev-bin libgraphite2-dev libgs9 libgs9-common\n",
            "  libharfbuzz-dev libharfbuzz-gobject0 libharfbuzz-icu0 libidn11 libijs-0.35\n",
            "  libjbig2dec0 libjs-jquery libkpathsea6 liblzo2-2 libmount-dev\n",
            "  libpangoxft-1.0-0 libpdfbox-java libpixman-1-dev libptexenc1 libruby2.7\n",
            "  libselinux1-dev libsepol1-dev libsynctex2 libteckit0 libtexlua53\n",
            "  libtexluajit2 libthai-dev libwoff1 libxcb-render0-dev libxcb-shm0-dev\n",
            "  libzzip-0-13 lmodern pango1.0-tools poppler-data preview-latex-style rake\n",
            "  ruby ruby-minitest ruby-net-telnet ruby-power-assert ruby-test-unit\n",
            "  ruby-xmlrpc ruby2.7 rubygems-integration t1utils tex-common tex-gyre\n",
            "  texlive-base texlive-binaries texlive-fonts-extra-links\n",
            "  texlive-fonts-recommended texlive-lang-greek texlive-latex-base\n",
            "  texlive-pictures texlive-plain-generic xfonts-encodings xfonts-utils\n",
            "Suggested packages:\n",
            "  fonts-noto fontforge apache2 | lighttpd | httpd libcairo2-doc\n",
            "  libavalon-framework-java libcommons-logging-java-doc\n",
            "  libexcalibur-logkit-java liblog4j1.2-java libdatrie-doc\n",
            "  libgirepository1.0-dev libglib2.0-doc libgdk-pixbuf2.0-bin\n",
            "  | libgdk-pixbuf2.0-dev libxml2-utils libgraphite2-utils imagemagick\n",
            "  libpango1.0-doc libthai-doc poppler-utils ghostscript fonts-japanese-mincho\n",
            "  | fonts-ipafont-mincho fonts-japanese-gothic | fonts-ipafont-gothic\n",
            "  fonts-arphic-ukai fonts-arphic-uming fonts-nanum ri ruby-dev bundler\n",
            "  debhelper gv | postscript-viewer perl-tk xpdf | pdf-viewer xzdec cm-super\n",
            "  texlive-fonts-extra-doc texlive-fonts-recommended-doc texlive-latex-base-doc\n",
            "  python3-pygments icc-profiles libfile-which-perl\n",
            "  libspreadsheet-parseexcel-perl texlive-latex-extra-doc\n",
            "  texlive-latex-recommended-doc texlive-luatex texlive-pstricks dot2tex prerex\n",
            "  ruby-tcltk | libtcltk-ruby texlive-pictures-doc vprerex default-jre-headless\n",
            "  texlive-science-doc\n",
            "The following NEW packages will be installed:\n",
            "  dvisvgm fonts-adf-accanthis fonts-adf-berenis fonts-adf-gillius\n",
            "  fonts-adf-universalis fonts-cabin fonts-cantarell fonts-comfortaa\n",
            "  fonts-croscore fonts-crosextra-caladea fonts-crosextra-carlito\n",
            "  fonts-dejavu-core fonts-dejavu-extra fonts-droid-fallback fonts-ebgaramond\n",
            "  fonts-ebgaramond-extra fonts-font-awesome fonts-freefont-otf\n",
            "  fonts-freefont-ttf fonts-gfs-artemisia fonts-gfs-baskerville\n",
            "  fonts-gfs-complutum fonts-gfs-didot fonts-gfs-neohellenic fonts-gfs-olga\n",
            "  fonts-gfs-porson fonts-gfs-solomos fonts-go fonts-junicode fonts-lato\n",
            "  fonts-linuxlibertine fonts-lmodern fonts-lobster fonts-lobstertwo\n",
            "  fonts-noto-core fonts-noto-mono fonts-oflb-asana-math fonts-open-sans\n",
            "  fonts-roboto-unhinted fonts-sil-gentium fonts-sil-gentium-basic\n",
            "  fonts-sil-gentiumplus fonts-sil-gentiumplus-compact fonts-stix fonts-texgyre\n",
            "  fonts-urw-base35 gir1.2-freedesktop gir1.2-harfbuzz-0.0 gir1.2-pango-1.0\n",
            "  javascript-common libapache-pom-java libblkid-dev\n",
            "  libcairo-script-interpreter2 libcairo2-dev libcommons-logging-java\n",
            "  libcommons-parent-java libdatrie-dev libffi-dev libfontbox-java libfontenc1\n",
            "  libfribidi-dev libglib2.0-dev libglib2.0-dev-bin libgraphite2-dev libgs9\n",
            "  libgs9-common libharfbuzz-dev libharfbuzz-gobject0 libharfbuzz-icu0 libidn11\n",
            "  libijs-0.35 libjbig2dec0 libjs-jquery libkpathsea6 liblzo2-2 libmount-dev\n",
            "  libpango1.0-dev libpangoxft-1.0-0 libpdfbox-java libpixman-1-dev libptexenc1\n",
            "  libruby2.7 libselinux1-dev libsepol1-dev libsynctex2 libteckit0 libtexlua53\n",
            "  libtexluajit2 libthai-dev libwoff1 libxcb-render0-dev libxcb-shm0-dev\n",
            "  libzzip-0-13 lmodern pango1.0-tools poppler-data preview-latex-style rake\n",
            "  ruby ruby-minitest ruby-net-telnet ruby-power-assert ruby-test-unit\n",
            "  ruby-xmlrpc ruby2.7 rubygems-integration t1utils tex-common tex-gyre texlive\n",
            "  texlive-base texlive-binaries texlive-fonts-extra texlive-fonts-extra-links\n",
            "  texlive-fonts-recommended texlive-lang-greek texlive-latex-base\n",
            "  texlive-latex-extra texlive-latex-recommended texlive-pictures\n",
            "  texlive-plain-generic texlive-science tipa xfonts-encodings xfonts-utils\n",
            "0 upgraded, 125 newly installed, 0 to remove and 25 not upgraded.\n",
            "Need to get 738 MB of archives.\n",
            "After this operation, 2,075 MB of additional disk space will be used.\n",
            "Get:1 http://archive.ubuntu.com/ubuntu focal/main amd64 fonts-droid-fallback all 1:6.0.1r16-1.1 [1,805 kB]\n",
            "Get:2 http://archive.ubuntu.com/ubuntu focal/main amd64 fonts-lato all 2.0-2 [2,698 kB]\n",
            "Get:3 http://archive.ubuntu.com/ubuntu focal/main amd64 poppler-data all 0.4.9-2 [1,475 kB]\n",
            "Get:4 http://archive.ubuntu.com/ubuntu focal/universe amd64 tex-common all 6.13 [32.7 kB]\n",
            "Get:5 http://archive.ubuntu.com/ubuntu focal/main amd64 fonts-urw-base35 all 20170801.1-3 [6,333 kB]\n",
            "Get:6 http://archive.ubuntu.com/ubuntu focal-updates/main amd64 libgs9-common all 9.50~dfsg-5ubuntu4.6 [681 kB]\n",
            "Get:7 http://archive.ubuntu.com/ubuntu focal/main amd64 libidn11 amd64 1.33-2.2ubuntu2 [46.2 kB]\n",
            "Get:8 http://archive.ubuntu.com/ubuntu focal/main amd64 libijs-0.35 amd64 0.35-15 [15.7 kB]\n",
            "Get:9 http://archive.ubuntu.com/ubuntu focal/main amd64 libjbig2dec0 amd64 0.18-1ubuntu1 [60.0 kB]\n",
            "Get:10 http://archive.ubuntu.com/ubuntu focal-updates/main amd64 libgs9 amd64 9.50~dfsg-5ubuntu4.6 [2,173 kB]\n",
            "Get:11 http://archive.ubuntu.com/ubuntu focal/main amd64 libkpathsea6 amd64 2019.20190605.51237-3build2 [57.0 kB]\n",
            "Get:12 http://archive.ubuntu.com/ubuntu focal/main amd64 libwoff1 amd64 1.0.2-1build2 [42.0 kB]\n",
            "Get:13 http://archive.ubuntu.com/ubuntu focal/universe amd64 dvisvgm amd64 2.8.1-1build1 [1,048 kB]\n",
            "Get:14 http://archive.ubuntu.com/ubuntu focal/universe amd64 fonts-adf-accanthis all 0.20190904-1.1 [203 kB]\n",
            "Get:15 http://archive.ubuntu.com/ubuntu focal/universe amd64 fonts-adf-berenis all 0.20190904-1.1 [313 kB]\n",
            "Get:16 http://archive.ubuntu.com/ubuntu focal/universe amd64 fonts-adf-gillius all 0.20190904-1.1 [190 kB]\n",
            "Get:17 http://archive.ubuntu.com/ubuntu focal/universe amd64 fonts-adf-universalis all 0.20190904-1.1 [112 kB]\n",
            "Get:18 http://archive.ubuntu.com/ubuntu focal/universe amd64 fonts-cabin all 1.5-3 [141 kB]\n",
            "Get:19 http://archive.ubuntu.com/ubuntu focal/universe amd64 fonts-cantarell all 0.111-2 [250 kB]\n",
            "Get:20 http://archive.ubuntu.com/ubuntu focal/universe amd64 fonts-comfortaa all 3.001-3 [129 kB]\n",
            "Get:21 http://archive.ubuntu.com/ubuntu focal-updates/universe amd64 fonts-croscore all 20200323-1build1~ubuntu20.04.1 [2,140 kB]\n",
            "Get:22 http://archive.ubuntu.com/ubuntu focal/universe amd64 fonts-crosextra-caladea all 20130214-2 [82.4 kB]\n",
            "Get:23 http://archive.ubuntu.com/ubuntu focal/universe amd64 fonts-crosextra-carlito all 20130920-1 [742 kB]\n",
            "Get:24 http://archive.ubuntu.com/ubuntu focal/main amd64 fonts-dejavu-core all 2.37-1 [1,041 kB]\n",
            "Get:25 http://archive.ubuntu.com/ubuntu focal/main amd64 fonts-dejavu-extra all 2.37-1 [1,953 kB]\n",
            "Get:26 http://archive.ubuntu.com/ubuntu focal/universe amd64 fonts-ebgaramond all 0.016-1ubuntu1 [472 kB]\n",
            "Get:27 http://archive.ubuntu.com/ubuntu focal/universe amd64 fonts-ebgaramond-extra all 0.016-1ubuntu1 [2,161 kB]\n",
            "Get:28 http://archive.ubuntu.com/ubuntu focal/main amd64 fonts-font-awesome all 5.0.10+really4.7.0~dfsg-1 [514 kB]\n",
            "Get:29 http://archive.ubuntu.com/ubuntu focal/universe amd64 fonts-freefont-otf all 20120503-10 [3,056 kB]\n",
            "Get:30 http://archive.ubuntu.com/ubuntu focal/main amd64 fonts-freefont-ttf all 20120503-10 [2,440 kB]\n",
            "Get:31 http://archive.ubuntu.com/ubuntu focal/universe amd64 fonts-gfs-artemisia all 1.1-5 [260 kB]\n",
            "Get:32 http://archive.ubuntu.com/ubuntu focal/universe amd64 fonts-gfs-baskerville all 1.1-5 [43.4 kB]\n",
            "Get:33 http://archive.ubuntu.com/ubuntu focal/universe amd64 fonts-gfs-complutum all 1.1-6 [41.6 kB]\n",
            "Get:34 http://archive.ubuntu.com/ubuntu focal/universe amd64 fonts-gfs-didot all 1.1-6 [278 kB]\n",
            "Get:35 http://archive.ubuntu.com/ubuntu focal/universe amd64 fonts-gfs-neohellenic all 1.1-6 [215 kB]\n",
            "Get:36 http://archive.ubuntu.com/ubuntu focal/universe amd64 fonts-gfs-olga all 1.1-5 [33.4 kB]\n",
            "Get:37 http://archive.ubuntu.com/ubuntu focal/universe amd64 fonts-gfs-porson all 1.1-6 [33.7 kB]\n",
            "Get:38 http://archive.ubuntu.com/ubuntu focal/universe amd64 fonts-gfs-solomos all 1.1-5 [40.7 kB]\n",
            "Get:39 http://archive.ubuntu.com/ubuntu focal/universe amd64 fonts-go all 0~20170330-1 [369 kB]\n",
            "Get:40 http://archive.ubuntu.com/ubuntu focal/universe amd64 fonts-junicode all 1.002-2 [828 kB]\n",
            "Get:41 http://archive.ubuntu.com/ubuntu focal/universe amd64 fonts-linuxlibertine all 5.3.0-4 [1,627 kB]\n",
            "Get:42 http://archive.ubuntu.com/ubuntu focal/universe amd64 fonts-lmodern all 2.004.5-6 [4,532 kB]\n",
            "Get:43 http://archive.ubuntu.com/ubuntu focal/universe amd64 fonts-lobster all 2.0-2 [38.7 kB]\n",
            "Get:44 http://archive.ubuntu.com/ubuntu focal/universe amd64 fonts-lobstertwo all 2.0-2 [92.7 kB]\n",
            "Get:45 http://archive.ubuntu.com/ubuntu focal-updates/main amd64 fonts-noto-core all 20200323-1build1~ubuntu20.04.1 [10.9 MB]\n",
            "Get:46 http://archive.ubuntu.com/ubuntu focal-updates/main amd64 fonts-noto-mono all 20200323-1build1~ubuntu20.04.1 [80.6 kB]\n",
            "Get:47 http://archive.ubuntu.com/ubuntu focal/universe amd64 fonts-oflb-asana-math all 000.907-6 [246 kB]\n",
            "Get:48 http://archive.ubuntu.com/ubuntu focal/universe amd64 fonts-open-sans all 1.11-1 [575 kB]\n",
            "Get:49 http://archive.ubuntu.com/ubuntu focal/universe amd64 fonts-roboto-unhinted all 2:0~20170802-3 [2,376 kB]\n",
            "Get:50 http://archive.ubuntu.com/ubuntu focal/universe amd64 fonts-sil-gentium all 20081126:1.03-2 [245 kB]\n",
            "Get:51 http://archive.ubuntu.com/ubuntu focal/universe amd64 fonts-sil-gentium-basic all 1.102-1 [384 kB]\n",
            "Get:52 http://archive.ubuntu.com/ubuntu focal/universe amd64 fonts-sil-gentiumplus all 5.000-2 [2,807 kB]\n",
            "Get:53 http://archive.ubuntu.com/ubuntu focal/universe amd64 fonts-sil-gentiumplus-compact all 5.000-2 [1,514 kB]\n",
            "Get:54 http://archive.ubuntu.com/ubuntu focal/universe amd64 fonts-texgyre all 20180621-3 [10.2 MB]\n",
            "Get:55 http://archive.ubuntu.com/ubuntu focal-updates/main amd64 gir1.2-freedesktop amd64 1.64.1-1~ubuntu20.04.1 [19.2 kB]\n",
            "Get:56 http://archive.ubuntu.com/ubuntu focal-updates/main amd64 gir1.2-harfbuzz-0.0 amd64 2.6.4-1ubuntu4.2 [26.4 kB]\n",
            "Get:57 http://archive.ubuntu.com/ubuntu focal/main amd64 libpangoxft-1.0-0 amd64 1.44.7-2ubuntu4 [18.0 kB]\n",
            "Get:58 http://archive.ubuntu.com/ubuntu focal/main amd64 gir1.2-pango-1.0 amd64 1.44.7-2ubuntu4 [26.6 kB]\n",
            "Get:59 http://archive.ubuntu.com/ubuntu focal/main amd64 javascript-common all 11 [6,066 B]\n",
            "Get:60 http://archive.ubuntu.com/ubuntu focal/universe amd64 libapache-pom-java all 18-1 [4,720 B]\n",
            "Get:61 http://archive.ubuntu.com/ubuntu focal/main amd64 liblzo2-2 amd64 2.10-2 [50.8 kB]\n",
            "Get:62 http://archive.ubuntu.com/ubuntu focal/main amd64 libcairo-script-interpreter2 amd64 1.16.0-4ubuntu1 [54.2 kB]\n",
            "Get:63 http://archive.ubuntu.com/ubuntu focal-updates/main amd64 libpixman-1-dev amd64 0.38.4-0ubuntu2.1 [243 kB]\n",
            "Get:64 http://archive.ubuntu.com/ubuntu focal/main amd64 libxcb-render0-dev amd64 1.14-2 [18.4 kB]\n",
            "Get:65 http://archive.ubuntu.com/ubuntu focal/main amd64 libxcb-shm0-dev amd64 1.14-2 [6,716 B]\n",
            "Get:66 http://archive.ubuntu.com/ubuntu focal/main amd64 libffi-dev amd64 3.3-4 [57.0 kB]\n",
            "Get:67 http://archive.ubuntu.com/ubuntu focal-updates/main amd64 libglib2.0-dev-bin amd64 2.64.6-1~ubuntu20.04.4 [109 kB]\n",
            "Get:68 http://archive.ubuntu.com/ubuntu focal-updates/main amd64 libblkid-dev amd64 2.34-0.1ubuntu9.3 [167 kB]\n",
            "Get:69 http://archive.ubuntu.com/ubuntu focal-updates/main amd64 libmount-dev amd64 2.34-0.1ubuntu9.3 [176 kB]\n",
            "Get:70 http://archive.ubuntu.com/ubuntu focal-updates/main amd64 libsepol1-dev amd64 3.0-1ubuntu0.1 [325 kB]\n",
            "Get:71 http://archive.ubuntu.com/ubuntu focal/main amd64 libselinux1-dev amd64 3.0-1build2 [151 kB]\n",
            "Get:72 http://archive.ubuntu.com/ubuntu focal-updates/main amd64 libglib2.0-dev amd64 2.64.6-1~ubuntu20.04.4 [1,506 kB]\n",
            "Get:73 http://archive.ubuntu.com/ubuntu focal/main amd64 libcairo2-dev amd64 1.16.0-4ubuntu1 [627 kB]\n",
            "Get:74 http://archive.ubuntu.com/ubuntu focal/universe amd64 libcommons-parent-java all 43-1 [10.8 kB]\n",
            "Get:75 http://archive.ubuntu.com/ubuntu focal/universe amd64 libcommons-logging-java all 1.2-2 [60.3 kB]\n",
            "Get:76 http://archive.ubuntu.com/ubuntu focal/main amd64 libdatrie-dev amd64 0.2.12-3 [17.6 kB]\n",
            "Get:77 http://archive.ubuntu.com/ubuntu focal/main amd64 libfontenc1 amd64 1:1.1.4-0ubuntu1 [14.0 kB]\n",
            "Get:78 http://archive.ubuntu.com/ubuntu focal-updates/main amd64 libfribidi-dev amd64 1.0.8-2ubuntu0.1 [62.3 kB]\n",
            "Get:79 http://archive.ubuntu.com/ubuntu focal/main amd64 libgraphite2-dev amd64 1.3.13-11build1 [14.7 kB]\n",
            "Get:80 http://archive.ubuntu.com/ubuntu focal-updates/main amd64 libharfbuzz-icu0 amd64 2.6.4-1ubuntu4.2 [5,580 B]\n",
            "Get:81 http://archive.ubuntu.com/ubuntu focal-updates/main amd64 libharfbuzz-gobject0 amd64 2.6.4-1ubuntu4.2 [20.4 kB]\n",
            "Get:82 http://archive.ubuntu.com/ubuntu focal-updates/main amd64 libharfbuzz-dev amd64 2.6.4-1ubuntu4.2 [526 kB]\n",
            "Get:83 http://archive.ubuntu.com/ubuntu focal/main amd64 libjs-jquery all 3.3.1~dfsg-3 [329 kB]\n",
            "Get:84 http://archive.ubuntu.com/ubuntu focal/main amd64 libthai-dev amd64 0.1.28-3 [24.5 kB]\n",
            "Get:85 http://archive.ubuntu.com/ubuntu focal/main amd64 pango1.0-tools amd64 1.44.7-2ubuntu4 [26.2 kB]\n",
            "Get:86 http://archive.ubuntu.com/ubuntu focal/main amd64 libpango1.0-dev amd64 1.44.7-2ubuntu4 [132 kB]\n",
            "Get:87 http://archive.ubuntu.com/ubuntu focal/main amd64 libptexenc1 amd64 2019.20190605.51237-3build2 [35.5 kB]\n",
            "Get:88 http://archive.ubuntu.com/ubuntu focal/main amd64 rubygems-integration all 1.16 [5,092 B]\n",
            "Get:89 http://archive.ubuntu.com/ubuntu focal-updates/main amd64 ruby2.7 amd64 2.7.0-5ubuntu1.8 [95.6 kB]\n",
            "Get:90 http://archive.ubuntu.com/ubuntu focal/main amd64 ruby amd64 1:2.7+1 [5,412 B]\n",
            "Get:91 http://archive.ubuntu.com/ubuntu focal/main amd64 rake all 13.0.1-4 [61.6 kB]\n",
            "Get:92 http://archive.ubuntu.com/ubuntu focal/main amd64 ruby-minitest all 5.13.0-1 [40.9 kB]\n",
            "Get:93 http://archive.ubuntu.com/ubuntu focal/main amd64 ruby-net-telnet all 0.1.1-2 [12.6 kB]\n",
            "Get:94 http://archive.ubuntu.com/ubuntu focal/main amd64 ruby-power-assert all 1.1.7-1 [11.4 kB]\n",
            "Get:95 http://archive.ubuntu.com/ubuntu focal/main amd64 ruby-test-unit all 3.3.5-1 [73.2 kB]\n",
            "Get:96 http://archive.ubuntu.com/ubuntu focal/main amd64 ruby-xmlrpc all 0.3.0-2 [23.8 kB]\n",
            "Get:97 http://archive.ubuntu.com/ubuntu focal-updates/main amd64 libruby2.7 amd64 2.7.0-5ubuntu1.8 [3,532 kB]\n",
            "Get:98 http://archive.ubuntu.com/ubuntu focal/main amd64 libsynctex2 amd64 2019.20190605.51237-3build2 [55.0 kB]\n",
            "Get:99 http://archive.ubuntu.com/ubuntu focal/universe amd64 libteckit0 amd64 2.5.8+ds2-5ubuntu2 [320 kB]\n",
            "Get:100 http://archive.ubuntu.com/ubuntu focal/main amd64 libtexlua53 amd64 2019.20190605.51237-3build2 [105 kB]\n",
            "Get:101 http://archive.ubuntu.com/ubuntu focal/main amd64 libtexluajit2 amd64 2019.20190605.51237-3build2 [235 kB]\n",
            "Get:102 http://archive.ubuntu.com/ubuntu focal/universe amd64 libzzip-0-13 amd64 0.13.62-3.2ubuntu1 [26.2 kB]\n",
            "Get:103 http://archive.ubuntu.com/ubuntu focal/main amd64 xfonts-encodings all 1:1.0.5-0ubuntu1 [573 kB]\n",
            "Get:104 http://archive.ubuntu.com/ubuntu focal/main amd64 xfonts-utils amd64 1:7.7+6 [91.5 kB]\n",
            "Get:105 http://archive.ubuntu.com/ubuntu focal/universe amd64 lmodern all 2.004.5-6 [9,474 kB]\n",
            "Get:106 http://archive.ubuntu.com/ubuntu focal/universe amd64 preview-latex-style all 11.91-2ubuntu2 [184 kB]\n",
            "Get:107 http://archive.ubuntu.com/ubuntu focal/main amd64 t1utils amd64 1.41-3 [56.1 kB]\n",
            "Get:108 http://archive.ubuntu.com/ubuntu focal/universe amd64 tex-gyre all 20180621-3 [6,209 kB]\n",
            "Get:109 http://archive.ubuntu.com/ubuntu focal/universe amd64 texlive-binaries amd64 2019.20190605.51237-3build2 [8,041 kB]\n",
            "Get:110 http://archive.ubuntu.com/ubuntu focal/universe amd64 texlive-base all 2019.20200218-1 [20.8 MB]\n",
            "Get:111 http://archive.ubuntu.com/ubuntu focal/universe amd64 texlive-fonts-recommended all 2019.20200218-1 [4,972 kB]\n",
            "Get:112 http://archive.ubuntu.com/ubuntu focal/universe amd64 texlive-latex-base all 2019.20200218-1 [990 kB]\n",
            "Get:113 http://archive.ubuntu.com/ubuntu focal/universe amd64 texlive-latex-recommended all 2019.20200218-1 [15.7 MB]\n",
            "Get:114 http://archive.ubuntu.com/ubuntu focal/universe amd64 texlive all 2019.20200218-1 [14.4 kB]\n",
            "Get:115 http://archive.ubuntu.com/ubuntu focal/universe amd64 texlive-fonts-extra all 2019.202000218-1 [460 MB]\n",
            "Get:116 http://archive.ubuntu.com/ubuntu focal/universe amd64 fonts-stix all 1.1.1-4 [591 kB]\n",
            "Get:117 http://archive.ubuntu.com/ubuntu focal/universe amd64 texlive-fonts-extra-links all 2019.202000218-1 [20.3 kB]\n",
            "Get:118 http://archive.ubuntu.com/ubuntu focal/universe amd64 texlive-lang-greek all 2019.20200218-1 [77.3 MB]\n",
            "Get:119 http://archive.ubuntu.com/ubuntu focal/universe amd64 libfontbox-java all 1:1.8.16-2 [207 kB]\n",
            "Get:120 http://archive.ubuntu.com/ubuntu focal/universe amd64 libpdfbox-java all 1:1.8.16-2 [5,199 kB]\n",
            "Get:121 http://archive.ubuntu.com/ubuntu focal/universe amd64 texlive-pictures all 2019.20200218-1 [4,492 kB]\n",
            "Get:122 http://archive.ubuntu.com/ubuntu focal/universe amd64 texlive-latex-extra all 2019.202000218-1 [12.5 MB]\n",
            "Get:123 http://archive.ubuntu.com/ubuntu focal/universe amd64 texlive-plain-generic all 2019.202000218-1 [24.6 MB]\n",
            "Get:124 http://archive.ubuntu.com/ubuntu focal/universe amd64 texlive-science all 2019.202000218-1 [3,217 kB]\n",
            "Get:125 http://archive.ubuntu.com/ubuntu focal/universe amd64 tipa all 2:1.3-20 [2,978 kB]\n",
            "Fetched 738 MB in 35s (21.2 MB/s)\n",
            "debconf: unable to initialize frontend: Dialog\n",
            "debconf: (No usable dialog-like program is installed, so the dialog based frontend cannot be used. at /usr/share/perl5/Debconf/FrontEnd/Dialog.pm line 76, <> line 125.)\n",
            "debconf: falling back to frontend: Readline\n",
            "debconf: unable to initialize frontend: Readline\n",
            "debconf: (This frontend requires a controlling tty.)\n",
            "debconf: falling back to frontend: Teletype\n",
            "dpkg-preconfigure: unable to re-open stdin: \n",
            "Selecting previously unselected package fonts-droid-fallback.\n",
            "(Reading database ... 122349 files and directories currently installed.)\n",
            "Preparing to unpack .../000-fonts-droid-fallback_1%3a6.0.1r16-1.1_all.deb ...\n",
            "Unpacking fonts-droid-fallback (1:6.0.1r16-1.1) ...\n",
            "Selecting previously unselected package fonts-lato.\n",
            "Preparing to unpack .../001-fonts-lato_2.0-2_all.deb ...\n",
            "Unpacking fonts-lato (2.0-2) ...\n",
            "Selecting previously unselected package poppler-data.\n",
            "Preparing to unpack .../002-poppler-data_0.4.9-2_all.deb ...\n",
            "Unpacking poppler-data (0.4.9-2) ...\n",
            "Selecting previously unselected package tex-common.\n",
            "Preparing to unpack .../003-tex-common_6.13_all.deb ...\n",
            "Unpacking tex-common (6.13) ...\n",
            "Selecting previously unselected package fonts-urw-base35.\n",
            "Preparing to unpack .../004-fonts-urw-base35_20170801.1-3_all.deb ...\n",
            "Unpacking fonts-urw-base35 (20170801.1-3) ...\n",
            "Selecting previously unselected package libgs9-common.\n",
            "Preparing to unpack .../005-libgs9-common_9.50~dfsg-5ubuntu4.6_all.deb ...\n",
            "Unpacking libgs9-common (9.50~dfsg-5ubuntu4.6) ...\n",
            "Selecting previously unselected package libidn11:amd64.\n",
            "Preparing to unpack .../006-libidn11_1.33-2.2ubuntu2_amd64.deb ...\n",
            "Unpacking libidn11:amd64 (1.33-2.2ubuntu2) ...\n",
            "Selecting previously unselected package libijs-0.35:amd64.\n",
            "Preparing to unpack .../007-libijs-0.35_0.35-15_amd64.deb ...\n",
            "Unpacking libijs-0.35:amd64 (0.35-15) ...\n",
            "Selecting previously unselected package libjbig2dec0:amd64.\n",
            "Preparing to unpack .../008-libjbig2dec0_0.18-1ubuntu1_amd64.deb ...\n",
            "Unpacking libjbig2dec0:amd64 (0.18-1ubuntu1) ...\n",
            "Selecting previously unselected package libgs9:amd64.\n",
            "Preparing to unpack .../009-libgs9_9.50~dfsg-5ubuntu4.6_amd64.deb ...\n",
            "Unpacking libgs9:amd64 (9.50~dfsg-5ubuntu4.6) ...\n",
            "Selecting previously unselected package libkpathsea6:amd64.\n",
            "Preparing to unpack .../010-libkpathsea6_2019.20190605.51237-3build2_amd64.deb ...\n",
            "Unpacking libkpathsea6:amd64 (2019.20190605.51237-3build2) ...\n",
            "Selecting previously unselected package libwoff1:amd64.\n",
            "Preparing to unpack .../011-libwoff1_1.0.2-1build2_amd64.deb ...\n",
            "Unpacking libwoff1:amd64 (1.0.2-1build2) ...\n",
            "Selecting previously unselected package dvisvgm.\n",
            "Preparing to unpack .../012-dvisvgm_2.8.1-1build1_amd64.deb ...\n",
            "Unpacking dvisvgm (2.8.1-1build1) ...\n",
            "Selecting previously unselected package fonts-adf-accanthis.\n",
            "Preparing to unpack .../013-fonts-adf-accanthis_0.20190904-1.1_all.deb ...\n",
            "Unpacking fonts-adf-accanthis (0.20190904-1.1) ...\n",
            "Selecting previously unselected package fonts-adf-berenis.\n",
            "Preparing to unpack .../014-fonts-adf-berenis_0.20190904-1.1_all.deb ...\n",
            "Unpacking fonts-adf-berenis (0.20190904-1.1) ...\n",
            "Selecting previously unselected package fonts-adf-gillius.\n",
            "Preparing to unpack .../015-fonts-adf-gillius_0.20190904-1.1_all.deb ...\n",
            "Unpacking fonts-adf-gillius (0.20190904-1.1) ...\n",
            "Selecting previously unselected package fonts-adf-universalis.\n",
            "Preparing to unpack .../016-fonts-adf-universalis_0.20190904-1.1_all.deb ...\n",
            "Unpacking fonts-adf-universalis (0.20190904-1.1) ...\n",
            "Selecting previously unselected package fonts-cabin.\n",
            "Preparing to unpack .../017-fonts-cabin_1.5-3_all.deb ...\n",
            "Unpacking fonts-cabin (1.5-3) ...\n",
            "Selecting previously unselected package fonts-cantarell.\n",
            "Preparing to unpack .../018-fonts-cantarell_0.111-2_all.deb ...\n",
            "Unpacking fonts-cantarell (0.111-2) ...\n",
            "Selecting previously unselected package fonts-comfortaa.\n",
            "Preparing to unpack .../019-fonts-comfortaa_3.001-3_all.deb ...\n",
            "Unpacking fonts-comfortaa (3.001-3) ...\n",
            "Selecting previously unselected package fonts-croscore.\n",
            "Preparing to unpack .../020-fonts-croscore_20200323-1build1~ubuntu20.04.1_all.deb ...\n",
            "Unpacking fonts-croscore (20200323-1build1~ubuntu20.04.1) ...\n",
            "Selecting previously unselected package fonts-crosextra-caladea.\n",
            "Preparing to unpack .../021-fonts-crosextra-caladea_20130214-2_all.deb ...\n",
            "Unpacking fonts-crosextra-caladea (20130214-2) ...\n",
            "Selecting previously unselected package fonts-crosextra-carlito.\n",
            "Preparing to unpack .../022-fonts-crosextra-carlito_20130920-1_all.deb ...\n",
            "Unpacking fonts-crosextra-carlito (20130920-1) ...\n",
            "Selecting previously unselected package fonts-dejavu-core.\n",
            "Preparing to unpack .../023-fonts-dejavu-core_2.37-1_all.deb ...\n",
            "Unpacking fonts-dejavu-core (2.37-1) ...\n",
            "Selecting previously unselected package fonts-dejavu-extra.\n",
            "Preparing to unpack .../024-fonts-dejavu-extra_2.37-1_all.deb ...\n",
            "Unpacking fonts-dejavu-extra (2.37-1) ...\n",
            "Selecting previously unselected package fonts-ebgaramond.\n",
            "Preparing to unpack .../025-fonts-ebgaramond_0.016-1ubuntu1_all.deb ...\n",
            "Unpacking fonts-ebgaramond (0.016-1ubuntu1) ...\n",
            "Selecting previously unselected package fonts-ebgaramond-extra.\n",
            "Preparing to unpack .../026-fonts-ebgaramond-extra_0.016-1ubuntu1_all.deb ...\n",
            "Unpacking fonts-ebgaramond-extra (0.016-1ubuntu1) ...\n",
            "Selecting previously unselected package fonts-font-awesome.\n",
            "Preparing to unpack .../027-fonts-font-awesome_5.0.10+really4.7.0~dfsg-1_all.deb ...\n",
            "Unpacking fonts-font-awesome (5.0.10+really4.7.0~dfsg-1) ...\n",
            "Selecting previously unselected package fonts-freefont-otf.\n",
            "Preparing to unpack .../028-fonts-freefont-otf_20120503-10_all.deb ...\n",
            "Unpacking fonts-freefont-otf (20120503-10) ...\n",
            "Selecting previously unselected package fonts-freefont-ttf.\n",
            "Preparing to unpack .../029-fonts-freefont-ttf_20120503-10_all.deb ...\n",
            "Unpacking fonts-freefont-ttf (20120503-10) ...\n",
            "Selecting previously unselected package fonts-gfs-artemisia.\n",
            "Preparing to unpack .../030-fonts-gfs-artemisia_1.1-5_all.deb ...\n",
            "Unpacking fonts-gfs-artemisia (1.1-5) ...\n",
            "Selecting previously unselected package fonts-gfs-baskerville.\n",
            "Preparing to unpack .../031-fonts-gfs-baskerville_1.1-5_all.deb ...\n",
            "Unpacking fonts-gfs-baskerville (1.1-5) ...\n",
            "Selecting previously unselected package fonts-gfs-complutum.\n",
            "Preparing to unpack .../032-fonts-gfs-complutum_1.1-6_all.deb ...\n",
            "Unpacking fonts-gfs-complutum (1.1-6) ...\n",
            "Selecting previously unselected package fonts-gfs-didot.\n",
            "Preparing to unpack .../033-fonts-gfs-didot_1.1-6_all.deb ...\n",
            "Unpacking fonts-gfs-didot (1.1-6) ...\n",
            "Selecting previously unselected package fonts-gfs-neohellenic.\n",
            "Preparing to unpack .../034-fonts-gfs-neohellenic_1.1-6_all.deb ...\n",
            "Unpacking fonts-gfs-neohellenic (1.1-6) ...\n",
            "Selecting previously unselected package fonts-gfs-olga.\n",
            "Preparing to unpack .../035-fonts-gfs-olga_1.1-5_all.deb ...\n",
            "Unpacking fonts-gfs-olga (1.1-5) ...\n",
            "Selecting previously unselected package fonts-gfs-porson.\n",
            "Preparing to unpack .../036-fonts-gfs-porson_1.1-6_all.deb ...\n",
            "Unpacking fonts-gfs-porson (1.1-6) ...\n",
            "Selecting previously unselected package fonts-gfs-solomos.\n",
            "Preparing to unpack .../037-fonts-gfs-solomos_1.1-5_all.deb ...\n",
            "Unpacking fonts-gfs-solomos (1.1-5) ...\n",
            "Selecting previously unselected package fonts-go.\n",
            "Preparing to unpack .../038-fonts-go_0~20170330-1_all.deb ...\n",
            "Unpacking fonts-go (0~20170330-1) ...\n",
            "Selecting previously unselected package fonts-junicode.\n",
            "Preparing to unpack .../039-fonts-junicode_1.002-2_all.deb ...\n",
            "Unpacking fonts-junicode (1.002-2) ...\n",
            "Selecting previously unselected package fonts-linuxlibertine.\n",
            "Preparing to unpack .../040-fonts-linuxlibertine_5.3.0-4_all.deb ...\n",
            "Unpacking fonts-linuxlibertine (5.3.0-4) ...\n",
            "Selecting previously unselected package fonts-lmodern.\n",
            "Preparing to unpack .../041-fonts-lmodern_2.004.5-6_all.deb ...\n",
            "Unpacking fonts-lmodern (2.004.5-6) ...\n",
            "Selecting previously unselected package fonts-lobster.\n",
            "Preparing to unpack .../042-fonts-lobster_2.0-2_all.deb ...\n",
            "Unpacking fonts-lobster (2.0-2) ...\n",
            "Selecting previously unselected package fonts-lobstertwo.\n",
            "Preparing to unpack .../043-fonts-lobstertwo_2.0-2_all.deb ...\n",
            "Unpacking fonts-lobstertwo (2.0-2) ...\n",
            "Selecting previously unselected package fonts-noto-core.\n",
            "Preparing to unpack .../044-fonts-noto-core_20200323-1build1~ubuntu20.04.1_all.deb ...\n",
            "Unpacking fonts-noto-core (20200323-1build1~ubuntu20.04.1) ...\n",
            "Selecting previously unselected package fonts-noto-mono.\n",
            "Preparing to unpack .../045-fonts-noto-mono_20200323-1build1~ubuntu20.04.1_all.deb ...\n",
            "Unpacking fonts-noto-mono (20200323-1build1~ubuntu20.04.1) ...\n",
            "Selecting previously unselected package fonts-oflb-asana-math.\n",
            "Preparing to unpack .../046-fonts-oflb-asana-math_000.907-6_all.deb ...\n",
            "Unpacking fonts-oflb-asana-math (000.907-6) ...\n",
            "Selecting previously unselected package fonts-open-sans.\n",
            "Preparing to unpack .../047-fonts-open-sans_1.11-1_all.deb ...\n",
            "Unpacking fonts-open-sans (1.11-1) ...\n",
            "Selecting previously unselected package fonts-roboto-unhinted.\n",
            "Preparing to unpack .../048-fonts-roboto-unhinted_2%3a0~20170802-3_all.deb ...\n",
            "Unpacking fonts-roboto-unhinted (2:0~20170802-3) ...\n",
            "Selecting previously unselected package fonts-sil-gentium.\n",
            "Preparing to unpack .../049-fonts-sil-gentium_20081126%3a1.03-2_all.deb ...\n",
            "Unpacking fonts-sil-gentium (20081126:1.03-2) ...\n",
            "Selecting previously unselected package fonts-sil-gentium-basic.\n",
            "Preparing to unpack .../050-fonts-sil-gentium-basic_1.102-1_all.deb ...\n",
            "Unpacking fonts-sil-gentium-basic (1.102-1) ...\n",
            "Selecting previously unselected package fonts-sil-gentiumplus.\n",
            "Preparing to unpack .../051-fonts-sil-gentiumplus_5.000-2_all.deb ...\n",
            "Unpacking fonts-sil-gentiumplus (5.000-2) ...\n",
            "Selecting previously unselected package fonts-sil-gentiumplus-compact.\n",
            "Preparing to unpack .../052-fonts-sil-gentiumplus-compact_5.000-2_all.deb ...\n",
            "Unpacking fonts-sil-gentiumplus-compact (5.000-2) ...\n",
            "Selecting previously unselected package fonts-texgyre.\n",
            "Preparing to unpack .../053-fonts-texgyre_20180621-3_all.deb ...\n",
            "Unpacking fonts-texgyre (20180621-3) ...\n",
            "Selecting previously unselected package gir1.2-freedesktop:amd64.\n",
            "Preparing to unpack .../054-gir1.2-freedesktop_1.64.1-1~ubuntu20.04.1_amd64.deb ...\n",
            "Unpacking gir1.2-freedesktop:amd64 (1.64.1-1~ubuntu20.04.1) ...\n",
            "Selecting previously unselected package gir1.2-harfbuzz-0.0:amd64.\n",
            "Preparing to unpack .../055-gir1.2-harfbuzz-0.0_2.6.4-1ubuntu4.2_amd64.deb ...\n",
            "Unpacking gir1.2-harfbuzz-0.0:amd64 (2.6.4-1ubuntu4.2) ...\n",
            "Selecting previously unselected package libpangoxft-1.0-0:amd64.\n",
            "Preparing to unpack .../056-libpangoxft-1.0-0_1.44.7-2ubuntu4_amd64.deb ...\n",
            "Unpacking libpangoxft-1.0-0:amd64 (1.44.7-2ubuntu4) ...\n",
            "Selecting previously unselected package gir1.2-pango-1.0:amd64.\n",
            "Preparing to unpack .../057-gir1.2-pango-1.0_1.44.7-2ubuntu4_amd64.deb ...\n",
            "Unpacking gir1.2-pango-1.0:amd64 (1.44.7-2ubuntu4) ...\n",
            "Selecting previously unselected package javascript-common.\n",
            "Preparing to unpack .../058-javascript-common_11_all.deb ...\n",
            "Unpacking javascript-common (11) ...\n",
            "Selecting previously unselected package libapache-pom-java.\n",
            "Preparing to unpack .../059-libapache-pom-java_18-1_all.deb ...\n",
            "Unpacking libapache-pom-java (18-1) ...\n",
            "Selecting previously unselected package liblzo2-2:amd64.\n",
            "Preparing to unpack .../060-liblzo2-2_2.10-2_amd64.deb ...\n",
            "Unpacking liblzo2-2:amd64 (2.10-2) ...\n",
            "Selecting previously unselected package libcairo-script-interpreter2:amd64.\n",
            "Preparing to unpack .../061-libcairo-script-interpreter2_1.16.0-4ubuntu1_amd64.deb ...\n",
            "Unpacking libcairo-script-interpreter2:amd64 (1.16.0-4ubuntu1) ...\n",
            "Selecting previously unselected package libpixman-1-dev:amd64.\n",
            "Preparing to unpack .../062-libpixman-1-dev_0.38.4-0ubuntu2.1_amd64.deb ...\n",
            "Unpacking libpixman-1-dev:amd64 (0.38.4-0ubuntu2.1) ...\n",
            "Selecting previously unselected package libxcb-render0-dev:amd64.\n",
            "Preparing to unpack .../063-libxcb-render0-dev_1.14-2_amd64.deb ...\n",
            "Unpacking libxcb-render0-dev:amd64 (1.14-2) ...\n",
            "Selecting previously unselected package libxcb-shm0-dev:amd64.\n",
            "Preparing to unpack .../064-libxcb-shm0-dev_1.14-2_amd64.deb ...\n",
            "Unpacking libxcb-shm0-dev:amd64 (1.14-2) ...\n",
            "Selecting previously unselected package libffi-dev:amd64.\n",
            "Preparing to unpack .../065-libffi-dev_3.3-4_amd64.deb ...\n",
            "Unpacking libffi-dev:amd64 (3.3-4) ...\n",
            "Selecting previously unselected package libglib2.0-dev-bin.\n",
            "Preparing to unpack .../066-libglib2.0-dev-bin_2.64.6-1~ubuntu20.04.4_amd64.deb ...\n",
            "Unpacking libglib2.0-dev-bin (2.64.6-1~ubuntu20.04.4) ...\n",
            "Selecting previously unselected package libblkid-dev:amd64.\n",
            "Preparing to unpack .../067-libblkid-dev_2.34-0.1ubuntu9.3_amd64.deb ...\n",
            "Unpacking libblkid-dev:amd64 (2.34-0.1ubuntu9.3) ...\n",
            "Selecting previously unselected package libmount-dev:amd64.\n",
            "Preparing to unpack .../068-libmount-dev_2.34-0.1ubuntu9.3_amd64.deb ...\n",
            "Unpacking libmount-dev:amd64 (2.34-0.1ubuntu9.3) ...\n",
            "Selecting previously unselected package libsepol1-dev:amd64.\n",
            "Preparing to unpack .../069-libsepol1-dev_3.0-1ubuntu0.1_amd64.deb ...\n",
            "Unpacking libsepol1-dev:amd64 (3.0-1ubuntu0.1) ...\n",
            "Selecting previously unselected package libselinux1-dev:amd64.\n",
            "Preparing to unpack .../070-libselinux1-dev_3.0-1build2_amd64.deb ...\n",
            "Unpacking libselinux1-dev:amd64 (3.0-1build2) ...\n",
            "Selecting previously unselected package libglib2.0-dev:amd64.\n",
            "Preparing to unpack .../071-libglib2.0-dev_2.64.6-1~ubuntu20.04.4_amd64.deb ...\n",
            "Unpacking libglib2.0-dev:amd64 (2.64.6-1~ubuntu20.04.4) ...\n",
            "Selecting previously unselected package libcairo2-dev:amd64.\n",
            "Preparing to unpack .../072-libcairo2-dev_1.16.0-4ubuntu1_amd64.deb ...\n",
            "Unpacking libcairo2-dev:amd64 (1.16.0-4ubuntu1) ...\n",
            "Selecting previously unselected package libcommons-parent-java.\n",
            "Preparing to unpack .../073-libcommons-parent-java_43-1_all.deb ...\n",
            "Unpacking libcommons-parent-java (43-1) ...\n",
            "Selecting previously unselected package libcommons-logging-java.\n",
            "Preparing to unpack .../074-libcommons-logging-java_1.2-2_all.deb ...\n",
            "Unpacking libcommons-logging-java (1.2-2) ...\n",
            "Selecting previously unselected package libdatrie-dev:amd64.\n",
            "Preparing to unpack .../075-libdatrie-dev_0.2.12-3_amd64.deb ...\n",
            "Unpacking libdatrie-dev:amd64 (0.2.12-3) ...\n",
            "Selecting previously unselected package libfontenc1:amd64.\n",
            "Preparing to unpack .../076-libfontenc1_1%3a1.1.4-0ubuntu1_amd64.deb ...\n",
            "Unpacking libfontenc1:amd64 (1:1.1.4-0ubuntu1) ...\n",
            "Selecting previously unselected package libfribidi-dev:amd64.\n",
            "Preparing to unpack .../077-libfribidi-dev_1.0.8-2ubuntu0.1_amd64.deb ...\n",
            "Unpacking libfribidi-dev:amd64 (1.0.8-2ubuntu0.1) ...\n",
            "Selecting previously unselected package libgraphite2-dev:amd64.\n",
            "Preparing to unpack .../078-libgraphite2-dev_1.3.13-11build1_amd64.deb ...\n",
            "Unpacking libgraphite2-dev:amd64 (1.3.13-11build1) ...\n",
            "Selecting previously unselected package libharfbuzz-icu0:amd64.\n",
            "Preparing to unpack .../079-libharfbuzz-icu0_2.6.4-1ubuntu4.2_amd64.deb ...\n",
            "Unpacking libharfbuzz-icu0:amd64 (2.6.4-1ubuntu4.2) ...\n",
            "Selecting previously unselected package libharfbuzz-gobject0:amd64.\n",
            "Preparing to unpack .../080-libharfbuzz-gobject0_2.6.4-1ubuntu4.2_amd64.deb ...\n",
            "Unpacking libharfbuzz-gobject0:amd64 (2.6.4-1ubuntu4.2) ...\n",
            "Selecting previously unselected package libharfbuzz-dev:amd64.\n",
            "Preparing to unpack .../081-libharfbuzz-dev_2.6.4-1ubuntu4.2_amd64.deb ...\n",
            "Unpacking libharfbuzz-dev:amd64 (2.6.4-1ubuntu4.2) ...\n",
            "Selecting previously unselected package libjs-jquery.\n",
            "Preparing to unpack .../082-libjs-jquery_3.3.1~dfsg-3_all.deb ...\n",
            "Unpacking libjs-jquery (3.3.1~dfsg-3) ...\n",
            "Selecting previously unselected package libthai-dev:amd64.\n",
            "Preparing to unpack .../083-libthai-dev_0.1.28-3_amd64.deb ...\n",
            "Unpacking libthai-dev:amd64 (0.1.28-3) ...\n",
            "Selecting previously unselected package pango1.0-tools.\n",
            "Preparing to unpack .../084-pango1.0-tools_1.44.7-2ubuntu4_amd64.deb ...\n",
            "Unpacking pango1.0-tools (1.44.7-2ubuntu4) ...\n",
            "Selecting previously unselected package libpango1.0-dev:amd64.\n",
            "Preparing to unpack .../085-libpango1.0-dev_1.44.7-2ubuntu4_amd64.deb ...\n",
            "Unpacking libpango1.0-dev:amd64 (1.44.7-2ubuntu4) ...\n",
            "Selecting previously unselected package libptexenc1:amd64.\n",
            "Preparing to unpack .../086-libptexenc1_2019.20190605.51237-3build2_amd64.deb ...\n",
            "Unpacking libptexenc1:amd64 (2019.20190605.51237-3build2) ...\n",
            "Selecting previously unselected package rubygems-integration.\n",
            "Preparing to unpack .../087-rubygems-integration_1.16_all.deb ...\n",
            "Unpacking rubygems-integration (1.16) ...\n",
            "Selecting previously unselected package ruby2.7.\n",
            "Preparing to unpack .../088-ruby2.7_2.7.0-5ubuntu1.8_amd64.deb ...\n",
            "Unpacking ruby2.7 (2.7.0-5ubuntu1.8) ...\n",
            "Selecting previously unselected package ruby.\n",
            "Preparing to unpack .../089-ruby_1%3a2.7+1_amd64.deb ...\n",
            "Unpacking ruby (1:2.7+1) ...\n",
            "Selecting previously unselected package rake.\n",
            "Preparing to unpack .../090-rake_13.0.1-4_all.deb ...\n",
            "Unpacking rake (13.0.1-4) ...\n",
            "Selecting previously unselected package ruby-minitest.\n",
            "Preparing to unpack .../091-ruby-minitest_5.13.0-1_all.deb ...\n",
            "Unpacking ruby-minitest (5.13.0-1) ...\n",
            "Selecting previously unselected package ruby-net-telnet.\n",
            "Preparing to unpack .../092-ruby-net-telnet_0.1.1-2_all.deb ...\n",
            "Unpacking ruby-net-telnet (0.1.1-2) ...\n",
            "Selecting previously unselected package ruby-power-assert.\n",
            "Preparing to unpack .../093-ruby-power-assert_1.1.7-1_all.deb ...\n",
            "Unpacking ruby-power-assert (1.1.7-1) ...\n",
            "Selecting previously unselected package ruby-test-unit.\n",
            "Preparing to unpack .../094-ruby-test-unit_3.3.5-1_all.deb ...\n",
            "Unpacking ruby-test-unit (3.3.5-1) ...\n",
            "Selecting previously unselected package ruby-xmlrpc.\n",
            "Preparing to unpack .../095-ruby-xmlrpc_0.3.0-2_all.deb ...\n",
            "Unpacking ruby-xmlrpc (0.3.0-2) ...\n",
            "Selecting previously unselected package libruby2.7:amd64.\n",
            "Preparing to unpack .../096-libruby2.7_2.7.0-5ubuntu1.8_amd64.deb ...\n",
            "Unpacking libruby2.7:amd64 (2.7.0-5ubuntu1.8) ...\n",
            "Selecting previously unselected package libsynctex2:amd64.\n",
            "Preparing to unpack .../097-libsynctex2_2019.20190605.51237-3build2_amd64.deb ...\n",
            "Unpacking libsynctex2:amd64 (2019.20190605.51237-3build2) ...\n",
            "Selecting previously unselected package libteckit0:amd64.\n",
            "Preparing to unpack .../098-libteckit0_2.5.8+ds2-5ubuntu2_amd64.deb ...\n",
            "Unpacking libteckit0:amd64 (2.5.8+ds2-5ubuntu2) ...\n",
            "Selecting previously unselected package libtexlua53:amd64.\n",
            "Preparing to unpack .../099-libtexlua53_2019.20190605.51237-3build2_amd64.deb ...\n",
            "Unpacking libtexlua53:amd64 (2019.20190605.51237-3build2) ...\n",
            "Selecting previously unselected package libtexluajit2:amd64.\n",
            "Preparing to unpack .../100-libtexluajit2_2019.20190605.51237-3build2_amd64.deb ...\n",
            "Unpacking libtexluajit2:amd64 (2019.20190605.51237-3build2) ...\n",
            "Selecting previously unselected package libzzip-0-13:amd64.\n",
            "Preparing to unpack .../101-libzzip-0-13_0.13.62-3.2ubuntu1_amd64.deb ...\n",
            "Unpacking libzzip-0-13:amd64 (0.13.62-3.2ubuntu1) ...\n",
            "Selecting previously unselected package xfonts-encodings.\n",
            "Preparing to unpack .../102-xfonts-encodings_1%3a1.0.5-0ubuntu1_all.deb ...\n",
            "Unpacking xfonts-encodings (1:1.0.5-0ubuntu1) ...\n",
            "Selecting previously unselected package xfonts-utils.\n",
            "Preparing to unpack .../103-xfonts-utils_1%3a7.7+6_amd64.deb ...\n",
            "Unpacking xfonts-utils (1:7.7+6) ...\n",
            "Selecting previously unselected package lmodern.\n",
            "Preparing to unpack .../104-lmodern_2.004.5-6_all.deb ...\n",
            "Unpacking lmodern (2.004.5-6) ...\n",
            "Selecting previously unselected package preview-latex-style.\n",
            "Preparing to unpack .../105-preview-latex-style_11.91-2ubuntu2_all.deb ...\n",
            "Unpacking preview-latex-style (11.91-2ubuntu2) ...\n",
            "Selecting previously unselected package t1utils.\n",
            "Preparing to unpack .../106-t1utils_1.41-3_amd64.deb ...\n",
            "Unpacking t1utils (1.41-3) ...\n",
            "Selecting previously unselected package tex-gyre.\n",
            "Preparing to unpack .../107-tex-gyre_20180621-3_all.deb ...\n",
            "Unpacking tex-gyre (20180621-3) ...\n",
            "Selecting previously unselected package texlive-binaries.\n",
            "Preparing to unpack .../108-texlive-binaries_2019.20190605.51237-3build2_amd64.deb ...\n",
            "Unpacking texlive-binaries (2019.20190605.51237-3build2) ...\n",
            "Selecting previously unselected package texlive-base.\n",
            "Preparing to unpack .../109-texlive-base_2019.20200218-1_all.deb ...\n",
            "Unpacking texlive-base (2019.20200218-1) ...\n",
            "Selecting previously unselected package texlive-fonts-recommended.\n",
            "Preparing to unpack .../110-texlive-fonts-recommended_2019.20200218-1_all.deb ...\n",
            "Unpacking texlive-fonts-recommended (2019.20200218-1) ...\n",
            "Selecting previously unselected package texlive-latex-base.\n",
            "Preparing to unpack .../111-texlive-latex-base_2019.20200218-1_all.deb ...\n",
            "Unpacking texlive-latex-base (2019.20200218-1) ...\n",
            "Selecting previously unselected package texlive-latex-recommended.\n",
            "Preparing to unpack .../112-texlive-latex-recommended_2019.20200218-1_all.deb ...\n",
            "Unpacking texlive-latex-recommended (2019.20200218-1) ...\n",
            "Selecting previously unselected package texlive.\n",
            "Preparing to unpack .../113-texlive_2019.20200218-1_all.deb ...\n",
            "Unpacking texlive (2019.20200218-1) ...\n",
            "Selecting previously unselected package texlive-fonts-extra.\n",
            "Preparing to unpack .../114-texlive-fonts-extra_2019.202000218-1_all.deb ...\n",
            "Unpacking texlive-fonts-extra (2019.202000218-1) ...\n",
            "Selecting previously unselected package fonts-stix.\n",
            "Preparing to unpack .../115-fonts-stix_1.1.1-4_all.deb ...\n",
            "Unpacking fonts-stix (1.1.1-4) ...\n",
            "Selecting previously unselected package texlive-fonts-extra-links.\n",
            "Preparing to unpack .../116-texlive-fonts-extra-links_2019.202000218-1_all.deb ...\n",
            "Unpacking texlive-fonts-extra-links (2019.202000218-1) ...\n",
            "Selecting previously unselected package texlive-lang-greek.\n",
            "Preparing to unpack .../117-texlive-lang-greek_2019.20200218-1_all.deb ...\n",
            "Unpacking texlive-lang-greek (2019.20200218-1) ...\n",
            "Selecting previously unselected package libfontbox-java.\n",
            "Preparing to unpack .../118-libfontbox-java_1%3a1.8.16-2_all.deb ...\n",
            "Unpacking libfontbox-java (1:1.8.16-2) ...\n",
            "Selecting previously unselected package libpdfbox-java.\n",
            "Preparing to unpack .../119-libpdfbox-java_1%3a1.8.16-2_all.deb ...\n",
            "Unpacking libpdfbox-java (1:1.8.16-2) ...\n",
            "Selecting previously unselected package texlive-pictures.\n",
            "Preparing to unpack .../120-texlive-pictures_2019.20200218-1_all.deb ...\n",
            "Unpacking texlive-pictures (2019.20200218-1) ...\n",
            "Selecting previously unselected package texlive-latex-extra.\n",
            "Preparing to unpack .../121-texlive-latex-extra_2019.202000218-1_all.deb ...\n",
            "Unpacking texlive-latex-extra (2019.202000218-1) ...\n",
            "Selecting previously unselected package texlive-plain-generic.\n",
            "Preparing to unpack .../122-texlive-plain-generic_2019.202000218-1_all.deb ...\n",
            "Unpacking texlive-plain-generic (2019.202000218-1) ...\n",
            "Selecting previously unselected package texlive-science.\n",
            "Preparing to unpack .../123-texlive-science_2019.202000218-1_all.deb ...\n",
            "Unpacking texlive-science (2019.202000218-1) ...\n",
            "Selecting previously unselected package tipa.\n",
            "Preparing to unpack .../124-tipa_2%3a1.3-20_all.deb ...\n",
            "Unpacking tipa (2:1.3-20) ...\n",
            "Setting up javascript-common (11) ...\n",
            "Setting up libglib2.0-dev-bin (2.64.6-1~ubuntu20.04.4) ...\n",
            "Setting up fonts-gfs-didot (1.1-6) ...\n",
            "Setting up fonts-gfs-artemisia (1.1-5) ...\n",
            "Setting up libblkid-dev:amd64 (2.34-0.1ubuntu9.3) ...\n",
            "Setting up fonts-sil-gentium-basic (1.102-1) ...\n",
            "Setting up fonts-cantarell (0.111-2) ...\n",
            "Setting up gir1.2-freedesktop:amd64 (1.64.1-1~ubuntu20.04.1) ...\n",
            "Setting up fonts-ebgaramond (0.016-1ubuntu1) ...\n",
            "Setting up libharfbuzz-icu0:amd64 (2.6.4-1ubuntu4.2) ...\n",
            "Setting up fonts-lato (2.0-2) ...\n",
            "Setting up libpixman-1-dev:amd64 (0.38.4-0ubuntu2.1) ...\n",
            "Setting up fonts-junicode (1.002-2) ...\n",
            "Setting up fonts-noto-mono (20200323-1build1~ubuntu20.04.1) ...\n",
            "Setting up libpangoxft-1.0-0:amd64 (1.44.7-2ubuntu4) ...\n",
            "Setting up fonts-gfs-porson (1.1-6) ...\n",
            "Setting up libwoff1:amd64 (1.0.2-1build2) ...\n",
            "Setting up ruby-power-assert (1.1.7-1) ...\n",
            "Setting up libtexlua53:amd64 (2019.20190605.51237-3build2) ...\n",
            "Setting up fonts-adf-berenis (0.20190904-1.1) ...\n",
            "Setting up libijs-0.35:amd64 (0.35-15) ...\n",
            "Setting up libfribidi-dev:amd64 (1.0.8-2ubuntu0.1) ...\n",
            "Setting up libtexluajit2:amd64 (2019.20190605.51237-3build2) ...\n",
            "Setting up libfontbox-java (1:1.8.16-2) ...\n",
            "Setting up fonts-freefont-otf (20120503-10) ...\n",
            "Setting up pango1.0-tools (1.44.7-2ubuntu4) ...\n",
            "Setting up libsepol1-dev:amd64 (3.0-1ubuntu0.1) ...\n",
            "Setting up fonts-freefont-ttf (20120503-10) ...\n",
            "Setting up fonts-gfs-solomos (1.1-5) ...\n",
            "Setting up fonts-comfortaa (3.001-3) ...\n",
            "Setting up liblzo2-2:amd64 (2.10-2) ...\n",
            "Setting up rubygems-integration (1.16) ...\n",
            "Setting up libzzip-0-13:amd64 (0.13.62-3.2ubuntu1) ...\n",
            "Setting up fonts-sil-gentiumplus-compact (5.000-2) ...\n",
            "Setting up libharfbuzz-gobject0:amd64 (2.6.4-1ubuntu4.2) ...\n",
            "Setting up fonts-roboto-unhinted (2:0~20170802-3) ...\n",
            "Setting up fonts-urw-base35 (20170801.1-3) ...\n",
            "Setting up fonts-open-sans (1.11-1) ...\n",
            "Setting up fonts-sil-gentiumplus (5.000-2) ...\n",
            "Setting up libffi-dev:amd64 (3.3-4) ...\n",
            "Setting up gir1.2-harfbuzz-0.0:amd64 (2.6.4-1ubuntu4.2) ...\n",
            "Setting up fonts-gfs-neohellenic (1.1-6) ...\n",
            "Setting up fonts-gfs-olga (1.1-5) ...\n",
            "Setting up fonts-oflb-asana-math (000.907-6) ...\n",
            "Setting up poppler-data (0.4.9-2) ...\n",
            "Setting up fonts-crosextra-carlito (20130920-1) ...\n",
            "Setting up ruby-minitest (5.13.0-1) ...\n",
            "Setting up fonts-adf-accanthis (0.20190904-1.1) ...\n",
            "Setting up tex-common (6.13) ...\n",
            "debconf: unable to initialize frontend: Dialog\n",
            "debconf: (No usable dialog-like program is installed, so the dialog based frontend cannot be used. at /usr/share/perl5/Debconf/FrontEnd/Dialog.pm line 76.)\n",
            "debconf: falling back to frontend: Readline\n",
            "update-language: texlive-base not installed and configured, doing nothing!\n",
            "Setting up fonts-sil-gentium (20081126:1.03-2) ...\n",
            "Setting up libxcb-shm0-dev:amd64 (1.14-2) ...\n",
            "Setting up fonts-adf-universalis (0.20190904-1.1) ...\n",
            "Setting up libgraphite2-dev:amd64 (1.3.13-11build1) ...\n",
            "Setting up libfontenc1:amd64 (1:1.1.4-0ubuntu1) ...\n",
            "Setting up gir1.2-pango-1.0:amd64 (1.44.7-2ubuntu4) ...\n",
            "Setting up fonts-stix (1.1.1-4) ...\n",
            "Setting up ruby-test-unit (3.3.5-1) ...\n",
            "Setting up libjbig2dec0:amd64 (0.18-1ubuntu1) ...\n",
            "Setting up fonts-go (0~20170330-1) ...\n",
            "Setting up libidn11:amd64 (1.33-2.2ubuntu2) ...\n",
            "Setting up libteckit0:amd64 (2.5.8+ds2-5ubuntu2) ...\n",
            "Setting up libapache-pom-java (18-1) ...\n",
            "Setting up ruby-net-telnet (0.1.1-2) ...\n",
            "Setting up fonts-cabin (1.5-3) ...\n",
            "Setting up xfonts-encodings (1:1.0.5-0ubuntu1) ...\n",
            "Setting up t1utils (1.41-3) ...\n",
            "Setting up fonts-dejavu-core (2.37-1) ...\n",
            "Setting up libxcb-render0-dev:amd64 (1.14-2) ...\n",
            "Setting up fonts-texgyre (20180621-3) ...\n",
            "Setting up fonts-linuxlibertine (5.3.0-4) ...\n",
            "Setting up libkpathsea6:amd64 (2019.20190605.51237-3build2) ...\n",
            "Setting up fonts-croscore (20200323-1build1~ubuntu20.04.1) ...\n",
            "Setting up fonts-dejavu-extra (2.37-1) ...\n",
            "Setting up libdatrie-dev:amd64 (0.2.12-3) ...\n",
            "Setting up fonts-gfs-baskerville (1.1-5) ...\n",
            "Setting up fonts-gfs-complutum (1.1-6) ...\n",
            "Setting up fonts-crosextra-caladea (20130214-2) ...\n",
            "Setting up fonts-lmodern (2.004.5-6) ...\n",
            "Setting up fonts-ebgaramond-extra (0.016-1ubuntu1) ...\n",
            "Setting up fonts-lobster (2.0-2) ...\n",
            "Setting up fonts-droid-fallback (1:6.0.1r16-1.1) ...\n",
            "Setting up libjs-jquery (3.3.1~dfsg-3) ...\n",
            "Setting up fonts-adf-gillius (0.20190904-1.1) ...\n",
            "Setting up ruby-xmlrpc (0.3.0-2) ...\n",
            "Setting up fonts-noto-core (20200323-1build1~ubuntu20.04.1) ...\n",
            "Setting up fonts-font-awesome (5.0.10+really4.7.0~dfsg-1) ...\n",
            "Setting up libmount-dev:amd64 (2.34-0.1ubuntu9.3) ...\n",
            "Setting up libsynctex2:amd64 (2019.20190605.51237-3build2) ...\n",
            "Setting up libgs9-common (9.50~dfsg-5ubuntu4.6) ...\n",
            "Setting up libcairo-script-interpreter2:amd64 (1.16.0-4ubuntu1) ...\n",
            "Setting up libpdfbox-java (1:1.8.16-2) ...\n",
            "Setting up libgs9:amd64 (9.50~dfsg-5ubuntu4.6) ...\n",
            "Setting up libselinux1-dev:amd64 (3.0-1build2) ...\n",
            "Setting up preview-latex-style (11.91-2ubuntu2) ...\n",
            "Setting up libcommons-parent-java (43-1) ...\n",
            "Setting up dvisvgm (2.8.1-1build1) ...\n",
            "Setting up libcommons-logging-java (1.2-2) ...\n",
            "Setting up xfonts-utils (1:7.7+6) ...\n",
            "Setting up fonts-lobstertwo (2.0-2) ...\n",
            "Setting up libptexenc1:amd64 (2019.20190605.51237-3build2) ...\n",
            "Setting up libglib2.0-dev:amd64 (2.64.6-1~ubuntu20.04.4) ...\n",
            "Setting up texlive-fonts-extra-links (2019.202000218-1) ...\n",
            "Setting up libthai-dev:amd64 (0.1.28-3) ...\n",
            "Setting up texlive-binaries (2019.20190605.51237-3build2) ...\n",
            "update-alternatives: using /usr/bin/xdvi-xaw to provide /usr/bin/xdvi.bin (xdvi.bin) in auto mode\n",
            "update-alternatives: using /usr/bin/bibtex.original to provide /usr/bin/bibtex (bibtex) in auto mode\n",
            "Setting up lmodern (2.004.5-6) ...\n",
            "Setting up texlive-base (2019.20200218-1) ...\n",
            "mktexlsr: Updating /var/lib/texmf/ls-R-TEXLIVEDIST... \n",
            "mktexlsr: Updating /var/lib/texmf/ls-R-TEXMFMAIN... \n",
            "mktexlsr: Updating /var/lib/texmf/ls-R... \n",
            "mktexlsr: Done.\n",
            "tl-paper: setting paper size for dvips to a4: /var/lib/texmf/dvips/config/config-paper.ps\n",
            "tl-paper: setting paper size for dvipdfmx to a4: /var/lib/texmf/dvipdfmx/dvipdfmx-paper.cfg\n",
            "tl-paper: setting paper size for xdvi to a4: /var/lib/texmf/xdvi/XDvi-paper\n",
            "tl-paper: setting paper size for pdftex to a4: /var/lib/texmf/tex/generic/config/pdftexconfig.tex\n",
            "debconf: unable to initialize frontend: Dialog\n",
            "debconf: (No usable dialog-like program is installed, so the dialog based frontend cannot be used. at /usr/share/perl5/Debconf/FrontEnd/Dialog.pm line 76.)\n",
            "debconf: falling back to frontend: Readline\n",
            "Setting up tex-gyre (20180621-3) ...\n",
            "Setting up texlive-plain-generic (2019.202000218-1) ...\n",
            "Setting up texlive-lang-greek (2019.20200218-1) ...\n",
            "Setting up texlive-latex-base (2019.20200218-1) ...\n",
            "Setting up texlive-fonts-extra (2019.202000218-1) ...\n",
            "Setting up texlive-latex-recommended (2019.20200218-1) ...\n",
            "Setting up texlive-pictures (2019.20200218-1) ...\n",
            "Setting up texlive-fonts-recommended (2019.20200218-1) ...\n",
            "Setting up tipa (2:1.3-20) ...\n",
            "Regenerating '/var/lib/texmf/fmtutil.cnf-DEBIAN'... done.\n",
            "Regenerating '/var/lib/texmf/fmtutil.cnf-TEXLIVEDIST'... done.\n",
            "update-fmtutil has updated the following file(s):\n",
            "\t/var/lib/texmf/fmtutil.cnf-DEBIAN\n",
            "\t/var/lib/texmf/fmtutil.cnf-TEXLIVEDIST\n",
            "If you want to activate the changes in the above file(s),\n",
            "you should run fmtutil-sys or fmtutil.\n",
            "Setting up texlive (2019.20200218-1) ...\n",
            "Setting up texlive-science (2019.202000218-1) ...\n",
            "Setting up texlive-latex-extra (2019.202000218-1) ...\n",
            "Setting up libruby2.7:amd64 (2.7.0-5ubuntu1.8) ...\n",
            "Setting up ruby2.7 (2.7.0-5ubuntu1.8) ...\n",
            "Setting up ruby (1:2.7+1) ...\n",
            "Setting up rake (13.0.1-4) ...\n",
            "Processing triggers for fontconfig (2.13.1-2ubuntu3) ...\n",
            "Processing triggers for mime-support (3.64ubuntu1) ...\n",
            "Processing triggers for libglib2.0-0:amd64 (2.64.6-1~ubuntu20.04.4) ...\n",
            "Processing triggers for libc-bin (2.31-0ubuntu9.9) ...\n",
            "Processing triggers for man-db (2.9.1-1) ...\n",
            "Setting up libcairo2-dev:amd64 (1.16.0-4ubuntu1) ...\n",
            "Setting up libharfbuzz-dev:amd64 (2.6.4-1ubuntu4.2) ...\n",
            "Setting up libpango1.0-dev:amd64 (1.44.7-2ubuntu4) ...\n",
            "Processing triggers for tex-common (6.13) ...\n",
            "debconf: unable to initialize frontend: Dialog\n",
            "debconf: (No usable dialog-like program is installed, so the dialog based frontend cannot be used. at /usr/share/perl5/Debconf/FrontEnd/Dialog.pm line 76.)\n",
            "debconf: falling back to frontend: Readline\n",
            "Running updmap-sys. This may take some time... done.\n",
            "Running mktexlsr /var/lib/texmf ... done.\n",
            "Building format(s) --all.\n",
            "\tThis may take some time... done.\n"
          ]
        }
      ],
      "source": [
        "!sudo apt update\n",
        "!sudo apt install libcairo2-dev ffmpeg \\\n",
        "    texlive texlive-latex-extra texlive-fonts-extra \\\n",
        "    texlive-latex-recommended texlive-science \\\n",
        "    tipa libpango1.0-dev\n"
      ]
    },
    {
      "cell_type": "code",
      "source": [
        "\n",
        "!pip install manim"
      ],
      "metadata": {
        "colab": {
          "base_uri": "https://localhost:8080/"
        },
        "id": "iH1g0har7dbD",
        "outputId": "18e04844-20d6-4b91-b57d-ccd84e67f62e"
      },
      "execution_count": 2,
      "outputs": [
        {
          "output_type": "stream",
          "name": "stdout",
          "text": [
            "Looking in indexes: https://pypi.org/simple, https://us-python.pkg.dev/colab-wheels/public/simple/\n",
            "Collecting manim\n",
            "  Downloading manim-0.17.3-py3-none-any.whl (530 kB)\n",
            "\u001b[2K     \u001b[90m━━━━━━━━━━━━━━━━━━━━━━━━━━━━━━━━━━━━━━━\u001b[0m \u001b[32m530.2/530.2 kB\u001b[0m \u001b[31m9.5 MB/s\u001b[0m eta \u001b[36m0:00:00\u001b[0m\n",
            "\u001b[?25hRequirement already satisfied: tqdm<5.0.0,>=4.62.3 in /usr/local/lib/python3.9/dist-packages (from manim) (4.65.0)\n",
            "Collecting networkx<3.0,>=2.5\n",
            "  Downloading networkx-2.8.8-py3-none-any.whl (2.0 MB)\n",
            "\u001b[2K     \u001b[90m━━━━━━━━━━━━━━━━━━━━━━━━━━━━━━━━━━━━━━━━\u001b[0m \u001b[32m2.0/2.0 MB\u001b[0m \u001b[31m49.5 MB/s\u001b[0m eta \u001b[36m0:00:00\u001b[0m\n",
            "\u001b[?25hRequirement already satisfied: rich!=12.0.0,>=6.0 in /usr/local/lib/python3.9/dist-packages (from manim) (13.3.3)\n",
            "Collecting cloup<0.14.0,>=0.13.0\n",
            "  Downloading cloup-0.13.1-py2.py3-none-any.whl (51 kB)\n",
            "\u001b[2K     \u001b[90m━━━━━━━━━━━━━━━━━━━━━━━━━━━━━━━━━━━━━━━━\u001b[0m \u001b[32m51.8/51.8 kB\u001b[0m \u001b[31m5.2 MB/s\u001b[0m eta \u001b[36m0:00:00\u001b[0m\n",
            "\u001b[?25hCollecting decorator<6.0.0,>=5.0.7\n",
            "  Downloading decorator-5.1.1-py3-none-any.whl (9.1 kB)\n",
            "Collecting pycairo<2.0,>=1.21\n",
            "  Downloading pycairo-1.23.0.tar.gz (344 kB)\n",
            "\u001b[2K     \u001b[90m━━━━━━━━━━━━━━━━━━━━━━━━━━━━━━━━━━━━━━\u001b[0m \u001b[32m344.6/344.6 kB\u001b[0m \u001b[31m25.1 MB/s\u001b[0m eta \u001b[36m0:00:00\u001b[0m\n",
            "\u001b[?25h  Installing build dependencies ... \u001b[?25l\u001b[?25hdone\n",
            "  Getting requirements to build wheel ... \u001b[?25l\u001b[?25hdone\n",
            "  Installing backend dependencies ... \u001b[?25l\u001b[?25hdone\n",
            "  Preparing metadata (pyproject.toml) ... \u001b[?25l\u001b[?25hdone\n",
            "Requirement already satisfied: scipy<2.0.0,>=1.7.3 in /usr/local/lib/python3.9/dist-packages (from manim) (1.10.1)\n",
            "Collecting moderngl-window<3.0.0,>=2.3.0\n",
            "  Downloading moderngl_window-2.4.3-py3-none-any.whl (369 kB)\n",
            "\u001b[2K     \u001b[90m━━━━━━━━━━━━━━━━━━━━━━━━━━━━━━━━━━━━━━\u001b[0m \u001b[32m369.2/369.2 kB\u001b[0m \u001b[31m26.8 MB/s\u001b[0m eta \u001b[36m0:00:00\u001b[0m\n",
            "\u001b[?25hCollecting screeninfo<0.9,>=0.8\n",
            "  Downloading screeninfo-0.8.1-py3-none-any.whl (12 kB)\n",
            "Requirement already satisfied: click<=9.0,>=7.2 in /usr/local/lib/python3.9/dist-packages (from manim) (8.1.3)\n",
            "Collecting skia-pathops<0.8.0,>=0.7.0\n",
            "  Downloading skia_pathops-0.7.4-cp39-cp39-manylinux_2_17_x86_64.manylinux2014_x86_64.whl (3.0 MB)\n",
            "\u001b[2K     \u001b[90m━━━━━━━━━━━━━━━━━━━━━━━━━━━━━━━━━━━━━━━━\u001b[0m \u001b[32m3.0/3.0 MB\u001b[0m \u001b[31m68.3 MB/s\u001b[0m eta \u001b[36m0:00:00\u001b[0m\n",
            "\u001b[?25hCollecting srt<4.0.0,>=3.5.0\n",
            "  Downloading srt-3.5.3.tar.gz (28 kB)\n",
            "  Preparing metadata (setup.py) ... \u001b[?25l\u001b[?25hdone\n",
            "Collecting Pillow<10.0,>=9.1\n",
            "  Downloading Pillow-9.5.0-cp39-cp39-manylinux_2_28_x86_64.whl (3.4 MB)\n",
            "\u001b[2K     \u001b[90m━━━━━━━━━━━━━━━━━━━━━━━━━━━━━━━━━━━━━━━━\u001b[0m \u001b[32m3.4/3.4 MB\u001b[0m \u001b[31m79.8 MB/s\u001b[0m eta \u001b[36m0:00:00\u001b[0m\n",
            "\u001b[?25hCollecting colour<0.2.0,>=0.1.5\n",
            "  Downloading colour-0.1.5-py2.py3-none-any.whl (23 kB)\n",
            "Requirement already satisfied: Pygments<3.0.0,>=2.10.0 in /usr/local/lib/python3.9/dist-packages (from manim) (2.14.0)\n",
            "Requirement already satisfied: requests<3.0.0,>=2.26.0 in /usr/local/lib/python3.9/dist-packages (from manim) (2.27.1)\n",
            "Collecting pydub<0.26.0,>=0.25.1\n",
            "  Downloading pydub-0.25.1-py2.py3-none-any.whl (32 kB)\n",
            "Collecting watchdog<3.0.0,>=2.1.6\n",
            "  Downloading watchdog-2.3.1-py3-none-manylinux2014_x86_64.whl (80 kB)\n",
            "\u001b[2K     \u001b[90m━━━━━━━━━━━━━━━━━━━━━━━━━━━━━━━━━━━━━━━━\u001b[0m \u001b[32m80.6/80.6 kB\u001b[0m \u001b[31m8.8 MB/s\u001b[0m eta \u001b[36m0:00:00\u001b[0m\n",
            "\u001b[?25hCollecting isosurfaces==0.1.0\n",
            "  Downloading isosurfaces-0.1.0-py3-none-any.whl (10 kB)\n",
            "Collecting mapbox-earcut<2.0.0,>=1.0.0\n",
            "  Downloading mapbox_earcut-1.0.1-cp39-cp39-manylinux_2_17_x86_64.manylinux2014_x86_64.whl (105 kB)\n",
            "\u001b[2K     \u001b[90m━━━━━━━━━━━━━━━━━━━━━━━━━━━━━━━━━━━━━━\u001b[0m \u001b[32m105.2/105.2 kB\u001b[0m \u001b[31m10.7 MB/s\u001b[0m eta \u001b[36m0:00:00\u001b[0m\n",
            "\u001b[?25hCollecting click-default-group<2.0.0,>=1.2.2\n",
            "  Downloading click-default-group-1.2.2.tar.gz (3.3 kB)\n",
            "  Preparing metadata (setup.py) ... \u001b[?25l\u001b[?25hdone\n",
            "Collecting moderngl<6.0.0,>=5.6.3\n",
            "  Downloading moderngl-5.8.2-cp39-cp39-manylinux_2_17_x86_64.manylinux2014_x86_64.whl (279 kB)\n",
            "\u001b[2K     \u001b[90m━━━━━━━━━━━━━━━━━━━━━━━━━━━━━━━━━━━━━━\u001b[0m \u001b[32m279.9/279.9 kB\u001b[0m \u001b[31m25.0 MB/s\u001b[0m eta \u001b[36m0:00:00\u001b[0m\n",
            "\u001b[?25hCollecting manimpango<0.5.0,>=0.4.0.post0\n",
            "  Downloading ManimPango-0.4.3.tar.gz (4.1 MB)\n",
            "\u001b[2K     \u001b[90m━━━━━━━━━━━━━━━━━━━━━━━━━━━━━━━━━━━━━━━━\u001b[0m \u001b[32m4.1/4.1 MB\u001b[0m \u001b[31m51.9 MB/s\u001b[0m eta \u001b[36m0:00:00\u001b[0m\n",
            "\u001b[?25h  Installing build dependencies ... \u001b[?25l\u001b[?25hdone\n",
            "  Getting requirements to build wheel ... \u001b[?25l\u001b[?25hdone\n",
            "  Preparing metadata (pyproject.toml) ... \u001b[?25l\u001b[?25hdone\n",
            "Collecting svgelements<2.0.0,>=1.8.0\n",
            "  Downloading svgelements-1.9.1-py2.py3-none-any.whl (134 kB)\n",
            "\u001b[2K     \u001b[90m━━━━━━━━━━━━━━━━━━━━━━━━━━━━━━━━━━━━━━\u001b[0m \u001b[32m134.3/134.3 kB\u001b[0m \u001b[31m14.7 MB/s\u001b[0m eta \u001b[36m0:00:00\u001b[0m\n",
            "\u001b[?25hRequirement already satisfied: numpy<2.0,>=1.19 in /usr/local/lib/python3.9/dist-packages (from manim) (1.22.4)\n",
            "Collecting glcontext<3,>=2.3.6\n",
            "  Downloading glcontext-2.3.7-cp39-cp39-manylinux_2_5_x86_64.manylinux1_x86_64.manylinux_2_17_x86_64.manylinux2014_x86_64.whl (51 kB)\n",
            "\u001b[2K     \u001b[90m━━━━━━━━━━━━━━━━━━━━━━━━━━━━━━━━━━━━━━━━\u001b[0m \u001b[32m51.0/51.0 kB\u001b[0m \u001b[31m5.3 MB/s\u001b[0m eta \u001b[36m0:00:00\u001b[0m\n",
            "\u001b[?25hCollecting pyglet>=2.0dev23\n",
            "  Downloading pyglet-2.0.5-py3-none-any.whl (831 kB)\n",
            "\u001b[2K     \u001b[90m━━━━━━━━━━━━━━━━━━━━━━━━━━━━━━━━━━━━━━\u001b[0m \u001b[32m831.3/831.3 kB\u001b[0m \u001b[31m39.8 MB/s\u001b[0m eta \u001b[36m0:00:00\u001b[0m\n",
            "\u001b[?25hCollecting pyrr<1,>=0.10.3\n",
            "  Downloading pyrr-0.10.3-py3-none-any.whl (46 kB)\n",
            "\u001b[2K     \u001b[90m━━━━━━━━━━━━━━━━━━━━━━━━━━━━━━━━━━━━━━━━\u001b[0m \u001b[32m46.8/46.8 kB\u001b[0m \u001b[31m4.9 MB/s\u001b[0m eta \u001b[36m0:00:00\u001b[0m\n",
            "\u001b[?25hRequirement already satisfied: charset-normalizer~=2.0.0 in /usr/local/lib/python3.9/dist-packages (from requests<3.0.0,>=2.26.0->manim) (2.0.12)\n",
            "Requirement already satisfied: idna<4,>=2.5 in /usr/local/lib/python3.9/dist-packages (from requests<3.0.0,>=2.26.0->manim) (3.4)\n",
            "Requirement already satisfied: certifi>=2017.4.17 in /usr/local/lib/python3.9/dist-packages (from requests<3.0.0,>=2.26.0->manim) (2022.12.7)\n",
            "Requirement already satisfied: urllib3<1.27,>=1.21.1 in /usr/local/lib/python3.9/dist-packages (from requests<3.0.0,>=2.26.0->manim) (1.26.15)\n",
            "Requirement already satisfied: markdown-it-py<3.0.0,>=2.2.0 in /usr/local/lib/python3.9/dist-packages (from rich!=12.0.0,>=6.0->manim) (2.2.0)\n",
            "Requirement already satisfied: mdurl~=0.1 in /usr/local/lib/python3.9/dist-packages (from markdown-it-py<3.0.0,>=2.2.0->rich!=12.0.0,>=6.0->manim) (0.1.2)\n",
            "Requirement already satisfied: multipledispatch in /usr/local/lib/python3.9/dist-packages (from pyrr<1,>=0.10.3->moderngl-window<3.0.0,>=2.3.0->manim) (0.6.0)\n",
            "Requirement already satisfied: six in /usr/local/lib/python3.9/dist-packages (from multipledispatch->pyrr<1,>=0.10.3->moderngl-window<3.0.0,>=2.3.0->manim) (1.16.0)\n",
            "Building wheels for collected packages: click-default-group, manimpango, pycairo, srt\n",
            "  Building wheel for click-default-group (setup.py) ... \u001b[?25l\u001b[?25hdone\n",
            "  Created wheel for click-default-group: filename=click_default_group-1.2.2-py3-none-any.whl size=3383 sha256=3ac113b67c10e8c26b4afa9157501cd3e76d0a7008a79b34a9d2d3a4ae943e2f\n",
            "  Stored in directory: /root/.cache/pip/wheels/f1/e3/67/f79591b232f0deb8e51317fa288eef8b996e2d6cf033bdc1a0\n",
            "  Building wheel for manimpango (pyproject.toml) ... \u001b[?25l\u001b[?25hdone\n",
            "  Created wheel for manimpango: filename=ManimPango-0.4.3-cp39-cp39-linux_x86_64.whl size=346383 sha256=911e44662fa13d8a2c9c27bb5aead557f5e4041209085d72828dd6b11cb5a2dd\n",
            "  Stored in directory: /root/.cache/pip/wheels/c2/66/10/fd3dffdbb6e537b8603dba835a892ed62fef805c413f794db0\n",
            "  Building wheel for pycairo (pyproject.toml) ... \u001b[?25l\u001b[?25hdone\n",
            "  Created wheel for pycairo: filename=pycairo-1.23.0-cp39-cp39-linux_x86_64.whl size=326974 sha256=25f4e6c77849eb18bdc5ed64aae5795ba8beeb7ae814f26a77fc59490498e7b2\n",
            "  Stored in directory: /root/.cache/pip/wheels/7e/33/44/ed63d7850b41775b9c99e2677fe7cc4c6afd3b3eb767be75e7\n",
            "  Building wheel for srt (setup.py) ... \u001b[?25l\u001b[?25hdone\n",
            "  Created wheel for srt: filename=srt-3.5.3-py3-none-any.whl size=22445 sha256=5cf843a492b9aa09bd11b5282fbcdfe53e001341f176d1128924badb5b9058a8\n",
            "  Stored in directory: /root/.cache/pip/wheels/69/cb/6a/5e5977c5c1fab3b94ff429718103884855b0d5671ed9880100\n",
            "Successfully built click-default-group manimpango pycairo srt\n",
            "Installing collected packages: svgelements, pyglet, pydub, glcontext, colour, watchdog, srt, skia-pathops, screeninfo, pycairo, Pillow, networkx, moderngl, mapbox-earcut, manimpango, isosurfaces, decorator, cloup, click-default-group, pyrr, moderngl-window, manim\n",
            "  Attempting uninstall: Pillow\n",
            "    Found existing installation: Pillow 8.4.0\n",
            "    Uninstalling Pillow-8.4.0:\n",
            "      Successfully uninstalled Pillow-8.4.0\n",
            "  Attempting uninstall: networkx\n",
            "    Found existing installation: networkx 3.1\n",
            "    Uninstalling networkx-3.1:\n",
            "      Successfully uninstalled networkx-3.1\n",
            "  Attempting uninstall: decorator\n",
            "    Found existing installation: decorator 4.4.2\n",
            "    Uninstalling decorator-4.4.2:\n",
            "      Successfully uninstalled decorator-4.4.2\n",
            "\u001b[31mERROR: pip's dependency resolver does not currently take into account all the packages that are installed. This behaviour is the source of the following dependency conflicts.\n",
            "ipython 7.34.0 requires jedi>=0.16, which is not installed.\n",
            "moviepy 1.0.3 requires decorator<5.0,>=4.0.2, but you have decorator 5.1.1 which is incompatible.\u001b[0m\u001b[31m\n",
            "\u001b[0mSuccessfully installed Pillow-9.5.0 click-default-group-1.2.2 cloup-0.13.1 colour-0.1.5 decorator-5.1.1 glcontext-2.3.7 isosurfaces-0.1.0 manim-0.17.3 manimpango-0.4.3 mapbox-earcut-1.0.1 moderngl-5.8.2 moderngl-window-2.4.3 networkx-2.8.8 pycairo-1.23.0 pydub-0.25.1 pyglet-2.0.5 pyrr-0.10.3 screeninfo-0.8.1 skia-pathops-0.7.4 srt-3.5.3 svgelements-1.9.1 watchdog-2.3.1\n"
          ]
        }
      ]
    },
    {
      "cell_type": "code",
      "source": [
        "!pip install IPython --upgrade"
      ],
      "metadata": {
        "colab": {
          "base_uri": "https://localhost:8080/"
        },
        "id": "VWcM-Xfp7p1M",
        "outputId": "c00a351f-1a29-4cd3-f889-1dc2b62e3646"
      },
      "execution_count": 3,
      "outputs": [
        {
          "output_type": "stream",
          "name": "stdout",
          "text": [
            "Looking in indexes: https://pypi.org/simple, https://us-python.pkg.dev/colab-wheels/public/simple/\n",
            "Requirement already satisfied: IPython in /usr/local/lib/python3.9/dist-packages (7.34.0)\n",
            "Collecting IPython\n",
            "  Downloading ipython-8.12.0-py3-none-any.whl (796 kB)\n",
            "\u001b[2K     \u001b[90m━━━━━━━━━━━━━━━━━━━━━━━━━━━━━━━━━━━━━━\u001b[0m \u001b[32m796.4/796.4 kB\u001b[0m \u001b[31m12.8 MB/s\u001b[0m eta \u001b[36m0:00:00\u001b[0m\n",
            "\u001b[?25hRequirement already satisfied: backcall in /usr/local/lib/python3.9/dist-packages (from IPython) (0.2.0)\n",
            "Requirement already satisfied: pexpect>4.3 in /usr/local/lib/python3.9/dist-packages (from IPython) (4.8.0)\n",
            "Requirement already satisfied: decorator in /usr/local/lib/python3.9/dist-packages (from IPython) (5.1.1)\n",
            "Requirement already satisfied: traitlets>=5 in /usr/local/lib/python3.9/dist-packages (from IPython) (5.7.1)\n",
            "Requirement already satisfied: typing-extensions in /usr/local/lib/python3.9/dist-packages (from IPython) (4.5.0)\n",
            "Collecting stack-data\n",
            "  Downloading stack_data-0.6.2-py3-none-any.whl (24 kB)\n",
            "Requirement already satisfied: prompt-toolkit!=3.0.37,<3.1.0,>=3.0.30 in /usr/local/lib/python3.9/dist-packages (from IPython) (3.0.38)\n",
            "Collecting jedi>=0.16\n",
            "  Downloading jedi-0.18.2-py2.py3-none-any.whl (1.6 MB)\n",
            "\u001b[2K     \u001b[90m━━━━━━━━━━━━━━━━━━━━━━━━━━━━━━━━━━━━━━━━\u001b[0m \u001b[32m1.6/1.6 MB\u001b[0m \u001b[31m53.6 MB/s\u001b[0m eta \u001b[36m0:00:00\u001b[0m\n",
            "\u001b[?25hRequirement already satisfied: matplotlib-inline in /usr/local/lib/python3.9/dist-packages (from IPython) (0.1.6)\n",
            "Requirement already satisfied: pickleshare in /usr/local/lib/python3.9/dist-packages (from IPython) (0.7.5)\n",
            "Requirement already satisfied: pygments>=2.4.0 in /usr/local/lib/python3.9/dist-packages (from IPython) (2.14.0)\n",
            "Requirement already satisfied: parso<0.9.0,>=0.8.0 in /usr/local/lib/python3.9/dist-packages (from jedi>=0.16->IPython) (0.8.3)\n",
            "Requirement already satisfied: ptyprocess>=0.5 in /usr/local/lib/python3.9/dist-packages (from pexpect>4.3->IPython) (0.7.0)\n",
            "Requirement already satisfied: wcwidth in /usr/local/lib/python3.9/dist-packages (from prompt-toolkit!=3.0.37,<3.1.0,>=3.0.30->IPython) (0.2.6)\n",
            "Collecting pure-eval\n",
            "  Downloading pure_eval-0.2.2-py3-none-any.whl (11 kB)\n",
            "Collecting executing>=1.2.0\n",
            "  Downloading executing-1.2.0-py2.py3-none-any.whl (24 kB)\n",
            "Collecting asttokens>=2.1.0\n",
            "  Downloading asttokens-2.2.1-py2.py3-none-any.whl (26 kB)\n",
            "Requirement already satisfied: six in /usr/local/lib/python3.9/dist-packages (from asttokens>=2.1.0->stack-data->IPython) (1.16.0)\n",
            "Installing collected packages: pure-eval, executing, jedi, asttokens, stack-data, IPython\n",
            "  Attempting uninstall: IPython\n",
            "    Found existing installation: ipython 7.34.0\n",
            "    Uninstalling ipython-7.34.0:\n",
            "      Successfully uninstalled ipython-7.34.0\n",
            "\u001b[31mERROR: pip's dependency resolver does not currently take into account all the packages that are installed. This behaviour is the source of the following dependency conflicts.\n",
            "google-colab 1.0.0 requires ipython~=7.34.0, but you have ipython 8.12.0 which is incompatible.\u001b[0m\u001b[31m\n",
            "\u001b[0mSuccessfully installed IPython-8.12.0 asttokens-2.2.1 executing-1.2.0 jedi-0.18.2 pure-eval-0.2.2 stack-data-0.6.2\n"
          ]
        }
      ]
    },
    {
      "cell_type": "code",
      "source": [
        "!pip install manim==0.17.0\n"
      ],
      "metadata": {
        "colab": {
          "base_uri": "https://localhost:8080/"
        },
        "id": "0XTCtksQ8DUa",
        "outputId": "06073147-5c9a-4a3f-dacf-b761f8473eaa"
      },
      "execution_count": 4,
      "outputs": [
        {
          "output_type": "stream",
          "name": "stdout",
          "text": [
            "Looking in indexes: https://pypi.org/simple, https://us-python.pkg.dev/colab-wheels/public/simple/\n",
            "Collecting manim==0.17.0\n",
            "  Downloading manim-0.17.0-py3-none-any.whl (523 kB)\n",
            "\u001b[2K     \u001b[90m━━━━━━━━━━━━━━━━━━━━━━━━━━━━━━━━━━━━━━━\u001b[0m \u001b[32m523.2/523.2 kB\u001b[0m \u001b[31m9.2 MB/s\u001b[0m eta \u001b[36m0:00:00\u001b[0m\n",
            "\u001b[?25hRequirement already satisfied: manimpango<0.5.0,>=0.4.0.post0 in /usr/local/lib/python3.9/dist-packages (from manim==0.17.0) (0.4.3)\n",
            "Requirement already satisfied: watchdog<3.0.0,>=2.1.6 in /usr/local/lib/python3.9/dist-packages (from manim==0.17.0) (2.3.1)\n",
            "Requirement already satisfied: networkx<3.0,>=2.5 in /usr/local/lib/python3.9/dist-packages (from manim==0.17.0) (2.8.8)\n",
            "Requirement already satisfied: cloup<0.14.0,>=0.13.0 in /usr/local/lib/python3.9/dist-packages (from manim==0.17.0) (0.13.1)\n",
            "Requirement already satisfied: screeninfo<0.9,>=0.8 in /usr/local/lib/python3.9/dist-packages (from manim==0.17.0) (0.8.1)\n",
            "Requirement already satisfied: tqdm<5.0.0,>=4.62.3 in /usr/local/lib/python3.9/dist-packages (from manim==0.17.0) (4.65.0)\n",
            "Requirement already satisfied: moderngl-window<3.0.0,>=2.3.0 in /usr/local/lib/python3.9/dist-packages (from manim==0.17.0) (2.4.3)\n",
            "Requirement already satisfied: rich!=12.0.0,>=6.0 in /usr/local/lib/python3.9/dist-packages (from manim==0.17.0) (13.3.3)\n",
            "Requirement already satisfied: click<=9.0,>=7.2 in /usr/local/lib/python3.9/dist-packages (from manim==0.17.0) (8.1.3)\n",
            "Requirement already satisfied: scipy<2.0.0,>=1.7.3 in /usr/local/lib/python3.9/dist-packages (from manim==0.17.0) (1.10.1)\n",
            "Requirement already satisfied: requests<3.0.0,>=2.26.0 in /usr/local/lib/python3.9/dist-packages (from manim==0.17.0) (2.27.1)\n",
            "Requirement already satisfied: decorator<6.0.0,>=5.0.7 in /usr/local/lib/python3.9/dist-packages (from manim==0.17.0) (5.1.1)\n",
            "Requirement already satisfied: numpy<2.0,>=1.19 in /usr/local/lib/python3.9/dist-packages (from manim==0.17.0) (1.22.4)\n",
            "Requirement already satisfied: colour<0.2.0,>=0.1.5 in /usr/local/lib/python3.9/dist-packages (from manim==0.17.0) (0.1.5)\n",
            "Requirement already satisfied: isosurfaces==0.1.0 in /usr/local/lib/python3.9/dist-packages (from manim==0.17.0) (0.1.0)\n",
            "Requirement already satisfied: skia-pathops<0.8.0,>=0.7.0 in /usr/local/lib/python3.9/dist-packages (from manim==0.17.0) (0.7.4)\n",
            "Requirement already satisfied: click-default-group<2.0.0,>=1.2.2 in /usr/local/lib/python3.9/dist-packages (from manim==0.17.0) (1.2.2)\n",
            "Requirement already satisfied: moderngl<6.0.0,>=5.6.3 in /usr/local/lib/python3.9/dist-packages (from manim==0.17.0) (5.8.2)\n",
            "Requirement already satisfied: pycairo<2.0,>=1.21 in /usr/local/lib/python3.9/dist-packages (from manim==0.17.0) (1.23.0)\n",
            "Requirement already satisfied: srt<4.0.0,>=3.5.0 in /usr/local/lib/python3.9/dist-packages (from manim==0.17.0) (3.5.3)\n",
            "Requirement already satisfied: mapbox-earcut<2.0.0,>=1.0.0 in /usr/local/lib/python3.9/dist-packages (from manim==0.17.0) (1.0.1)\n",
            "Requirement already satisfied: Pillow<10.0,>=9.1 in /usr/local/lib/python3.9/dist-packages (from manim==0.17.0) (9.5.0)\n",
            "Requirement already satisfied: pydub<0.26.0,>=0.25.1 in /usr/local/lib/python3.9/dist-packages (from manim==0.17.0) (0.25.1)\n",
            "Requirement already satisfied: svgelements<2.0.0,>=1.7.2 in /usr/local/lib/python3.9/dist-packages (from manim==0.17.0) (1.9.1)\n",
            "Requirement already satisfied: Pygments<3.0.0,>=2.10.0 in /usr/local/lib/python3.9/dist-packages (from manim==0.17.0) (2.14.0)\n",
            "Requirement already satisfied: glcontext<3,>=2.3.6 in /usr/local/lib/python3.9/dist-packages (from moderngl<6.0.0,>=5.6.3->manim==0.17.0) (2.3.7)\n",
            "Requirement already satisfied: pyrr<1,>=0.10.3 in /usr/local/lib/python3.9/dist-packages (from moderngl-window<3.0.0,>=2.3.0->manim==0.17.0) (0.10.3)\n",
            "Requirement already satisfied: pyglet>=2.0dev23 in /usr/local/lib/python3.9/dist-packages (from moderngl-window<3.0.0,>=2.3.0->manim==0.17.0) (2.0.5)\n",
            "Requirement already satisfied: certifi>=2017.4.17 in /usr/local/lib/python3.9/dist-packages (from requests<3.0.0,>=2.26.0->manim==0.17.0) (2022.12.7)\n",
            "Requirement already satisfied: charset-normalizer~=2.0.0 in /usr/local/lib/python3.9/dist-packages (from requests<3.0.0,>=2.26.0->manim==0.17.0) (2.0.12)\n",
            "Requirement already satisfied: urllib3<1.27,>=1.21.1 in /usr/local/lib/python3.9/dist-packages (from requests<3.0.0,>=2.26.0->manim==0.17.0) (1.26.15)\n",
            "Requirement already satisfied: idna<4,>=2.5 in /usr/local/lib/python3.9/dist-packages (from requests<3.0.0,>=2.26.0->manim==0.17.0) (3.4)\n",
            "Requirement already satisfied: markdown-it-py<3.0.0,>=2.2.0 in /usr/local/lib/python3.9/dist-packages (from rich!=12.0.0,>=6.0->manim==0.17.0) (2.2.0)\n",
            "Requirement already satisfied: mdurl~=0.1 in /usr/local/lib/python3.9/dist-packages (from markdown-it-py<3.0.0,>=2.2.0->rich!=12.0.0,>=6.0->manim==0.17.0) (0.1.2)\n",
            "Requirement already satisfied: multipledispatch in /usr/local/lib/python3.9/dist-packages (from pyrr<1,>=0.10.3->moderngl-window<3.0.0,>=2.3.0->manim==0.17.0) (0.6.0)\n",
            "Requirement already satisfied: six in /usr/local/lib/python3.9/dist-packages (from multipledispatch->pyrr<1,>=0.10.3->moderngl-window<3.0.0,>=2.3.0->manim==0.17.0) (1.16.0)\n",
            "Installing collected packages: manim\n",
            "  Attempting uninstall: manim\n",
            "    Found existing installation: manim 0.17.3\n",
            "    Uninstalling manim-0.17.3:\n",
            "      Successfully uninstalled manim-0.17.3\n",
            "Successfully installed manim-0.17.0\n"
          ]
        }
      ]
    },
    {
      "cell_type": "code",
      "source": [
        "!pip install IPython\n"
      ],
      "metadata": {
        "colab": {
          "base_uri": "https://localhost:8080/"
        },
        "id": "FSzX2dqY8WTD",
        "outputId": "82b24f9a-651d-4a40-e411-2b93aa092207"
      },
      "execution_count": 5,
      "outputs": [
        {
          "output_type": "stream",
          "name": "stdout",
          "text": [
            "Looking in indexes: https://pypi.org/simple, https://us-python.pkg.dev/colab-wheels/public/simple/\n",
            "Requirement already satisfied: IPython in /usr/local/lib/python3.9/dist-packages (8.12.0)\n",
            "Requirement already satisfied: backcall in /usr/local/lib/python3.9/dist-packages (from IPython) (0.2.0)\n",
            "Requirement already satisfied: matplotlib-inline in /usr/local/lib/python3.9/dist-packages (from IPython) (0.1.6)\n",
            "Requirement already satisfied: decorator in /usr/local/lib/python3.9/dist-packages (from IPython) (5.1.1)\n",
            "Requirement already satisfied: prompt-toolkit!=3.0.37,<3.1.0,>=3.0.30 in /usr/local/lib/python3.9/dist-packages (from IPython) (3.0.38)\n",
            "Requirement already satisfied: pickleshare in /usr/local/lib/python3.9/dist-packages (from IPython) (0.7.5)\n",
            "Requirement already satisfied: traitlets>=5 in /usr/local/lib/python3.9/dist-packages (from IPython) (5.7.1)\n",
            "Requirement already satisfied: stack-data in /usr/local/lib/python3.9/dist-packages (from IPython) (0.6.2)\n",
            "Requirement already satisfied: typing-extensions in /usr/local/lib/python3.9/dist-packages (from IPython) (4.5.0)\n",
            "Requirement already satisfied: pexpect>4.3 in /usr/local/lib/python3.9/dist-packages (from IPython) (4.8.0)\n",
            "Requirement already satisfied: pygments>=2.4.0 in /usr/local/lib/python3.9/dist-packages (from IPython) (2.14.0)\n",
            "Requirement already satisfied: jedi>=0.16 in /usr/local/lib/python3.9/dist-packages (from IPython) (0.18.2)\n",
            "Requirement already satisfied: parso<0.9.0,>=0.8.0 in /usr/local/lib/python3.9/dist-packages (from jedi>=0.16->IPython) (0.8.3)\n",
            "Requirement already satisfied: ptyprocess>=0.5 in /usr/local/lib/python3.9/dist-packages (from pexpect>4.3->IPython) (0.7.0)\n",
            "Requirement already satisfied: wcwidth in /usr/local/lib/python3.9/dist-packages (from prompt-toolkit!=3.0.37,<3.1.0,>=3.0.30->IPython) (0.2.6)\n",
            "Requirement already satisfied: asttokens>=2.1.0 in /usr/local/lib/python3.9/dist-packages (from stack-data->IPython) (2.2.1)\n",
            "Requirement already satisfied: pure-eval in /usr/local/lib/python3.9/dist-packages (from stack-data->IPython) (0.2.2)\n",
            "Requirement already satisfied: executing>=1.2.0 in /usr/local/lib/python3.9/dist-packages (from stack-data->IPython) (1.2.0)\n",
            "Requirement already satisfied: six in /usr/local/lib/python3.9/dist-packages (from asttokens>=2.1.0->stack-data->IPython) (1.16.0)\n"
          ]
        }
      ]
    },
    {
      "cell_type": "code",
      "source": [
        "import manim"
      ],
      "metadata": {
        "colab": {
          "base_uri": "https://localhost:8080/",
          "height": 329
        },
        "id": "Bbwa5tIH8cIx",
        "outputId": "90dc4306-8b9c-4cc6-d3d7-1f784a01c0ef"
      },
      "execution_count": 7,
      "outputs": [
        {
          "output_type": "error",
          "ename": "ContextualVersionConflict",
          "evalue": "ignored",
          "traceback": [
            "\u001b[0;31m---------------------------------------------------------------------------\u001b[0m",
            "\u001b[0;31mContextualVersionConflict\u001b[0m                 Traceback (most recent call last)",
            "\u001b[0;32m<ipython-input-7-c072ec752cf7>\u001b[0m in \u001b[0;36m<cell line: 1>\u001b[0;34m()\u001b[0m\n\u001b[0;32m----> 1\u001b[0;31m \u001b[0;32mimport\u001b[0m \u001b[0mmanim\u001b[0m\u001b[0;34m\u001b[0m\u001b[0;34m\u001b[0m\u001b[0m\n\u001b[0m",
            "\u001b[0;32m/usr/local/lib/python3.9/dist-packages/manim/__init__.py\u001b[0m in \u001b[0;36m<module>\u001b[0;34m\u001b[0m\n\u001b[1;32m      6\u001b[0m \u001b[0;32mimport\u001b[0m \u001b[0mpkg_resources\u001b[0m\u001b[0;34m\u001b[0m\u001b[0;34m\u001b[0m\u001b[0m\n\u001b[1;32m      7\u001b[0m \u001b[0;34m\u001b[0m\u001b[0m\n\u001b[0;32m----> 8\u001b[0;31m \u001b[0m__version__\u001b[0m\u001b[0;34m:\u001b[0m \u001b[0mstr\u001b[0m \u001b[0;34m=\u001b[0m \u001b[0mpkg_resources\u001b[0m\u001b[0;34m.\u001b[0m\u001b[0mget_distribution\u001b[0m\u001b[0;34m(\u001b[0m\u001b[0m__name__\u001b[0m\u001b[0;34m)\u001b[0m\u001b[0;34m.\u001b[0m\u001b[0mversion\u001b[0m\u001b[0;34m\u001b[0m\u001b[0;34m\u001b[0m\u001b[0m\n\u001b[0m\u001b[1;32m      9\u001b[0m \u001b[0;34m\u001b[0m\u001b[0m\n\u001b[1;32m     10\u001b[0m \u001b[0;34m\u001b[0m\u001b[0m\n",
            "\u001b[0;32m/usr/local/lib/python3.9/dist-packages/pkg_resources/__init__.py\u001b[0m in \u001b[0;36mget_distribution\u001b[0;34m(dist)\u001b[0m\n\u001b[1;32m    524\u001b[0m         \u001b[0mdist\u001b[0m \u001b[0;34m=\u001b[0m \u001b[0mRequirement\u001b[0m\u001b[0;34m.\u001b[0m\u001b[0mparse\u001b[0m\u001b[0;34m(\u001b[0m\u001b[0mdist\u001b[0m\u001b[0;34m)\u001b[0m\u001b[0;34m\u001b[0m\u001b[0;34m\u001b[0m\u001b[0m\n\u001b[1;32m    525\u001b[0m     \u001b[0;32mif\u001b[0m \u001b[0misinstance\u001b[0m\u001b[0;34m(\u001b[0m\u001b[0mdist\u001b[0m\u001b[0;34m,\u001b[0m \u001b[0mRequirement\u001b[0m\u001b[0;34m)\u001b[0m\u001b[0;34m:\u001b[0m\u001b[0;34m\u001b[0m\u001b[0;34m\u001b[0m\u001b[0m\n\u001b[0;32m--> 526\u001b[0;31m         \u001b[0mdist\u001b[0m \u001b[0;34m=\u001b[0m \u001b[0mget_provider\u001b[0m\u001b[0;34m(\u001b[0m\u001b[0mdist\u001b[0m\u001b[0;34m)\u001b[0m\u001b[0;34m\u001b[0m\u001b[0;34m\u001b[0m\u001b[0m\n\u001b[0m\u001b[1;32m    527\u001b[0m     \u001b[0;32mif\u001b[0m \u001b[0;32mnot\u001b[0m \u001b[0misinstance\u001b[0m\u001b[0;34m(\u001b[0m\u001b[0mdist\u001b[0m\u001b[0;34m,\u001b[0m \u001b[0mDistribution\u001b[0m\u001b[0;34m)\u001b[0m\u001b[0;34m:\u001b[0m\u001b[0;34m\u001b[0m\u001b[0;34m\u001b[0m\u001b[0m\n\u001b[1;32m    528\u001b[0m         \u001b[0;32mraise\u001b[0m \u001b[0mTypeError\u001b[0m\u001b[0;34m(\u001b[0m\u001b[0;34m\"Expected string, Requirement, or Distribution\"\u001b[0m\u001b[0;34m,\u001b[0m \u001b[0mdist\u001b[0m\u001b[0;34m)\u001b[0m\u001b[0;34m\u001b[0m\u001b[0;34m\u001b[0m\u001b[0m\n",
            "\u001b[0;32m/usr/local/lib/python3.9/dist-packages/pkg_resources/__init__.py\u001b[0m in \u001b[0;36mget_provider\u001b[0;34m(moduleOrReq)\u001b[0m\n\u001b[1;32m    396\u001b[0m     \u001b[0;34m\"\"\"Return an IResourceProvider for the named module or requirement\"\"\"\u001b[0m\u001b[0;34m\u001b[0m\u001b[0;34m\u001b[0m\u001b[0m\n\u001b[1;32m    397\u001b[0m     \u001b[0;32mif\u001b[0m \u001b[0misinstance\u001b[0m\u001b[0;34m(\u001b[0m\u001b[0mmoduleOrReq\u001b[0m\u001b[0;34m,\u001b[0m \u001b[0mRequirement\u001b[0m\u001b[0;34m)\u001b[0m\u001b[0;34m:\u001b[0m\u001b[0;34m\u001b[0m\u001b[0;34m\u001b[0m\u001b[0m\n\u001b[0;32m--> 398\u001b[0;31m         \u001b[0;32mreturn\u001b[0m \u001b[0mworking_set\u001b[0m\u001b[0;34m.\u001b[0m\u001b[0mfind\u001b[0m\u001b[0;34m(\u001b[0m\u001b[0mmoduleOrReq\u001b[0m\u001b[0;34m)\u001b[0m \u001b[0;32mor\u001b[0m \u001b[0mrequire\u001b[0m\u001b[0;34m(\u001b[0m\u001b[0mstr\u001b[0m\u001b[0;34m(\u001b[0m\u001b[0mmoduleOrReq\u001b[0m\u001b[0;34m)\u001b[0m\u001b[0;34m)\u001b[0m\u001b[0;34m[\u001b[0m\u001b[0;36m0\u001b[0m\u001b[0;34m]\u001b[0m\u001b[0;34m\u001b[0m\u001b[0;34m\u001b[0m\u001b[0m\n\u001b[0m\u001b[1;32m    399\u001b[0m     \u001b[0;32mtry\u001b[0m\u001b[0;34m:\u001b[0m\u001b[0;34m\u001b[0m\u001b[0;34m\u001b[0m\u001b[0m\n\u001b[1;32m    400\u001b[0m         \u001b[0mmodule\u001b[0m \u001b[0;34m=\u001b[0m \u001b[0msys\u001b[0m\u001b[0;34m.\u001b[0m\u001b[0mmodules\u001b[0m\u001b[0;34m[\u001b[0m\u001b[0mmoduleOrReq\u001b[0m\u001b[0;34m]\u001b[0m\u001b[0;34m\u001b[0m\u001b[0;34m\u001b[0m\u001b[0m\n",
            "\u001b[0;32m/usr/local/lib/python3.9/dist-packages/pkg_resources/__init__.py\u001b[0m in \u001b[0;36mrequire\u001b[0;34m(self, *requirements)\u001b[0m\n\u001b[1;32m    964\u001b[0m         \u001b[0mincluded\u001b[0m\u001b[0;34m,\u001b[0m \u001b[0meven\u001b[0m \u001b[0;32mif\u001b[0m \u001b[0mthey\u001b[0m \u001b[0mwere\u001b[0m \u001b[0malready\u001b[0m \u001b[0mactivated\u001b[0m \u001b[0;32min\u001b[0m \u001b[0mthis\u001b[0m \u001b[0mworking\u001b[0m \u001b[0mset\u001b[0m\u001b[0;34m.\u001b[0m\u001b[0;34m\u001b[0m\u001b[0;34m\u001b[0m\u001b[0m\n\u001b[1;32m    965\u001b[0m         \"\"\"\n\u001b[0;32m--> 966\u001b[0;31m         \u001b[0mneeded\u001b[0m \u001b[0;34m=\u001b[0m \u001b[0mself\u001b[0m\u001b[0;34m.\u001b[0m\u001b[0mresolve\u001b[0m\u001b[0;34m(\u001b[0m\u001b[0mparse_requirements\u001b[0m\u001b[0;34m(\u001b[0m\u001b[0mrequirements\u001b[0m\u001b[0;34m)\u001b[0m\u001b[0;34m)\u001b[0m\u001b[0;34m\u001b[0m\u001b[0;34m\u001b[0m\u001b[0m\n\u001b[0m\u001b[1;32m    967\u001b[0m \u001b[0;34m\u001b[0m\u001b[0m\n\u001b[1;32m    968\u001b[0m         \u001b[0;32mfor\u001b[0m \u001b[0mdist\u001b[0m \u001b[0;32min\u001b[0m \u001b[0mneeded\u001b[0m\u001b[0;34m:\u001b[0m\u001b[0;34m\u001b[0m\u001b[0;34m\u001b[0m\u001b[0m\n",
            "\u001b[0;32m/usr/local/lib/python3.9/dist-packages/pkg_resources/__init__.py\u001b[0m in \u001b[0;36mresolve\u001b[0;34m(self, requirements, env, installer, replace_conflicting, extras)\u001b[0m\n\u001b[1;32m    825\u001b[0m                 \u001b[0;32mcontinue\u001b[0m\u001b[0;34m\u001b[0m\u001b[0;34m\u001b[0m\u001b[0m\n\u001b[1;32m    826\u001b[0m \u001b[0;34m\u001b[0m\u001b[0m\n\u001b[0;32m--> 827\u001b[0;31m             dist = self._resolve_dist(\n\u001b[0m\u001b[1;32m    828\u001b[0m                 \u001b[0mreq\u001b[0m\u001b[0;34m,\u001b[0m \u001b[0mbest\u001b[0m\u001b[0;34m,\u001b[0m \u001b[0mreplace_conflicting\u001b[0m\u001b[0;34m,\u001b[0m \u001b[0menv\u001b[0m\u001b[0;34m,\u001b[0m \u001b[0minstaller\u001b[0m\u001b[0;34m,\u001b[0m \u001b[0mrequired_by\u001b[0m\u001b[0;34m,\u001b[0m \u001b[0mto_activate\u001b[0m\u001b[0;34m\u001b[0m\u001b[0;34m\u001b[0m\u001b[0m\n\u001b[1;32m    829\u001b[0m             )\n",
            "\u001b[0;32m/usr/local/lib/python3.9/dist-packages/pkg_resources/__init__.py\u001b[0m in \u001b[0;36m_resolve_dist\u001b[0;34m(self, req, best, replace_conflicting, env, installer, required_by, to_activate)\u001b[0m\n\u001b[1;32m    871\u001b[0m             \u001b[0;31m# Oops, the \"best\" so far conflicts with a dependency\u001b[0m\u001b[0;34m\u001b[0m\u001b[0;34m\u001b[0m\u001b[0m\n\u001b[1;32m    872\u001b[0m             \u001b[0mdependent_req\u001b[0m \u001b[0;34m=\u001b[0m \u001b[0mrequired_by\u001b[0m\u001b[0;34m[\u001b[0m\u001b[0mreq\u001b[0m\u001b[0;34m]\u001b[0m\u001b[0;34m\u001b[0m\u001b[0;34m\u001b[0m\u001b[0m\n\u001b[0;32m--> 873\u001b[0;31m             \u001b[0;32mraise\u001b[0m \u001b[0mVersionConflict\u001b[0m\u001b[0;34m(\u001b[0m\u001b[0mdist\u001b[0m\u001b[0;34m,\u001b[0m \u001b[0mreq\u001b[0m\u001b[0;34m)\u001b[0m\u001b[0;34m.\u001b[0m\u001b[0mwith_context\u001b[0m\u001b[0;34m(\u001b[0m\u001b[0mdependent_req\u001b[0m\u001b[0;34m)\u001b[0m\u001b[0;34m\u001b[0m\u001b[0;34m\u001b[0m\u001b[0m\n\u001b[0m\u001b[1;32m    874\u001b[0m         \u001b[0;32mreturn\u001b[0m \u001b[0mdist\u001b[0m\u001b[0;34m\u001b[0m\u001b[0;34m\u001b[0m\u001b[0m\n\u001b[1;32m    875\u001b[0m \u001b[0;34m\u001b[0m\u001b[0m\n",
            "\u001b[0;31mContextualVersionConflict\u001b[0m: (networkx 3.1 (/usr/local/lib/python3.9/dist-packages), Requirement.parse('networkx<3.0,>=2.5'), {'manim'})"
          ]
        }
      ]
    },
    {
      "cell_type": "code",
      "source": [
        "pip list"
      ],
      "metadata": {
        "colab": {
          "base_uri": "https://localhost:8080/"
        },
        "id": "G38rQZgE8oQd",
        "outputId": "f3b32690-4af8-459c-f498-3507cdf7d236"
      },
      "execution_count": 8,
      "outputs": [
        {
          "output_type": "stream",
          "name": "stdout",
          "text": [
            "Package                       Version\n",
            "----------------------------- --------------------\n",
            "absl-py                       1.4.0\n",
            "alabaster                     0.7.13\n",
            "albumentations                1.2.1\n",
            "altair                        4.2.2\n",
            "anyio                         3.6.2\n",
            "appdirs                       1.4.4\n",
            "argon2-cffi                   21.3.0\n",
            "argon2-cffi-bindings          21.2.0\n",
            "arviz                         0.15.1\n",
            "astropy                       5.2.2\n",
            "asttokens                     2.2.1\n",
            "astunparse                    1.6.3\n",
            "attrs                         22.2.0\n",
            "audioread                     3.0.0\n",
            "autograd                      1.5\n",
            "Babel                         2.12.1\n",
            "backcall                      0.2.0\n",
            "beautifulsoup4                4.11.2\n",
            "bleach                        6.0.0\n",
            "blis                          0.7.9\n",
            "blosc2                        2.0.0\n",
            "bokeh                         2.4.3\n",
            "branca                        0.6.0\n",
            "CacheControl                  0.12.11\n",
            "cached-property               1.5.2\n",
            "cachetools                    5.3.0\n",
            "catalogue                     2.0.8\n",
            "certifi                       2022.12.7\n",
            "cffi                          1.15.1\n",
            "chardet                       4.0.0\n",
            "charset-normalizer            2.0.12\n",
            "chex                          0.1.7\n",
            "click                         8.1.3\n",
            "click-default-group           1.2.2\n",
            "cloudpickle                   2.2.1\n",
            "cloup                         0.13.1\n",
            "cmake                         3.25.2\n",
            "cmdstanpy                     1.1.0\n",
            "colorcet                      3.0.1\n",
            "colorlover                    0.3.0\n",
            "colour                        0.1.5\n",
            "community                     1.0.0b1\n",
            "confection                    0.0.4\n",
            "cons                          0.4.5\n",
            "contextlib2                   0.6.0.post1\n",
            "contourpy                     1.0.7\n",
            "convertdate                   2.4.0\n",
            "cryptography                  40.0.1\n",
            "cufflinks                     0.17.3\n",
            "cvxopt                        1.3.0\n",
            "cvxpy                         1.3.1\n",
            "cycler                        0.11.0\n",
            "cymem                         2.0.7\n",
            "Cython                        0.29.34\n",
            "dask                          2022.12.1\n",
            "datascience                   0.17.6\n",
            "db-dtypes                     1.1.1\n",
            "dbus-python                   1.2.16\n",
            "debugpy                       1.6.6\n",
            "decorator                     5.1.1\n",
            "defusedxml                    0.7.1\n",
            "distributed                   2022.12.1\n",
            "dlib                          19.24.1\n",
            "dm-tree                       0.1.8\n",
            "docutils                      0.16\n",
            "dopamine-rl                   4.0.6\n",
            "earthengine-api               0.1.348\n",
            "easydict                      1.10\n",
            "ecos                          2.0.12\n",
            "editdistance                  0.6.2\n",
            "en-core-web-sm                3.5.0\n",
            "entrypoints                   0.4\n",
            "ephem                         4.1.4\n",
            "et-xmlfile                    1.1.0\n",
            "etils                         1.2.0\n",
            "etuples                       0.3.8\n",
            "exceptiongroup                1.1.1\n",
            "executing                     1.2.0\n",
            "fastai                        2.7.12\n",
            "fastcore                      1.5.29\n",
            "fastdownload                  0.0.7\n",
            "fastjsonschema                2.16.3\n",
            "fastprogress                  1.0.3\n",
            "fastrlock                     0.8.1\n",
            "filelock                      3.11.0\n",
            "firebase-admin                5.3.0\n",
            "Flask                         2.2.3\n",
            "flatbuffers                   23.3.3\n",
            "flax                          0.6.8\n",
            "folium                        0.14.0\n",
            "fonttools                     4.39.3\n",
            "frozendict                    2.3.6\n",
            "fsspec                        2023.3.0\n",
            "future                        0.18.3\n",
            "gast                          0.4.0\n",
            "GDAL                          3.3.2\n",
            "gdown                         4.6.6\n",
            "gensim                        4.3.1\n",
            "geographiclib                 2.0\n",
            "geopy                         2.3.0\n",
            "gin-config                    0.5.0\n",
            "glcontext                     2.3.7\n",
            "glob2                         0.7\n",
            "google                        2.0.3\n",
            "google-api-core               2.11.0\n",
            "google-api-python-client      2.84.0\n",
            "google-auth                   2.17.2\n",
            "google-auth-httplib2          0.1.0\n",
            "google-auth-oauthlib          1.0.0\n",
            "google-cloud-bigquery         3.9.0\n",
            "google-cloud-bigquery-storage 2.19.1\n",
            "google-cloud-core             2.3.2\n",
            "google-cloud-datastore        2.15.1\n",
            "google-cloud-firestore        2.11.0\n",
            "google-cloud-language         2.9.1\n",
            "google-cloud-storage          2.8.0\n",
            "google-cloud-translate        3.11.1\n",
            "google-colab                  1.0.0\n",
            "google-crc32c                 1.5.0\n",
            "google-pasta                  0.2.0\n",
            "google-resumable-media        2.4.1\n",
            "googleapis-common-protos      1.59.0\n",
            "googledrivedownloader         0.4\n",
            "graphviz                      0.20.1\n",
            "greenlet                      2.0.2\n",
            "grpcio                        1.53.0\n",
            "grpcio-status                 1.48.2\n",
            "gspread                       3.4.2\n",
            "gspread-dataframe             3.0.8\n",
            "gym                           0.25.2\n",
            "gym-notices                   0.0.8\n",
            "h5netcdf                      1.1.0\n",
            "h5py                          3.8.0\n",
            "HeapDict                      1.0.1\n",
            "hijri-converter               2.2.4\n",
            "holidays                      0.22\n",
            "holoviews                     1.15.4\n",
            "html5lib                      1.1\n",
            "httpimport                    1.3.0\n",
            "httplib2                      0.21.0\n",
            "humanize                      4.6.0\n",
            "hyperopt                      0.2.7\n",
            "idna                          3.4\n",
            "imageio                       2.25.1\n",
            "imageio-ffmpeg                0.4.8\n",
            "imagesize                     1.4.1\n",
            "imbalanced-learn              0.10.1\n",
            "imgaug                        0.4.0\n",
            "importlib-metadata            6.2.0\n",
            "importlib-resources           5.12.0\n",
            "imutils                       0.5.4\n",
            "inflect                       6.0.4\n",
            "iniconfig                     2.0.0\n",
            "intel-openmp                  2023.1.0\n",
            "ipykernel                     5.5.6\n",
            "ipython                       8.12.0\n",
            "ipython-genutils              0.2.0\n",
            "ipython-sql                   0.4.1\n",
            "ipywidgets                    7.7.1\n",
            "isosurfaces                   0.1.0\n",
            "itsdangerous                  2.1.2\n",
            "jax                           0.4.7\n",
            "jaxlib                        0.4.7+cuda11.cudnn86\n",
            "jedi                          0.18.2\n",
            "jieba                         0.42.1\n",
            "Jinja2                        3.1.2\n",
            "joblib                        1.2.0\n",
            "jsonpickle                    3.0.1\n",
            "jsonschema                    4.3.3\n",
            "jupyter-client                6.1.12\n",
            "jupyter-console               6.1.0\n",
            "jupyter_core                  5.3.0\n",
            "jupyter-server                1.23.6\n",
            "jupyterlab-pygments           0.2.2\n",
            "jupyterlab-widgets            3.0.7\n",
            "kaggle                        1.5.13\n",
            "keras                         2.12.0\n",
            "keras-vis                     0.4.1\n",
            "kiwisolver                    1.4.4\n",
            "korean-lunar-calendar         0.3.1\n",
            "langcodes                     3.3.0\n",
            "lazy_loader                   0.2\n",
            "libclang                      16.0.0\n",
            "librosa                       0.10.0.post2\n",
            "lightgbm                      3.3.5\n",
            "lit                           16.0.0\n",
            "llvmlite                      0.39.1\n",
            "locket                        1.0.0\n",
            "logical-unification           0.4.5\n",
            "LunarCalendar                 0.0.9\n",
            "lxml                          4.9.2\n",
            "manim                         0.17.0\n",
            "ManimPango                    0.4.3\n",
            "mapbox-earcut                 1.0.1\n",
            "Markdown                      3.4.3\n",
            "markdown-it-py                2.2.0\n",
            "MarkupSafe                    2.1.2\n",
            "matplotlib                    3.7.1\n",
            "matplotlib-inline             0.1.6\n",
            "matplotlib-venn               0.11.9\n",
            "mdurl                         0.1.2\n",
            "miniKanren                    1.0.3\n",
            "missingno                     0.5.2\n",
            "mistune                       0.8.4\n",
            "mizani                        0.8.1\n",
            "mkl                           2019.0\n",
            "ml-dtypes                     0.0.4\n",
            "mlxtend                       0.14.0\n",
            "moderngl                      5.8.2\n",
            "moderngl-window               2.4.3\n",
            "more-itertools                9.1.0\n",
            "moviepy                       1.0.3\n",
            "mpmath                        1.3.0\n",
            "msgpack                       1.0.5\n",
            "multipledispatch              0.6.0\n",
            "multitasking                  0.0.11\n",
            "murmurhash                    1.0.9\n",
            "music21                       8.1.0\n",
            "natsort                       8.3.1\n",
            "nbclient                      0.7.3\n",
            "nbconvert                     6.5.4\n",
            "nbformat                      5.8.0\n",
            "nest-asyncio                  1.5.6\n",
            "networkx                      2.8.8\n",
            "nibabel                       3.0.2\n",
            "nltk                          3.8.1\n",
            "notebook                      6.4.8\n",
            "numba                         0.56.4\n",
            "numexpr                       2.8.4\n",
            "numpy                         1.22.4\n",
            "oauth2client                  4.1.3\n",
            "oauthlib                      3.2.2\n",
            "opencv-contrib-python         4.7.0.72\n",
            "opencv-python                 4.7.0.72\n",
            "opencv-python-headless        4.7.0.72\n",
            "openpyxl                      3.0.10\n",
            "opt-einsum                    3.3.0\n",
            "optax                         0.1.4\n",
            "orbax                         0.1.7\n",
            "osqp                          0.6.2.post0\n",
            "packaging                     23.0\n",
            "palettable                    3.3.1\n",
            "pandas                        1.5.3\n",
            "pandas-datareader             0.10.0\n",
            "pandas-gbq                    0.17.9\n",
            "pandocfilters                 1.5.0\n",
            "panel                         0.14.4\n",
            "param                         1.13.0\n",
            "parso                         0.8.3\n",
            "partd                         1.3.0\n",
            "pathlib                       1.0.1\n",
            "pathy                         0.10.1\n",
            "patsy                         0.5.3\n",
            "pep517                        0.13.0\n",
            "pexpect                       4.8.0\n",
            "pickleshare                   0.7.5\n",
            "Pillow                        9.5.0\n",
            "pip                           23.0.1\n",
            "pip-tools                     6.6.2\n",
            "platformdirs                  3.2.0\n",
            "plotly                        5.13.1\n",
            "plotnine                      0.10.1\n",
            "pluggy                        1.0.0\n",
            "pooch                         1.6.0\n",
            "portpicker                    1.3.9\n",
            "prefetch-generator            1.0.3\n",
            "preshed                       3.0.8\n",
            "prettytable                   0.7.2\n",
            "proglog                       0.1.10\n",
            "progressbar2                  4.2.0\n",
            "prometheus-client             0.16.0\n",
            "promise                       2.3\n",
            "prompt-toolkit                3.0.38\n",
            "prophet                       1.1.2\n",
            "proto-plus                    1.22.2\n",
            "protobuf                      3.20.3\n",
            "psutil                        5.9.4\n",
            "psycopg2                      2.9.6\n",
            "ptyprocess                    0.7.0\n",
            "pure-eval                     0.2.2\n",
            "py-cpuinfo                    9.0.0\n",
            "py4j                          0.10.9.7\n",
            "pyarrow                       9.0.0\n",
            "pyasn1                        0.4.8\n",
            "pyasn1-modules                0.2.8\n",
            "pycairo                       1.23.0\n",
            "pycocotools                   2.0.6\n",
            "pycparser                     2.21\n",
            "pyct                          0.5.0\n",
            "pydantic                      1.10.7\n",
            "pydata-google-auth            1.7.0\n",
            "pydot                         1.4.2\n",
            "pydot-ng                      2.0.0\n",
            "pydotplus                     2.0.2\n",
            "PyDrive                       1.3.1\n",
            "pydub                         0.25.1\n",
            "pyerfa                        2.0.0.3\n",
            "pygame                        2.3.0\n",
            "pyglet                        2.0.5\n",
            "Pygments                      2.14.0\n",
            "PyGObject                     3.36.0\n",
            "pymc                          5.1.2\n",
            "PyMeeus                       0.5.12\n",
            "pymystem3                     0.2.0\n",
            "PyOpenGL                      3.1.6\n",
            "pyparsing                     3.0.9\n",
            "pyrr                          0.10.3\n",
            "pyrsistent                    0.19.3\n",
            "PySocks                       1.7.1\n",
            "pytensor                      2.10.1\n",
            "pytest                        7.2.2\n",
            "python-apt                    0.0.0\n",
            "python-dateutil               2.8.2\n",
            "python-louvain                0.16\n",
            "python-slugify                8.0.1\n",
            "python-utils                  3.5.2\n",
            "pytz                          2022.7.1\n",
            "pytz-deprecation-shim         0.1.0.post0\n",
            "pyviz-comms                   2.2.1\n",
            "PyWavelets                    1.4.1\n",
            "PyYAML                        6.0\n",
            "pyzmq                         23.2.1\n",
            "qdldl                         0.1.7\n",
            "qudida                        0.0.4\n",
            "regex                         2022.10.31\n",
            "requests                      2.27.1\n",
            "requests-oauthlib             1.3.1\n",
            "requests-unixsocket           0.2.0\n",
            "rich                          13.3.3\n",
            "rpy2                          3.5.5\n",
            "rsa                           4.9\n",
            "scikit-image                  0.19.3\n",
            "scikit-learn                  1.2.2\n",
            "scipy                         1.10.1\n",
            "screeninfo                    0.8.1\n",
            "scs                           3.2.3\n",
            "seaborn                       0.12.2\n",
            "Send2Trash                    1.8.0\n",
            "setuptools                    67.6.1\n",
            "shapely                       2.0.1\n",
            "six                           1.16.0\n",
            "skia-pathops                  0.7.4\n",
            "sklearn-pandas                2.2.0\n",
            "smart-open                    6.3.0\n",
            "sniffio                       1.3.0\n",
            "snowballstemmer               2.2.0\n",
            "sortedcontainers              2.4.0\n",
            "soundfile                     0.12.1\n",
            "soupsieve                     2.4\n",
            "soxr                          0.3.4\n",
            "spacy                         3.5.1\n",
            "spacy-legacy                  3.0.12\n",
            "spacy-loggers                 1.0.4\n",
            "Sphinx                        3.5.4\n",
            "sphinxcontrib-applehelp       1.0.4\n",
            "sphinxcontrib-devhelp         1.0.2\n",
            "sphinxcontrib-htmlhelp        2.0.1\n",
            "sphinxcontrib-jsmath          1.0.1\n",
            "sphinxcontrib-qthelp          1.0.3\n",
            "sphinxcontrib-serializinghtml 1.1.5\n",
            "SQLAlchemy                    2.0.9\n",
            "sqlparse                      0.4.3\n",
            "srsly                         2.4.6\n",
            "srt                           3.5.3\n",
            "stack-data                    0.6.2\n",
            "statsmodels                   0.13.5\n",
            "svgelements                   1.9.1\n",
            "sympy                         1.11.1\n",
            "tables                        3.8.0\n",
            "tabulate                      0.8.10\n",
            "tblib                         1.7.0\n",
            "tenacity                      8.2.2\n",
            "tensorboard                   2.12.1\n",
            "tensorboard-data-server       0.7.0\n",
            "tensorboard-plugin-wit        1.8.1\n",
            "tensorflow                    2.12.0\n",
            "tensorflow-datasets           4.8.3\n",
            "tensorflow-estimator          2.12.0\n",
            "tensorflow-gcs-config         2.12.0\n",
            "tensorflow-hub                0.13.0\n",
            "tensorflow-io-gcs-filesystem  0.32.0\n",
            "tensorflow-metadata           1.13.0\n",
            "tensorflow-probability        0.19.0\n",
            "tensorstore                   0.1.35\n",
            "termcolor                     2.2.0\n",
            "terminado                     0.17.1\n",
            "text-unidecode                1.3\n",
            "textblob                      0.17.1\n",
            "tf-slim                       1.1.0\n",
            "thinc                         8.1.9\n",
            "threadpoolctl                 3.1.0\n",
            "tifffile                      2023.3.21\n",
            "tinycss2                      1.2.1\n",
            "toml                          0.10.2\n",
            "tomli                         2.0.1\n",
            "toolz                         0.12.0\n",
            "torch                         2.0.0+cu118\n",
            "torchaudio                    2.0.1+cu118\n",
            "torchdata                     0.6.0\n",
            "torchsummary                  1.5.1\n",
            "torchtext                     0.15.1\n",
            "torchvision                   0.15.1+cu118\n",
            "tornado                       6.2\n",
            "tqdm                          4.65.0\n",
            "traitlets                     5.7.1\n",
            "triton                        2.0.0\n",
            "tweepy                        4.13.0\n",
            "typer                         0.7.0\n",
            "typing_extensions             4.5.0\n",
            "tzdata                        2023.3\n",
            "tzlocal                       4.3\n",
            "uritemplate                   4.1.1\n",
            "urllib3                       1.26.15\n",
            "vega-datasets                 0.9.0\n",
            "wasabi                        1.1.1\n",
            "watchdog                      2.3.1\n",
            "wcwidth                       0.2.6\n",
            "webcolors                     1.13\n",
            "webencodings                  0.5.1\n",
            "websocket-client              1.5.1\n",
            "Werkzeug                      2.2.3\n",
            "wheel                         0.40.0\n",
            "widgetsnbextension            3.6.4\n",
            "wordcloud                     1.8.2.2\n",
            "wrapt                         1.14.1\n",
            "xarray                        2022.12.0\n",
            "xarray-einstats               0.5.1\n",
            "xgboost                       1.7.5\n",
            "xlrd                          2.0.1\n",
            "yellowbrick                   1.5\n",
            "yfinance                      0.2.14\n",
            "zict                          2.2.0\n",
            "zipp                          3.15.0\n"
          ]
        }
      ]
    },
    {
      "cell_type": "code",
      "source": [
        "from manim import *"
      ],
      "metadata": {
        "colab": {
          "base_uri": "https://localhost:8080/",
          "height": 49
        },
        "id": "NBdJqJMP80mr",
        "outputId": "b01d57f1-11fb-41f9-edf3-ada116585b25"
      },
      "execution_count": 1,
      "outputs": [
        {
          "output_type": "display_data",
          "data": {
            "text/plain": [
              "Manim Community \u001b[32mv0.\u001b[0m\u001b[32m17.0\u001b[0m\n",
              "\n"
            ],
            "text/html": [
              "<pre style=\"white-space:pre;overflow-x:auto;line-height:normal;font-family:Menlo,'DejaVu Sans Mono',consolas,'Courier New',monospace\">Manim Community <span style=\"color: #008000; text-decoration-color: #008000\">v0.17.0</span>\n",
              "\n",
              "</pre>\n"
            ]
          },
          "metadata": {}
        }
      ]
    },
    {
      "cell_type": "code",
      "source": [
        "%%manim -qm -v WARNING SquareToCircle\n",
        "\n",
        "class SquareToCircle(Scene):\n",
        "   def construct(self):\n",
        "      square = Square()\n",
        "      circle = Circle()\n",
        "      circle.set_fill(PINK, opacity=0.5)\n",
        "      self.play(Create(square))\n",
        "      self.play(Transform(square, circle))\n",
        "      self.wait()"
      ],
      "metadata": {
        "colab": {
          "base_uri": "https://localhost:8080/",
          "height": 412
        },
        "id": "WZmmO0I-84sr",
        "outputId": "1961fa75-5c9d-4125-a860-9ffaf6b59bec"
      },
      "execution_count": 2,
      "outputs": [
        {
          "output_type": "stream",
          "name": "stderr",
          "text": []
        },
        {
          "output_type": "display_data",
          "data": {
            "text/plain": [
              "<IPython.core.display.Video object>"
            ],
            "text/html": [
              "<video controls autoplay loop style=\"max-width: 60%;\"  >\n",
              " <source src=\"data:video/mp4;base64,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\" type=\"video/mp4\">\n",
              " Your browser does not support the video tag.\n",
              " </video>"
            ]
          },
          "metadata": {}
        }
      ]
    },
    {
      "cell_type": "code",
      "source": [
        "%%manim -ql SineFunctionWithUnitCircle\n",
        "from manim import *\n",
        "\n",
        "class SineFunctionWithUnitCircle(Scene):\n",
        "    # contributed by heejin_park, https://infograph.tistory.com/230\n",
        "    def construct(self):\n",
        "        self.show_axis()\n",
        "        self.show_circle()\n",
        "        self.move_dot_and_draw_curve()\n",
        "        \n",
        "        self.wait()\n",
        "\n",
        "    def show_axis(self):\n",
        "        x_start = np.array([-6,0,0])\n",
        "        x_end = np.array([6,0,0])\n",
        "\n",
        "        y_start = np.array([-4,-2,0])\n",
        "        y_end = np.array([-4,2,0])\n",
        "\n",
        "        x_axis = Line(x_start, x_end)\n",
        "        y_axis = Line(y_start, y_end)\n",
        "\n",
        "        self.add(x_axis, y_axis)\n",
        "        self.add_x_labels()\n",
        "\n",
        "        self.origin_point = np.array([-4,0,0])\n",
        "        self.a=Dot().move_to(np.array([2,0,0]))\n",
        "        def shift_right(obj, dt):\n",
        "            obj.shift(RIGHT * 4 * dt)\n",
        "            print(obj.get_center())  # print the coordinate of obj\n",
        "\n",
        "        self.a.add_updater(shift_right)\n",
        "        self.curve_start = self.a.get_center()\n",
        "        self.add(self.a)\n",
        "        \n",
        "        #np.array([3,0,0])\n",
        "\n",
        "    def add_x_labels(self):\n",
        "        x_labels = [\n",
        "            MathTex(\"\\pi\"), MathTex(\"2 \\pi\"),\n",
        "            MathTex(\"3 \\pi\"), MathTex(\"4 \\pi\"),\n",
        "        ]\n",
        "\n",
        "        for i in range(len(x_labels)):\n",
        "            x_labels[i].next_to(np.array([-1 + 2*i, 0, 0]), DOWN)\n",
        "            self.add(x_labels[i])\n",
        "\n",
        "    def show_circle(self):\n",
        "        circle = Circle(radius=1)\n",
        "        circle.move_to(self.origin_point)\n",
        "        self.add(circle)\n",
        "        self.circle = circle\n",
        "\n",
        "    def move_dot_and_draw_curve(self):\n",
        "        orbit = self.circle\n",
        "        origin_point = self.origin_point\n",
        "\n",
        "        dot = Dot(radius=0.06, color=YELLOW)\n",
        "        dot.move_to(orbit.point_from_proportion(0))\n",
        "        self.t_offset = 0\n",
        "        rate = 0.25\n",
        "\n",
        "        def go_around_circle(mob, dt):\n",
        "            self.t_offset += (dt * rate)\n",
        "            # print(self.t_offset)\n",
        "            mob.move_to(orbit.point_from_proportion(self.t_offset % 1))\n",
        "\n",
        "        def get_line_to_circle():\n",
        "            return Line(origin_point, dot.get_center(), color=RED_A)\n",
        "\n",
        "        def get_line_to_curve():\n",
        "            x = self.curve_start[0] - self.t_offset * 4\n",
        "            y = dot.get_center()[1]\n",
        "            return Line(dot.get_center(), np.array([x,y,0]), color=YELLOW_A, stroke_width=2 )\n",
        "\n",
        "\n",
        "        self.curve = VGroup()\n",
        "        self.curve.add(Line(self.curve_start,self.curve_start))\n",
        "        def get_curve():\n",
        "            last_line = self.curve[-1]\n",
        "            x = self.curve_start[0] - self.t_offset * 4\n",
        "            y = dot.get_center()[1]\n",
        "            new_line = Line(last_line.get_end(),np.array([x,y,0]), color=RED_D)\n",
        "            self.curve.add(new_line)\n",
        "\n",
        "            return self.curve\n",
        "\n",
        "        dot.add_updater(go_around_circle)\n",
        "\n",
        "        origin_to_circle_line = always_redraw(get_line_to_circle)\n",
        "        dot_to_curve_line = always_redraw(get_line_to_curve)\n",
        "        sine_curve_line = always_redraw(get_curve)\n",
        "\n",
        "        \n",
        "        self.add(dot)\n",
        "        self.add(orbit, origin_to_circle_line, dot_to_curve_line, sine_curve_line)\n",
        "        self.wait(8.5)\n",
        "\n",
        "        dot.remove_updater(go_around_circle)"
      ],
      "metadata": {
        "colab": {
          "base_uri": "https://localhost:8080/",
          "height": 1000
        },
        "id": "s-3Toih1-EQ6",
        "outputId": "25ab674a-90e3-4b42-b34b-ffd05797f936"
      },
      "execution_count": 3,
      "outputs": [
        {
          "output_type": "display_data",
          "data": {
            "text/plain": [
              "\u001b[2;36m[04/11/23 19:18:38]\u001b[0m\u001b[2;36m \u001b[0m\u001b[32mINFO    \u001b[0m \u001b[1;33mWriting\u001b[0m \\pi to media/Tex/57b587a624f693b9.tex                   \u001b]8;id=518585;file:///usr/local/lib/python3.9/dist-packages/manim/utils/tex_file_writing.py\u001b\\\u001b[2mtex_file_writing.py\u001b[0m\u001b]8;;\u001b\\\u001b[2m:\u001b[0m\u001b]8;id=515896;file:///usr/local/lib/python3.9/dist-packages/manim/utils/tex_file_writing.py#97\u001b\\\u001b[2m97\u001b[0m\u001b]8;;\u001b\\\n"
            ],
            "text/html": [
              "<pre style=\"white-space:pre;overflow-x:auto;line-height:normal;font-family:Menlo,'DejaVu Sans Mono',consolas,'Courier New',monospace\"><span style=\"color: #7fbfbf; text-decoration-color: #7fbfbf\">[04/11/23 19:18:38] </span><span style=\"color: #008000; text-decoration-color: #008000\">INFO    </span> <span style=\"color: #808000; text-decoration-color: #808000; font-weight: bold\">Writing</span> \\pi to media/Tex/57b587a624f693b9.tex                   <a href=\"file:///usr/local/lib/python3.9/dist-packages/manim/utils/tex_file_writing.py\" target=\"_blank\"><span style=\"color: #7f7f7f; text-decoration-color: #7f7f7f\">tex_file_writing.py</span></a><span style=\"color: #7f7f7f; text-decoration-color: #7f7f7f\">:</span><a href=\"file:///usr/local/lib/python3.9/dist-packages/manim/utils/tex_file_writing.py#97\" target=\"_blank\"><span style=\"color: #7f7f7f; text-decoration-color: #7f7f7f\">97</span></a>\n",
              "</pre>\n"
            ]
          },
          "metadata": {}
        },
        {
          "output_type": "stream",
          "name": "stderr",
          "text": [
            "INFO:manim:Writing \\pi to media/Tex/57b587a624f693b9.tex\n"
          ]
        },
        {
          "output_type": "display_data",
          "data": {
            "text/plain": [
              "\u001b[2;36m[04/11/23 19:18:39]\u001b[0m\u001b[2;36m \u001b[0m\u001b[32mINFO    \u001b[0m \u001b[1;33mWriting\u001b[0m \u001b[32m2\u001b[0m \\pi to media/Tex/e69f4b052f622ccf.tex                 \u001b]8;id=865502;file:///usr/local/lib/python3.9/dist-packages/manim/utils/tex_file_writing.py\u001b\\\u001b[2mtex_file_writing.py\u001b[0m\u001b]8;;\u001b\\\u001b[2m:\u001b[0m\u001b]8;id=357798;file:///usr/local/lib/python3.9/dist-packages/manim/utils/tex_file_writing.py#97\u001b\\\u001b[2m97\u001b[0m\u001b]8;;\u001b\\\n"
            ],
            "text/html": [
              "<pre style=\"white-space:pre;overflow-x:auto;line-height:normal;font-family:Menlo,'DejaVu Sans Mono',consolas,'Courier New',monospace\"><span style=\"color: #7fbfbf; text-decoration-color: #7fbfbf\">[04/11/23 19:18:39] </span><span style=\"color: #008000; text-decoration-color: #008000\">INFO    </span> <span style=\"color: #808000; text-decoration-color: #808000; font-weight: bold\">Writing</span> <span style=\"color: #008000; text-decoration-color: #008000\">2</span> \\pi to media/Tex/e69f4b052f622ccf.tex                 <a href=\"file:///usr/local/lib/python3.9/dist-packages/manim/utils/tex_file_writing.py\" target=\"_blank\"><span style=\"color: #7f7f7f; text-decoration-color: #7f7f7f\">tex_file_writing.py</span></a><span style=\"color: #7f7f7f; text-decoration-color: #7f7f7f\">:</span><a href=\"file:///usr/local/lib/python3.9/dist-packages/manim/utils/tex_file_writing.py#97\" target=\"_blank\"><span style=\"color: #7f7f7f; text-decoration-color: #7f7f7f\">97</span></a>\n",
              "</pre>\n"
            ]
          },
          "metadata": {}
        },
        {
          "output_type": "stream",
          "name": "stderr",
          "text": [
            "INFO:manim:Writing 2 \\pi to media/Tex/e69f4b052f622ccf.tex\n"
          ]
        },
        {
          "output_type": "display_data",
          "data": {
            "text/plain": [
              "\u001b[2;36m[04/11/23 19:18:40]\u001b[0m\u001b[2;36m \u001b[0m\u001b[32mINFO    \u001b[0m \u001b[1;33mWriting\u001b[0m \u001b[32m3\u001b[0m \\pi to media/Tex/cc5afe7220be0bed.tex                 \u001b]8;id=794917;file:///usr/local/lib/python3.9/dist-packages/manim/utils/tex_file_writing.py\u001b\\\u001b[2mtex_file_writing.py\u001b[0m\u001b]8;;\u001b\\\u001b[2m:\u001b[0m\u001b]8;id=239406;file:///usr/local/lib/python3.9/dist-packages/manim/utils/tex_file_writing.py#97\u001b\\\u001b[2m97\u001b[0m\u001b]8;;\u001b\\\n"
            ],
            "text/html": [
              "<pre style=\"white-space:pre;overflow-x:auto;line-height:normal;font-family:Menlo,'DejaVu Sans Mono',consolas,'Courier New',monospace\"><span style=\"color: #7fbfbf; text-decoration-color: #7fbfbf\">[04/11/23 19:18:40] </span><span style=\"color: #008000; text-decoration-color: #008000\">INFO    </span> <span style=\"color: #808000; text-decoration-color: #808000; font-weight: bold\">Writing</span> <span style=\"color: #008000; text-decoration-color: #008000\">3</span> \\pi to media/Tex/cc5afe7220be0bed.tex                 <a href=\"file:///usr/local/lib/python3.9/dist-packages/manim/utils/tex_file_writing.py\" target=\"_blank\"><span style=\"color: #7f7f7f; text-decoration-color: #7f7f7f\">tex_file_writing.py</span></a><span style=\"color: #7f7f7f; text-decoration-color: #7f7f7f\">:</span><a href=\"file:///usr/local/lib/python3.9/dist-packages/manim/utils/tex_file_writing.py#97\" target=\"_blank\"><span style=\"color: #7f7f7f; text-decoration-color: #7f7f7f\">97</span></a>\n",
              "</pre>\n"
            ]
          },
          "metadata": {}
        },
        {
          "output_type": "stream",
          "name": "stderr",
          "text": [
            "INFO:manim:Writing 3 \\pi to media/Tex/cc5afe7220be0bed.tex\n"
          ]
        },
        {
          "output_type": "display_data",
          "data": {
            "text/plain": [
              "\u001b[2;36m                   \u001b[0m\u001b[2;36m \u001b[0m\u001b[32mINFO    \u001b[0m \u001b[1;33mWriting\u001b[0m \u001b[32m4\u001b[0m \\pi to media/Tex/903915251f8e7d86.tex                 \u001b]8;id=528240;file:///usr/local/lib/python3.9/dist-packages/manim/utils/tex_file_writing.py\u001b\\\u001b[2mtex_file_writing.py\u001b[0m\u001b]8;;\u001b\\\u001b[2m:\u001b[0m\u001b]8;id=182600;file:///usr/local/lib/python3.9/dist-packages/manim/utils/tex_file_writing.py#97\u001b\\\u001b[2m97\u001b[0m\u001b]8;;\u001b\\\n"
            ],
            "text/html": [
              "<pre style=\"white-space:pre;overflow-x:auto;line-height:normal;font-family:Menlo,'DejaVu Sans Mono',consolas,'Courier New',monospace\"><span style=\"color: #7fbfbf; text-decoration-color: #7fbfbf\">                    </span><span style=\"color: #008000; text-decoration-color: #008000\">INFO    </span> <span style=\"color: #808000; text-decoration-color: #808000; font-weight: bold\">Writing</span> <span style=\"color: #008000; text-decoration-color: #008000\">4</span> \\pi to media/Tex/903915251f8e7d86.tex                 <a href=\"file:///usr/local/lib/python3.9/dist-packages/manim/utils/tex_file_writing.py\" target=\"_blank\"><span style=\"color: #7f7f7f; text-decoration-color: #7f7f7f\">tex_file_writing.py</span></a><span style=\"color: #7f7f7f; text-decoration-color: #7f7f7f\">:</span><a href=\"file:///usr/local/lib/python3.9/dist-packages/manim/utils/tex_file_writing.py#97\" target=\"_blank\"><span style=\"color: #7f7f7f; text-decoration-color: #7f7f7f\">97</span></a>\n",
              "</pre>\n"
            ]
          },
          "metadata": {}
        },
        {
          "output_type": "stream",
          "name": "stderr",
          "text": [
            "INFO:manim:Writing 4 \\pi to media/Tex/903915251f8e7d86.tex\n"
          ]
        },
        {
          "output_type": "stream",
          "name": "stdout",
          "text": [
            "[2. 0. 0.]\n"
          ]
        },
        {
          "output_type": "stream",
          "name": "stderr",
          "text": [
            "\rWaiting 0:   0%|          | 0/128 [00:00<?, ?it/s]"
          ]
        },
        {
          "output_type": "stream",
          "name": "stdout",
          "text": [
            "[2. 0. 0.]\n"
          ]
        },
        {
          "output_type": "stream",
          "name": "stderr",
          "text": [
            "\rWaiting 0:   2%|▏         | 2/128 [00:00<00:07, 16.42it/s]"
          ]
        },
        {
          "output_type": "stream",
          "name": "stdout",
          "text": [
            "[2.26666667 0.         0.        ]\n",
            "[2.53333333 0.         0.        ]\n",
            "[2.8 0.  0. ]\n",
            "[3.06666667 0.         0.        ]\n",
            "[3.33333333 0.         0.        ]\n",
            "[3.6 0.  0. ]\n"
          ]
        },
        {
          "output_type": "stream",
          "name": "stderr",
          "text": [
            "\rWaiting 0:   6%|▋         | 8/128 [00:00<00:03, 36.83it/s]"
          ]
        },
        {
          "output_type": "stream",
          "name": "stdout",
          "text": [
            "[3.86666667 0.         0.        ]\n",
            "[4.13333333 0.         0.        ]\n",
            "[4.4 0.  0. ]\n",
            "[4.66666667 0.         0.        ]\n"
          ]
        },
        {
          "output_type": "stream",
          "name": "stderr",
          "text": [
            "\rWaiting 0:  11%|█         | 14/128 [00:00<00:02, 43.59it/s]"
          ]
        },
        {
          "output_type": "stream",
          "name": "stdout",
          "text": [
            "[4.93333333 0.         0.        ]\n",
            "[5.2 0.  0. ]\n",
            "[5.46666667 0.         0.        ]\n",
            "[5.73333333 0.         0.        ]\n",
            "[6. 0. 0.]\n",
            "[6.26666667 0.         0.        ]\n",
            "[6.53333333 0.         0.        ]\n"
          ]
        },
        {
          "output_type": "stream",
          "name": "stderr",
          "text": [
            "\rWaiting 0:  15%|█▍        | 19/128 [00:00<00:02, 45.13it/s]"
          ]
        },
        {
          "output_type": "stream",
          "name": "stdout",
          "text": [
            "[6.8 0.  0. ]\n",
            "[7.06666667 0.         0.        ]\n",
            "[7.33333333 0.         0.        ]\n"
          ]
        },
        {
          "output_type": "stream",
          "name": "stderr",
          "text": [
            "\rWaiting 0:  19%|█▉        | 24/128 [00:00<00:02, 45.16it/s]"
          ]
        },
        {
          "output_type": "stream",
          "name": "stdout",
          "text": [
            "[7.6 0.  0. ]\n",
            "[7.86666667 0.         0.        ]\n",
            "[8.13333333 0.         0.        ]\n",
            "[8.4 0.  0. ]\n",
            "[8.66666667 0.         0.        ]\n",
            "[8.93333333 0.         0.        ]\n"
          ]
        },
        {
          "output_type": "stream",
          "name": "stderr",
          "text": [
            "\rWaiting 0:  23%|██▎       | 29/128 [00:00<00:02, 44.33it/s]"
          ]
        },
        {
          "output_type": "stream",
          "name": "stdout",
          "text": [
            "[9.2 0.  0. ]\n",
            "[9.46666667 0.         0.        ]\n",
            "[9.73333333 0.         0.        ]\n"
          ]
        },
        {
          "output_type": "stream",
          "name": "stderr",
          "text": [
            "\rWaiting 0:  27%|██▋       | 34/128 [00:00<00:02, 43.51it/s]"
          ]
        },
        {
          "output_type": "stream",
          "name": "stdout",
          "text": [
            "[10.  0.  0.]\n",
            "[10.26666667  0.          0.        ]\n",
            "[10.53333333  0.          0.        ]\n",
            "[10.8  0.   0. ]\n",
            "[11.06666667  0.          0.        ]\n",
            "[11.33333333  0.          0.        ]\n",
            "[11.6  0.   0. ]\n",
            "[11.86666667  0.          0.        ]\n",
            "[12.13333333  0.          0.        ]\n"
          ]
        },
        {
          "output_type": "stream",
          "name": "stderr",
          "text": [
            "\rWaiting 0:  30%|███       | 39/128 [00:00<00:02, 42.42it/s]"
          ]
        },
        {
          "output_type": "stream",
          "name": "stdout",
          "text": [
            "[12.4  0.   0. ]\n",
            "[12.66666667  0.          0.        ]\n",
            "[12.93333333  0.          0.        ]\n",
            "[13.2  0.   0. ]\n"
          ]
        },
        {
          "output_type": "stream",
          "name": "stderr",
          "text": [
            "\rWaiting 0:  34%|███▍      | 44/128 [00:01<00:02, 36.93it/s]"
          ]
        },
        {
          "output_type": "stream",
          "name": "stdout",
          "text": [
            "[13.46666667  0.          0.        ]\n",
            "[13.73333333  0.          0.        ]\n",
            "[14.  0.  0.]\n",
            "[14.26666667  0.          0.        ]\n",
            "[14.53333333  0.          0.        ]\n"
          ]
        },
        {
          "output_type": "stream",
          "name": "stderr",
          "text": [
            "\rWaiting 0:  38%|███▊      | 48/128 [00:01<00:02, 31.74it/s]"
          ]
        },
        {
          "output_type": "stream",
          "name": "stdout",
          "text": [
            "[14.8  0.   0. ]\n",
            "[15.06666667  0.          0.        ]\n",
            "[15.33333333  0.          0.        ]\n"
          ]
        },
        {
          "output_type": "stream",
          "name": "stderr",
          "text": [
            "\rWaiting 0:  41%|████      | 52/128 [00:01<00:02, 31.72it/s]"
          ]
        },
        {
          "output_type": "stream",
          "name": "stdout",
          "text": [
            "[15.6  0.   0. ]\n",
            "[15.86666667  0.          0.        ]\n",
            "[16.13333333  0.          0.        ]\n",
            "[16.4  0.   0. ]\n"
          ]
        },
        {
          "output_type": "stream",
          "name": "stderr",
          "text": [
            "\rWaiting 0:  44%|████▍     | 56/128 [00:01<00:02, 31.60it/s]"
          ]
        },
        {
          "output_type": "stream",
          "name": "stdout",
          "text": [
            "[16.66666667  0.          0.        ]\n",
            "[16.93333333  0.          0.        ]\n",
            "[17.2  0.   0. ]\n"
          ]
        },
        {
          "output_type": "stream",
          "name": "stderr",
          "text": [
            "\rWaiting 0:  47%|████▋     | 60/128 [00:01<00:02, 30.54it/s]"
          ]
        },
        {
          "output_type": "stream",
          "name": "stdout",
          "text": [
            "[17.46666667  0.          0.        ]\n",
            "[17.73333333  0.          0.        ]\n",
            "[18.  0.  0.]\n",
            "[18.26666667  0.          0.        ]\n",
            "[18.53333333  0.          0.        ]\n",
            "[18.8  0.   0. ]\n"
          ]
        },
        {
          "output_type": "stream",
          "name": "stderr",
          "text": [
            "\rWaiting 0:  50%|█████     | 64/128 [00:01<00:02, 29.90it/s]"
          ]
        },
        {
          "output_type": "stream",
          "name": "stdout",
          "text": [
            "[19.06666667  0.          0.        ]\n",
            "[19.33333333  0.          0.        ]\n",
            "[19.6  0.   0. ]\n",
            "[19.86666667  0.          0.        ]"
          ]
        },
        {
          "output_type": "stream",
          "name": "stderr",
          "text": [
            "\rWaiting 0:  53%|█████▎    | 68/128 [00:01<00:02, 29.08it/s]"
          ]
        },
        {
          "output_type": "stream",
          "name": "stdout",
          "text": [
            "\n",
            "[20.13333333  0.          0.        ]\n",
            "[20.4  0.   0. ]\n",
            "[20.66666667  0.          0.        ]\n"
          ]
        },
        {
          "output_type": "stream",
          "name": "stderr",
          "text": [
            "\rWaiting 0:  55%|█████▌    | 71/128 [00:02<00:02, 28.31it/s]"
          ]
        },
        {
          "output_type": "stream",
          "name": "stdout",
          "text": [
            "[20.93333333  0.          0.        ]\n",
            "[21.2  0.   0. ]\n"
          ]
        },
        {
          "output_type": "stream",
          "name": "stderr",
          "text": [
            "\rWaiting 0:  58%|█████▊    | 74/128 [00:02<00:01, 28.66it/s]"
          ]
        },
        {
          "output_type": "stream",
          "name": "stdout",
          "text": [
            "[21.46666667  0.          0.        ]\n",
            "[21.73333333  0.          0.        ]\n",
            "[22.  0.  0.]\n",
            "[22.26666667  0.          0.        ]\n"
          ]
        },
        {
          "output_type": "stream",
          "name": "stderr",
          "text": [
            "\rWaiting 0:  60%|██████    | 77/128 [00:02<00:01, 27.94it/s]"
          ]
        },
        {
          "output_type": "stream",
          "name": "stdout",
          "text": [
            "[22.53333333  0.          0.        ]\n",
            "[22.8  0.   0. ]\n"
          ]
        },
        {
          "output_type": "stream",
          "name": "stderr",
          "text": [
            "\rWaiting 0:  62%|██████▎   | 80/128 [00:02<00:01, 28.10it/s]"
          ]
        },
        {
          "output_type": "stream",
          "name": "stdout",
          "text": [
            "[23.06666667  0.          0.        ]\n",
            "[23.33333333  0.          0.        ]\n",
            "[23.6  0.   0. ]\n",
            "[23.86666667  0.          0.        ]\n"
          ]
        },
        {
          "output_type": "stream",
          "name": "stderr",
          "text": [
            "\rWaiting 0:  66%|██████▌   | 84/128 [00:02<00:01, 28.40it/s]"
          ]
        },
        {
          "output_type": "stream",
          "name": "stdout",
          "text": [
            "[24.13333333  0.          0.        ]\n",
            "[24.4  0.   0. ]\n"
          ]
        },
        {
          "output_type": "stream",
          "name": "stderr",
          "text": [
            "\rWaiting 0:  68%|██████▊   | 87/128 [00:02<00:01, 27.95it/s]"
          ]
        },
        {
          "output_type": "stream",
          "name": "stdout",
          "text": [
            "[24.66666667  0.          0.        ]\n",
            "[24.93333333  0.          0.        ]\n",
            "[25.2  0.   0. ]\n",
            "[25.46666667  0.          0.        ]\n",
            "[25.73333333  0.          0.        ]\n"
          ]
        },
        {
          "output_type": "stream",
          "name": "stderr",
          "text": [
            "\rWaiting 0:  70%|███████   | 90/128 [00:02<00:01, 27.76it/s]"
          ]
        },
        {
          "output_type": "stream",
          "name": "stdout",
          "text": [
            "[26.  0.  0.]\n"
          ]
        },
        {
          "output_type": "stream",
          "name": "stderr",
          "text": [
            "\rWaiting 0:  73%|███████▎  | 93/128 [00:02<00:01, 27.28it/s]"
          ]
        },
        {
          "output_type": "stream",
          "name": "stdout",
          "text": [
            "[26.26666667  0.          0.        ]\n",
            "[26.53333333  0.          0.        ]\n",
            "[26.8  0.   0. ]\n",
            "[27.06666667  0.          0.        ]\n",
            "[27.33333333  0.          0.        ]\n"
          ]
        },
        {
          "output_type": "stream",
          "name": "stderr",
          "text": [
            "\rWaiting 0:  75%|███████▌  | 96/128 [00:02<00:01, 27.26it/s]"
          ]
        },
        {
          "output_type": "stream",
          "name": "stdout",
          "text": [
            "[27.6  0.   0. ]\n"
          ]
        },
        {
          "output_type": "stream",
          "name": "stderr",
          "text": [
            "\rWaiting 0:  77%|███████▋  | 99/128 [00:03<00:01, 26.15it/s]"
          ]
        },
        {
          "output_type": "stream",
          "name": "stdout",
          "text": [
            "[27.86666667  0.          0.        ]\n",
            "[28.13333333  0.          0.        ]\n",
            "[28.4  0.   0. ]\n",
            "[28.66666667  0.          0.        ]\n",
            "[28.93333333  0.          0.        ]\n"
          ]
        },
        {
          "output_type": "stream",
          "name": "stderr",
          "text": [
            "\rWaiting 0:  80%|███████▉  | 102/128 [00:03<00:01, 25.87it/s]"
          ]
        },
        {
          "output_type": "stream",
          "name": "stdout",
          "text": [
            "[29.2  0.   0. ]\n"
          ]
        },
        {
          "output_type": "stream",
          "name": "stderr",
          "text": [
            "\rWaiting 0:  82%|████████▏ | 105/128 [00:03<00:00, 26.07it/s]"
          ]
        },
        {
          "output_type": "stream",
          "name": "stdout",
          "text": [
            "[29.46666667  0.          0.        ]\n",
            "[29.73333333  0.          0.        ]\n",
            "[30.  0.  0.]\n",
            "[30.26666667  0.          0.        ]\n",
            "[30.53333333  0.          0.        ]\n",
            "[30.8  0.   0. ]\n",
            "[31.06666667  0.          0.        ]\n"
          ]
        },
        {
          "output_type": "stream",
          "name": "stderr",
          "text": [
            "\rWaiting 0:  86%|████████▌ | 110/128 [00:03<00:00, 30.45it/s]"
          ]
        },
        {
          "output_type": "stream",
          "name": "stdout",
          "text": [
            "[31.33333333  0.          0.        ]\n"
          ]
        },
        {
          "output_type": "stream",
          "name": "stderr",
          "text": [
            "\rWaiting 0:  89%|████████▉ | 114/128 [00:03<00:00, 32.38it/s]"
          ]
        },
        {
          "output_type": "stream",
          "name": "stdout",
          "text": [
            "[31.6  0.   0. ]\n",
            "[31.86666667  0.          0.        ]\n",
            "[32.13333333  0.          0.        ]\n",
            "[32.4  0.   0. ]\n",
            "[32.66666667  0.          0.        ]\n",
            "[32.93333333  0.          0.        ]\n",
            "[33.2  0.   0. ]\n"
          ]
        },
        {
          "output_type": "stream",
          "name": "stderr",
          "text": [
            "\rWaiting 0:  92%|█████████▏| 118/128 [00:03<00:00, 33.71it/s]"
          ]
        },
        {
          "output_type": "stream",
          "name": "stdout",
          "text": [
            "[33.46666667  0.          0.        ]\n"
          ]
        },
        {
          "output_type": "stream",
          "name": "stderr",
          "text": [
            "\rWaiting 0:  95%|█████████▌| 122/128 [00:03<00:00, 34.96it/s]"
          ]
        },
        {
          "output_type": "stream",
          "name": "stdout",
          "text": [
            "[33.73333333  0.          0.        ]\n",
            "[34.  0.  0.]\n",
            "[34.26666667  0.          0.        ]\n",
            "[34.53333333  0.          0.        ]\n",
            "[34.8  0.   0. ]\n",
            "[35.06666667  0.          0.        ]\n",
            "[35.33333333  0.          0.        ]\n",
            "[35.6  0.   0. ]\n"
          ]
        },
        {
          "output_type": "stream",
          "name": "stderr",
          "text": []
        },
        {
          "output_type": "stream",
          "name": "stdout",
          "text": [
            "[35.86666667  0.          0.        ]\n",
            "[35.86666667  0.          0.        ]\n"
          ]
        },
        {
          "output_type": "display_data",
          "data": {
            "text/plain": [
              "\u001b[2;36m[04/11/23 19:18:45]\u001b[0m\u001b[2;36m \u001b[0m\u001b[32mINFO    \u001b[0m Animation \u001b[32m0\u001b[0m : Partial movie file written in                   \u001b]8;id=185174;file:///usr/local/lib/python3.9/dist-packages/manim/scene/scene_file_writer.py\u001b\\\u001b[2mscene_file_writer.py\u001b[0m\u001b]8;;\u001b\\\u001b[2m:\u001b[0m\u001b]8;id=269120;file:///usr/local/lib/python3.9/dist-packages/manim/scene/scene_file_writer.py#527\u001b\\\u001b[2m527\u001b[0m\u001b]8;;\u001b\\\n",
              "\u001b[2;36m                    \u001b[0m         \u001b[32m'/content/media/videos/content/480p15/partial_movie_files/Sin\u001b[0m \u001b[2m                        \u001b[0m\n",
              "\u001b[2;36m                    \u001b[0m         \u001b[32meFunctionWithUnitCircle/4266129954_2101260726_2119512064.mp4'\u001b[0m \u001b[2m                        \u001b[0m\n"
            ],
            "text/html": [
              "<pre style=\"white-space:pre;overflow-x:auto;line-height:normal;font-family:Menlo,'DejaVu Sans Mono',consolas,'Courier New',monospace\"><span style=\"color: #7fbfbf; text-decoration-color: #7fbfbf\">[04/11/23 19:18:45] </span><span style=\"color: #008000; text-decoration-color: #008000\">INFO    </span> Animation <span style=\"color: #008000; text-decoration-color: #008000\">0</span> : Partial movie file written in                   <a href=\"file:///usr/local/lib/python3.9/dist-packages/manim/scene/scene_file_writer.py\" target=\"_blank\"><span style=\"color: #7f7f7f; text-decoration-color: #7f7f7f\">scene_file_writer.py</span></a><span style=\"color: #7f7f7f; text-decoration-color: #7f7f7f\">:</span><a href=\"file:///usr/local/lib/python3.9/dist-packages/manim/scene/scene_file_writer.py#527\" target=\"_blank\"><span style=\"color: #7f7f7f; text-decoration-color: #7f7f7f\">527</span></a>\n",
              "<span style=\"color: #7fbfbf; text-decoration-color: #7fbfbf\">                    </span>         <span style=\"color: #008000; text-decoration-color: #008000\">'/content/media/videos/content/480p15/partial_movie_files/Sin</span> <span style=\"color: #7f7f7f; text-decoration-color: #7f7f7f\">                        </span>\n",
              "<span style=\"color: #7fbfbf; text-decoration-color: #7fbfbf\">                    </span>         <span style=\"color: #008000; text-decoration-color: #008000\">eFunctionWithUnitCircle/4266129954_2101260726_2119512064.mp4'</span> <span style=\"color: #7f7f7f; text-decoration-color: #7f7f7f\">                        </span>\n",
              "</pre>\n"
            ]
          },
          "metadata": {}
        },
        {
          "output_type": "stream",
          "name": "stderr",
          "text": [
            "INFO:manim:Animation 0 : Partial movie file written in '/content/media/videos/content/480p15/partial_movie_files/SineFunctionWithUnitCircle/4266129954_2101260726_2119512064.mp4'\n"
          ]
        },
        {
          "output_type": "stream",
          "name": "stdout",
          "text": [
            "[35.86666667  0.          0.        ]\n"
          ]
        },
        {
          "output_type": "stream",
          "name": "stderr",
          "text": [
            "\rWaiting 1:   0%|          | 0/15 [00:00<?, ?it/s]"
          ]
        },
        {
          "output_type": "stream",
          "name": "stdout",
          "text": [
            "[35.86666667  0.          0.        ]\n"
          ]
        },
        {
          "output_type": "stream",
          "name": "stderr",
          "text": [
            "\rWaiting 1:  13%|█▎        | 2/15 [00:00<00:00, 18.94it/s]"
          ]
        },
        {
          "output_type": "stream",
          "name": "stdout",
          "text": [
            "[36.13333333  0.          0.        ]\n",
            "[36.4  0.   0. ]\n",
            "[36.66666667  0.          0.        ]\n",
            "[36.93333333  0.          0.        ]\n",
            "[37.2  0.   0. ]\n",
            "[37.46666667  0.          0.        ]\n"
          ]
        },
        {
          "output_type": "stream",
          "name": "stderr",
          "text": [
            "\rWaiting 1:  47%|████▋     | 7/15 [00:00<00:00, 33.81it/s]"
          ]
        },
        {
          "output_type": "stream",
          "name": "stdout",
          "text": [
            "[37.73333333  0.          0.        ]\n",
            "[38.  0.  0.]\n",
            "[38.26666667  0.          0.        ]\n",
            "[38.53333333  0.          0.        ]\n"
          ]
        },
        {
          "output_type": "stream",
          "name": "stderr",
          "text": []
        },
        {
          "output_type": "stream",
          "name": "stdout",
          "text": [
            "[38.8  0.   0. ]\n",
            "[39.06666667  0.          0.        ]\n",
            "[39.33333333  0.          0.        ]\n",
            "[39.6  0.   0. ]\n",
            "[39.6  0.   0. ]\n"
          ]
        },
        {
          "output_type": "display_data",
          "data": {
            "text/plain": [
              "\u001b[2;36m[04/11/23 19:18:46]\u001b[0m\u001b[2;36m \u001b[0m\u001b[32mINFO    \u001b[0m Animation \u001b[32m1\u001b[0m : Partial movie file written in                   \u001b]8;id=406345;file:///usr/local/lib/python3.9/dist-packages/manim/scene/scene_file_writer.py\u001b\\\u001b[2mscene_file_writer.py\u001b[0m\u001b]8;;\u001b\\\u001b[2m:\u001b[0m\u001b]8;id=892279;file:///usr/local/lib/python3.9/dist-packages/manim/scene/scene_file_writer.py#527\u001b\\\u001b[2m527\u001b[0m\u001b]8;;\u001b\\\n",
              "\u001b[2;36m                    \u001b[0m         \u001b[32m'/content/media/videos/content/480p15/partial_movie_files/Sin\u001b[0m \u001b[2m                        \u001b[0m\n",
              "\u001b[2;36m                    \u001b[0m         \u001b[32meFunctionWithUnitCircle/1442284246_3604166955_3760956451.mp4'\u001b[0m \u001b[2m                        \u001b[0m\n"
            ],
            "text/html": [
              "<pre style=\"white-space:pre;overflow-x:auto;line-height:normal;font-family:Menlo,'DejaVu Sans Mono',consolas,'Courier New',monospace\"><span style=\"color: #7fbfbf; text-decoration-color: #7fbfbf\">[04/11/23 19:18:46] </span><span style=\"color: #008000; text-decoration-color: #008000\">INFO    </span> Animation <span style=\"color: #008000; text-decoration-color: #008000\">1</span> : Partial movie file written in                   <a href=\"file:///usr/local/lib/python3.9/dist-packages/manim/scene/scene_file_writer.py\" target=\"_blank\"><span style=\"color: #7f7f7f; text-decoration-color: #7f7f7f\">scene_file_writer.py</span></a><span style=\"color: #7f7f7f; text-decoration-color: #7f7f7f\">:</span><a href=\"file:///usr/local/lib/python3.9/dist-packages/manim/scene/scene_file_writer.py#527\" target=\"_blank\"><span style=\"color: #7f7f7f; text-decoration-color: #7f7f7f\">527</span></a>\n",
              "<span style=\"color: #7fbfbf; text-decoration-color: #7fbfbf\">                    </span>         <span style=\"color: #008000; text-decoration-color: #008000\">'/content/media/videos/content/480p15/partial_movie_files/Sin</span> <span style=\"color: #7f7f7f; text-decoration-color: #7f7f7f\">                        </span>\n",
              "<span style=\"color: #7fbfbf; text-decoration-color: #7fbfbf\">                    </span>         <span style=\"color: #008000; text-decoration-color: #008000\">eFunctionWithUnitCircle/1442284246_3604166955_3760956451.mp4'</span> <span style=\"color: #7f7f7f; text-decoration-color: #7f7f7f\">                        </span>\n",
              "</pre>\n"
            ]
          },
          "metadata": {}
        },
        {
          "output_type": "stream",
          "name": "stderr",
          "text": [
            "INFO:manim:Animation 1 : Partial movie file written in '/content/media/videos/content/480p15/partial_movie_files/SineFunctionWithUnitCircle/1442284246_3604166955_3760956451.mp4'\n"
          ]
        },
        {
          "output_type": "display_data",
          "data": {
            "text/plain": [
              "\u001b[2;36m                   \u001b[0m\u001b[2;36m \u001b[0m\u001b[32mINFO    \u001b[0m Combining to Movie file.                                      \u001b]8;id=271987;file:///usr/local/lib/python3.9/dist-packages/manim/scene/scene_file_writer.py\u001b\\\u001b[2mscene_file_writer.py\u001b[0m\u001b]8;;\u001b\\\u001b[2m:\u001b[0m\u001b]8;id=968028;file:///usr/local/lib/python3.9/dist-packages/manim/scene/scene_file_writer.py#617\u001b\\\u001b[2m617\u001b[0m\u001b]8;;\u001b\\\n"
            ],
            "text/html": [
              "<pre style=\"white-space:pre;overflow-x:auto;line-height:normal;font-family:Menlo,'DejaVu Sans Mono',consolas,'Courier New',monospace\"><span style=\"color: #7fbfbf; text-decoration-color: #7fbfbf\">                    </span><span style=\"color: #008000; text-decoration-color: #008000\">INFO    </span> Combining to Movie file.                                      <a href=\"file:///usr/local/lib/python3.9/dist-packages/manim/scene/scene_file_writer.py\" target=\"_blank\"><span style=\"color: #7f7f7f; text-decoration-color: #7f7f7f\">scene_file_writer.py</span></a><span style=\"color: #7f7f7f; text-decoration-color: #7f7f7f\">:</span><a href=\"file:///usr/local/lib/python3.9/dist-packages/manim/scene/scene_file_writer.py#617\" target=\"_blank\"><span style=\"color: #7f7f7f; text-decoration-color: #7f7f7f\">617</span></a>\n",
              "</pre>\n"
            ]
          },
          "metadata": {}
        },
        {
          "output_type": "stream",
          "name": "stderr",
          "text": [
            "INFO:manim:Combining to Movie file.\n"
          ]
        },
        {
          "output_type": "display_data",
          "data": {
            "text/plain": [
              "\u001b[2;36m                   \u001b[0m\u001b[2;36m \u001b[0m\u001b[32mINFO    \u001b[0m                                                               \u001b]8;id=176310;file:///usr/local/lib/python3.9/dist-packages/manim/scene/scene_file_writer.py\u001b\\\u001b[2mscene_file_writer.py\u001b[0m\u001b]8;;\u001b\\\u001b[2m:\u001b[0m\u001b]8;id=942035;file:///usr/local/lib/python3.9/dist-packages/manim/scene/scene_file_writer.py#736\u001b\\\u001b[2m736\u001b[0m\u001b]8;;\u001b\\\n",
              "\u001b[2;36m                    \u001b[0m         \u001b[1;33mFile\u001b[0m ready at                                                 \u001b[2m                        \u001b[0m\n",
              "\u001b[2;36m                    \u001b[0m         \u001b[32m'/content/media/videos/content/480p15/SineFunctionWithUnitCir\u001b[0m \u001b[2m                        \u001b[0m\n",
              "\u001b[2;36m                    \u001b[0m         \u001b[32mcle.mp4'\u001b[0m                                                      \u001b[2m                        \u001b[0m\n",
              "\u001b[2;36m                    \u001b[0m                                                                       \u001b[2m                        \u001b[0m\n"
            ],
            "text/html": [
              "<pre style=\"white-space:pre;overflow-x:auto;line-height:normal;font-family:Menlo,'DejaVu Sans Mono',consolas,'Courier New',monospace\"><span style=\"color: #7fbfbf; text-decoration-color: #7fbfbf\">                    </span><span style=\"color: #008000; text-decoration-color: #008000\">INFO    </span>                                                               <a href=\"file:///usr/local/lib/python3.9/dist-packages/manim/scene/scene_file_writer.py\" target=\"_blank\"><span style=\"color: #7f7f7f; text-decoration-color: #7f7f7f\">scene_file_writer.py</span></a><span style=\"color: #7f7f7f; text-decoration-color: #7f7f7f\">:</span><a href=\"file:///usr/local/lib/python3.9/dist-packages/manim/scene/scene_file_writer.py#736\" target=\"_blank\"><span style=\"color: #7f7f7f; text-decoration-color: #7f7f7f\">736</span></a>\n",
              "<span style=\"color: #7fbfbf; text-decoration-color: #7fbfbf\">                    </span>         <span style=\"color: #808000; text-decoration-color: #808000; font-weight: bold\">File</span> ready at                                                 <span style=\"color: #7f7f7f; text-decoration-color: #7f7f7f\">                        </span>\n",
              "<span style=\"color: #7fbfbf; text-decoration-color: #7fbfbf\">                    </span>         <span style=\"color: #008000; text-decoration-color: #008000\">'/content/media/videos/content/480p15/SineFunctionWithUnitCir</span> <span style=\"color: #7f7f7f; text-decoration-color: #7f7f7f\">                        </span>\n",
              "<span style=\"color: #7fbfbf; text-decoration-color: #7fbfbf\">                    </span>         <span style=\"color: #008000; text-decoration-color: #008000\">cle.mp4'</span>                                                      <span style=\"color: #7f7f7f; text-decoration-color: #7f7f7f\">                        </span>\n",
              "<span style=\"color: #7fbfbf; text-decoration-color: #7fbfbf\">                    </span>                                                                       <span style=\"color: #7f7f7f; text-decoration-color: #7f7f7f\">                        </span>\n",
              "</pre>\n"
            ]
          },
          "metadata": {}
        },
        {
          "output_type": "stream",
          "name": "stderr",
          "text": [
            "INFO:manim:\n",
            "File ready at '/content/media/videos/content/480p15/SineFunctionWithUnitCircle.mp4'\n",
            "\n"
          ]
        },
        {
          "output_type": "display_data",
          "data": {
            "text/plain": [
              "\u001b[2;36m                   \u001b[0m\u001b[2;36m \u001b[0m\u001b[32mINFO    \u001b[0m \u001b[1;33mRendered\u001b[0m SineFunctionWithUnitCircle                                       \u001b]8;id=106742;file:///usr/local/lib/python3.9/dist-packages/manim/scene/scene.py\u001b\\\u001b[2mscene.py\u001b[0m\u001b]8;;\u001b\\\u001b[2m:\u001b[0m\u001b]8;id=263981;file:///usr/local/lib/python3.9/dist-packages/manim/scene/scene.py#241\u001b\\\u001b[2m241\u001b[0m\u001b]8;;\u001b\\\n",
              "\u001b[2;36m                    \u001b[0m         \u001b[1;33mPlayed\u001b[0m \u001b[32m2\u001b[0m \u001b[1;33manimations\u001b[0m                                                       \u001b[2m            \u001b[0m\n"
            ],
            "text/html": [
              "<pre style=\"white-space:pre;overflow-x:auto;line-height:normal;font-family:Menlo,'DejaVu Sans Mono',consolas,'Courier New',monospace\"><span style=\"color: #7fbfbf; text-decoration-color: #7fbfbf\">                    </span><span style=\"color: #008000; text-decoration-color: #008000\">INFO    </span> <span style=\"color: #808000; text-decoration-color: #808000; font-weight: bold\">Rendered</span> SineFunctionWithUnitCircle                                       <a href=\"file:///usr/local/lib/python3.9/dist-packages/manim/scene/scene.py\" target=\"_blank\"><span style=\"color: #7f7f7f; text-decoration-color: #7f7f7f\">scene.py</span></a><span style=\"color: #7f7f7f; text-decoration-color: #7f7f7f\">:</span><a href=\"file:///usr/local/lib/python3.9/dist-packages/manim/scene/scene.py#241\" target=\"_blank\"><span style=\"color: #7f7f7f; text-decoration-color: #7f7f7f\">241</span></a>\n",
              "<span style=\"color: #7fbfbf; text-decoration-color: #7fbfbf\">                    </span>         <span style=\"color: #808000; text-decoration-color: #808000; font-weight: bold\">Played</span> <span style=\"color: #008000; text-decoration-color: #008000\">2</span> <span style=\"color: #808000; text-decoration-color: #808000; font-weight: bold\">animations</span>                                                       <span style=\"color: #7f7f7f; text-decoration-color: #7f7f7f\">            </span>\n",
              "</pre>\n"
            ]
          },
          "metadata": {}
        },
        {
          "output_type": "stream",
          "name": "stderr",
          "text": [
            "INFO:manim:Rendered SineFunctionWithUnitCircle\n",
            "Played 2 animations\n"
          ]
        },
        {
          "output_type": "display_data",
          "data": {
            "text/plain": [
              "<IPython.core.display.Video object>"
            ],
            "text/html": [
              "<video controls autoplay loop style=\"max-width: 60%;\"  >\n",
              " <source src=\"data:video/mp4;base64,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\" type=\"video/mp4\">\n",
              " Your browser does not support the video tag.\n",
              " </video>"
            ]
          },
          "metadata": {}
        }
      ]
    },
    {
      "cell_type": "code",
      "source": [
        "%%manim -ql SineFunctionWithUnitCircle\n",
        "from manim import *\n",
        "\n",
        "class SineFunctionWithUnitCircle(Scene):\n",
        "    # contributed by heejin_park, https://infograph.tistory.com/230\n",
        "    def construct(self):\n",
        "        self.show_axis()\n",
        "        self.show_circle()\n",
        "        self.move_dot_and_draw_curve()\n",
        "        \n",
        "        self.wait()\n",
        "\n",
        "    def show_axis(self):\n",
        "        x_start = np.array([-6,0,0])\n",
        "        x_end = np.array([6,0,0])\n",
        "\n",
        "        y_start = np.array([-4,-2,0])\n",
        "        y_end = np.array([-4,2,0])\n",
        "\n",
        "        x_axis = Line(x_start, x_end)\n",
        "        y_axis = Line(y_start, y_end)\n",
        "\n",
        "        self.add(x_axis, y_axis)\n",
        "        self.add_x_labels()\n",
        "\n",
        "        self.origin_point = np.array([-4,0,0])\n",
        "        self.a=Dot().move_to(np.array([2,0,0]))\n",
        "        def shift_right(obj, dt):\n",
        "            obj.shift(RIGHT*2*dt)\n",
        "            print(obj.get_center())  # print the coordinate of obj\n",
        "\n",
        "        self.a.add_updater(shift_right)\n",
        "        self.curve_start = self.a.get_center()\n",
        "        print(\"point : \", self.curve_start)\n",
        "        self.add(self.a)\n",
        "        \n",
        "        #np.array([3,0,0])\n",
        "\n",
        "    def add_x_labels(self):\n",
        "        x_labels = [\n",
        "            MathTex(\"\\pi\"), MathTex(\"2 \\pi\"),\n",
        "            MathTex(\"3 \\pi\"), MathTex(\"4 \\pi\"),\n",
        "        ]\n",
        "\n",
        "        for i in range(len(x_labels)):\n",
        "            x_labels[i].next_to(np.array([-1 + 2*i, 0, 0]), DOWN)\n",
        "            self.add(x_labels[i])\n",
        "\n",
        "    def show_circle(self):\n",
        "        circle = Circle(radius=1)\n",
        "        circle.move_to(self.origin_point)\n",
        "        self.add(circle)\n",
        "        self.circle = circle\n",
        "\n",
        "    def move_dot_and_draw_curve(self):\n",
        "        orbit = self.circle\n",
        "        origin_point = self.origin_point\n",
        "\n",
        "        dot = Dot(radius=0.06, color=YELLOW)\n",
        "        dot.move_to(orbit.point_from_proportion(0))\n",
        "        self.t_offset = 0\n",
        "        rate = 0.25\n",
        "\n",
        "        def go_around_circle(mob, dt):\n",
        "            self.t_offset += (dt * rate)\n",
        "            # print(self.t_offset)\n",
        "            mob.move_to(orbit.point_from_proportion(self.t_offset % 1))\n",
        "\n",
        "        def get_line_to_circle():\n",
        "            return Line(origin_point, dot.get_center(), color=RED_A)\n",
        "\n",
        "        def get_line_to_curve():\n",
        "            x = self.curve_start[0] - self.t_offset * 4\n",
        "            y = dot.get_center()[1]\n",
        "            return Line(dot.get_center(), np.array([x,y,0]), color=YELLOW_A, stroke_width=2 )\n",
        "\n",
        "\n",
        "        self.curve = VGroup()\n",
        "        self.curve.add(Line(self.curve_start,self.curve_start))\n",
        "        def get_curve():\n",
        "            last_line = self.curve[-1]\n",
        "            x = self.curve_start[0] - self.t_offset * 4\n",
        "            y = dot.get_center()[1]\n",
        "            new_line = Line(last_line.get_end(),np.array([x,y,0]), color=RED_D)\n",
        "            self.curve.add(new_line)\n",
        "\n",
        "            return self.curve\n",
        "\n",
        "        dot.add_updater(go_around_circle)\n",
        "\n",
        "        origin_to_circle_line = always_redraw(get_line_to_circle)\n",
        "        dot_to_curve_line = always_redraw(get_line_to_curve)\n",
        "        sine_curve_line = always_redraw(get_curve)\n",
        "\n",
        "        \n",
        "        self.add(dot)\n",
        "        self.add(orbit, origin_to_circle_line, dot_to_curve_line, sine_curve_line)\n",
        "        self.wait(9.5)\n",
        "\n",
        "        dot.remove_updater(go_around_circle)"
      ],
      "metadata": {
        "colab": {
          "base_uri": "https://localhost:8080/",
          "height": 1000
        },
        "id": "aZio8Nep-Qkk",
        "outputId": "547722a3-3916-40f7-f854-f0bea84f4d73"
      },
      "execution_count": 4,
      "outputs": [
        {
          "output_type": "stream",
          "name": "stdout",
          "text": [
            "point :  [2. 0. 0.]\n",
            "[2. 0. 0.]\n"
          ]
        },
        {
          "output_type": "stream",
          "name": "stderr",
          "text": [
            "\rWaiting 0:   0%|          | 0/143 [00:00<?, ?it/s]"
          ]
        },
        {
          "output_type": "stream",
          "name": "stdout",
          "text": [
            "[2. 0. 0.]\n",
            "[2.13333333 0.         0.        ]\n"
          ]
        },
        {
          "output_type": "stream",
          "name": "stderr",
          "text": [
            "\rWaiting 0:   1%|▏         | 2/143 [00:00<00:09, 15.56it/s]"
          ]
        },
        {
          "output_type": "stream",
          "name": "stdout",
          "text": [
            "[2.26666667 0.         0.        ]\n",
            "[2.4 0.  0. ]\n",
            "[2.53333333 0.         0.        ]\n",
            "[2.66666667 0.         0.        ]\n",
            "[2.8 0.  0. ]"
          ]
        },
        {
          "output_type": "stream",
          "name": "stderr",
          "text": [
            "\rWaiting 0:   6%|▌         | 8/143 [00:00<00:03, 36.59it/s]"
          ]
        },
        {
          "output_type": "stream",
          "name": "stdout",
          "text": [
            "\n",
            "[2.93333333 0.         0.        ]\n",
            "[3.06666667 0.         0.        ]\n",
            "[3.2 0.  0. ]\n",
            "[3.33333333 0.         0.        ]\n",
            "[3.46666667 0.         0.        ]\n",
            "[3.6 0.  0. ]\n",
            "[3.73333333 0.         0.        ]"
          ]
        },
        {
          "output_type": "stream",
          "name": "stderr",
          "text": [
            "\rWaiting 0:  10%|▉         | 14/143 [00:00<00:03, 42.38it/s]"
          ]
        },
        {
          "output_type": "stream",
          "name": "stdout",
          "text": [
            "\n",
            "[3.86666667 0.         0.        ]\n",
            "[4. 0. 0.]\n",
            "[4.13333333 0.         0.        ]\n"
          ]
        },
        {
          "output_type": "stream",
          "name": "stderr",
          "text": [
            "\rWaiting 0:  13%|█▎        | 19/143 [00:00<00:02, 43.26it/s]"
          ]
        },
        {
          "output_type": "stream",
          "name": "stdout",
          "text": [
            "[4.26666667 0.         0.        ]\n",
            "[4.4 0.  0. ]\n",
            "[4.53333333 0.         0.        ]\n",
            "[4.66666667 0.         0.        ]\n",
            "[4.8 0.  0. ]\n",
            "[4.93333333 0.         0.        ]"
          ]
        },
        {
          "output_type": "stream",
          "name": "stderr",
          "text": [
            "\rWaiting 0:  17%|█▋        | 24/143 [00:00<00:02, 43.74it/s]"
          ]
        },
        {
          "output_type": "stream",
          "name": "stdout",
          "text": [
            "\n",
            "[5.06666667 0.         0.        ]\n",
            "[5.2 0.  0. ]\n",
            "[5.33333333 0.         0.        ]\n"
          ]
        },
        {
          "output_type": "stream",
          "name": "stderr",
          "text": [
            "\rWaiting 0:  20%|██        | 29/143 [00:00<00:02, 44.59it/s]"
          ]
        },
        {
          "output_type": "stream",
          "name": "stdout",
          "text": [
            "[5.46666667 0.         0.        ]\n",
            "[5.6 0.  0. ]\n",
            "[5.73333333 0.         0.        ]\n",
            "[5.86666667 0.         0.        ]\n",
            "[6. 0. 0.]\n",
            "[6.13333333 0.         0.        ]\n"
          ]
        },
        {
          "output_type": "stream",
          "name": "stderr",
          "text": [
            "\rWaiting 0:  24%|██▍       | 34/143 [00:00<00:02, 42.34it/s]"
          ]
        },
        {
          "output_type": "stream",
          "name": "stdout",
          "text": [
            "[6.26666667 0.         0.        ]\n",
            "[6.4 0.  0. ]\n",
            "[6.53333333 0.         0.        ]\n"
          ]
        },
        {
          "output_type": "stream",
          "name": "stderr",
          "text": [
            "\rWaiting 0:  27%|██▋       | 39/143 [00:00<00:02, 41.87it/s]"
          ]
        },
        {
          "output_type": "stream",
          "name": "stdout",
          "text": [
            "[6.66666667 0.         0.        ]\n",
            "[6.8 0.  0. ]\n",
            "[6.93333333 0.         0.        ]\n",
            "[7.06666667 0.         0.        ]\n",
            "[7.2 0.  0. ]\n",
            "[7.33333333 0.         0.        ]\n",
            "[7.46666667 0.         0.        ]\n",
            "[7.6 0.  0. ]\n"
          ]
        },
        {
          "output_type": "stream",
          "name": "stderr",
          "text": [
            "\rWaiting 0:  31%|███       | 44/143 [00:01<00:02, 37.59it/s]"
          ]
        },
        {
          "output_type": "stream",
          "name": "stdout",
          "text": [
            "[7.73333333 0.         0.        ]\n",
            "[7.86666667 0.         0.        ]\n",
            "[8. 0. 0.]\n",
            "[8.13333333 0.         0.        ]\n"
          ]
        },
        {
          "output_type": "stream",
          "name": "stderr",
          "text": [
            "\rWaiting 0:  34%|███▎      | 48/143 [00:01<00:02, 34.19it/s]"
          ]
        },
        {
          "output_type": "stream",
          "name": "stdout",
          "text": [
            "[8.26666667 0.         0.        ]\n",
            "[8.4 0.  0. ]\n"
          ]
        },
        {
          "output_type": "stream",
          "name": "stderr",
          "text": [
            "\rWaiting 0:  36%|███▋      | 52/143 [00:01<00:02, 32.58it/s]"
          ]
        },
        {
          "output_type": "stream",
          "name": "stdout",
          "text": [
            "[8.53333333 0.         0.        ]\n",
            "[8.66666667 0.         0.        ]\n",
            "[8.8 0.  0. ]\n",
            "[8.93333333 0.         0.        ]\n",
            "[9.06666667 0.         0.        ]\n",
            "[9.2 0.  0. ]\n",
            "[9.33333333 0.         0.        ]\n"
          ]
        },
        {
          "output_type": "stream",
          "name": "stderr",
          "text": [
            "\rWaiting 0:  39%|███▉      | 56/143 [00:01<00:02, 32.09it/s]"
          ]
        },
        {
          "output_type": "stream",
          "name": "stdout",
          "text": [
            "[9.46666667 0.         0.        ]\n",
            "[9.6 0.  0. ]\n",
            "[9.73333333 0.         0.        ]\n",
            "[9.86666667 0.         0.        ]\n"
          ]
        },
        {
          "output_type": "stream",
          "name": "stderr",
          "text": [
            "\rWaiting 0:  42%|████▏     | 60/143 [00:01<00:02, 32.47it/s]"
          ]
        },
        {
          "output_type": "stream",
          "name": "stdout",
          "text": [
            "[10.  0.  0.]\n",
            "[10.13333333  0.          0.        ]\n",
            "[10.26666667  0.          0.        ]\n"
          ]
        },
        {
          "output_type": "stream",
          "name": "stderr",
          "text": [
            "\rWaiting 0:  45%|████▍     | 64/143 [00:01<00:02, 31.01it/s]"
          ]
        },
        {
          "output_type": "stream",
          "name": "stdout",
          "text": [
            "[10.4  0.   0. ]\n",
            "[10.53333333  0.          0.        ]\n",
            "[10.66666667  0.          0.        ]\n"
          ]
        },
        {
          "output_type": "stream",
          "name": "stderr",
          "text": [
            "\rWaiting 0:  48%|████▊     | 68/143 [00:01<00:02, 29.85it/s]"
          ]
        },
        {
          "output_type": "stream",
          "name": "stdout",
          "text": [
            "[10.8  0.   0. ]\n",
            "[10.93333333  0.          0.        ]\n",
            "[11.06666667  0.          0.        ]\n",
            "[11.2  0.   0. ]\n",
            "[11.33333333  0.          0.        ]\n",
            "[11.46666667  0.          0.        ]\n"
          ]
        },
        {
          "output_type": "stream",
          "name": "stderr",
          "text": [
            "\rWaiting 0:  50%|█████     | 72/143 [00:02<00:02, 28.77it/s]"
          ]
        },
        {
          "output_type": "stream",
          "name": "stdout",
          "text": [
            "[11.6  0.   0. ]\n",
            "[11.73333333  0.          0.        ]\n",
            "[11.86666667  0.          0.        ]\n"
          ]
        },
        {
          "output_type": "stream",
          "name": "stderr",
          "text": [
            "\rWaiting 0:  52%|█████▏    | 75/143 [00:02<00:02, 28.50it/s]"
          ]
        },
        {
          "output_type": "stream",
          "name": "stdout",
          "text": [
            "[12.  0.  0.]\n",
            "[12.13333333  0.          0.        ]\n",
            "[12.26666667  0.          0.        ]\n"
          ]
        },
        {
          "output_type": "stream",
          "name": "stderr",
          "text": [
            "\rWaiting 0:  55%|█████▍    | 78/143 [00:02<00:02, 27.67it/s]"
          ]
        },
        {
          "output_type": "stream",
          "name": "stdout",
          "text": [
            "[12.4  0.   0. ]\n",
            "[12.53333333  0.          0.        ]\n",
            "[12.66666667  0.          0.        ]\n"
          ]
        },
        {
          "output_type": "stream",
          "name": "stderr",
          "text": [
            "\rWaiting 0:  57%|█████▋    | 81/143 [00:02<00:02, 27.43it/s]"
          ]
        },
        {
          "output_type": "stream",
          "name": "stdout",
          "text": [
            "[12.8  0.   0. ]\n",
            "[12.93333333  0.          0.        ]\n",
            "[13.06666667  0.          0.        ]\n"
          ]
        },
        {
          "output_type": "stream",
          "name": "stderr",
          "text": [
            "\rWaiting 0:  59%|█████▊    | 84/143 [00:02<00:02, 27.67it/s]"
          ]
        },
        {
          "output_type": "stream",
          "name": "stdout",
          "text": [
            "[13.2  0.   0. ]\n",
            "[13.33333333  0.          0.        ]\n",
            "[13.46666667  0.          0.        ]\n"
          ]
        },
        {
          "output_type": "stream",
          "name": "stderr",
          "text": [
            "\rWaiting 0:  61%|██████    | 87/143 [00:02<00:02, 26.59it/s]"
          ]
        },
        {
          "output_type": "stream",
          "name": "stdout",
          "text": [
            "[13.6  0.   0. ]\n",
            "[13.73333333  0.          0.        ]\n",
            "[13.86666667  0.          0.        ]\n"
          ]
        },
        {
          "output_type": "stream",
          "name": "stderr",
          "text": [
            "\rWaiting 0:  63%|██████▎   | 90/143 [00:02<00:01, 26.56it/s]"
          ]
        },
        {
          "output_type": "stream",
          "name": "stdout",
          "text": [
            "[14.  0.  0.]\n",
            "[14.13333333  0.          0.        ]\n",
            "[14.26666667  0.          0.        ]\n"
          ]
        },
        {
          "output_type": "stream",
          "name": "stderr",
          "text": [
            "\rWaiting 0:  65%|██████▌   | 93/143 [00:02<00:01, 26.51it/s]"
          ]
        },
        {
          "output_type": "stream",
          "name": "stdout",
          "text": [
            "[14.4  0.   0. ]\n",
            "[14.53333333  0.          0.        ]\n",
            "[14.66666667  0.          0.        ]\n"
          ]
        },
        {
          "output_type": "stream",
          "name": "stderr",
          "text": [
            "\rWaiting 0:  67%|██████▋   | 96/143 [00:02<00:01, 26.59it/s]"
          ]
        },
        {
          "output_type": "stream",
          "name": "stdout",
          "text": [
            "[14.8  0.   0. ]\n",
            "[14.93333333  0.          0.        ]\n",
            "[15.06666667  0.          0.        ]\n"
          ]
        },
        {
          "output_type": "stream",
          "name": "stderr",
          "text": [
            "\rWaiting 0:  69%|██████▉   | 99/143 [00:03<00:01, 26.09it/s]"
          ]
        },
        {
          "output_type": "stream",
          "name": "stdout",
          "text": [
            "[15.2  0.   0. ]\n",
            "[15.33333333  0.          0.        ]\n",
            "[15.46666667  0.          0.        ]\n"
          ]
        },
        {
          "output_type": "stream",
          "name": "stderr",
          "text": [
            "\rWaiting 0:  71%|███████▏  | 102/143 [00:03<00:01, 25.89it/s]"
          ]
        },
        {
          "output_type": "stream",
          "name": "stdout",
          "text": [
            "[15.6  0.   0. ]\n",
            "[15.73333333  0.          0.        ]\n",
            "[15.86666667  0.          0.        ]\n"
          ]
        },
        {
          "output_type": "stream",
          "name": "stderr",
          "text": [
            "\rWaiting 0:  73%|███████▎  | 105/143 [00:03<00:01, 25.54it/s]"
          ]
        },
        {
          "output_type": "stream",
          "name": "stdout",
          "text": [
            "[16.  0.  0.]\n",
            "[16.13333333  0.          0.        ]\n",
            "[16.26666667  0.          0.        ]\n"
          ]
        },
        {
          "output_type": "stream",
          "name": "stderr",
          "text": [
            "\rWaiting 0:  76%|███████▌  | 108/143 [00:03<00:01, 25.09it/s]"
          ]
        },
        {
          "output_type": "stream",
          "name": "stdout",
          "text": [
            "[16.4  0.   0. ]\n",
            "[16.53333333  0.          0.        ]\n",
            "[16.66666667  0.          0.        ]\n"
          ]
        },
        {
          "output_type": "stream",
          "name": "stderr",
          "text": [
            "\rWaiting 0:  78%|███████▊  | 111/143 [00:03<00:01, 24.94it/s]"
          ]
        },
        {
          "output_type": "stream",
          "name": "stdout",
          "text": [
            "[16.8  0.   0. ]\n",
            "[16.93333333  0.          0.        ]\n",
            "[17.06666667  0.          0.        ]\n"
          ]
        },
        {
          "output_type": "stream",
          "name": "stderr",
          "text": [
            "\rWaiting 0:  80%|███████▉  | 114/143 [00:03<00:01, 24.57it/s]"
          ]
        },
        {
          "output_type": "stream",
          "name": "stdout",
          "text": [
            "[17.2  0.   0. ]\n"
          ]
        },
        {
          "output_type": "stream",
          "name": "stderr",
          "text": [
            "\rWaiting 0:  82%|████████▏ | 117/143 [00:03<00:01, 23.29it/s]"
          ]
        },
        {
          "output_type": "stream",
          "name": "stdout",
          "text": [
            "[17.33333333  0.          0.        ]\n",
            "[17.46666667  0.          0.        ]\n",
            "[17.6  0.   0. ]\n",
            "[17.73333333  0.          0.        ]\n",
            "[17.86666667  0.          0.        ]\n"
          ]
        },
        {
          "output_type": "stream",
          "name": "stderr",
          "text": [
            "Waiting 0:  86%|████████▌ | 123/143 [00:04<00:00, 23.37it/s]"
          ]
        },
        {
          "output_type": "stream",
          "name": "stdout",
          "text": [
            "[18.  0.  0.]\n",
            "[18.13333333  0.          0.        ]\n",
            "[18.26666667  0.          0.        ]\n",
            "[18.4  0.   0. ]\n",
            "[18.53333333  0.          0.        ]\n",
            "[18.66666667  0.          0.        ]\n"
          ]
        },
        {
          "output_type": "stream",
          "name": "stderr",
          "text": [
            "\rWaiting 0:  88%|████████▊ | 126/143 [00:04<00:00, 23.78it/s]"
          ]
        },
        {
          "output_type": "stream",
          "name": "stdout",
          "text": [
            "[18.8  0.   0. ]\n",
            "[18.93333333  0.          0.        ]\n",
            "[19.06666667  0.          0.        ]\n"
          ]
        },
        {
          "output_type": "stream",
          "name": "stderr",
          "text": [
            "\rWaiting 0:  90%|█████████ | 129/143 [00:04<00:00, 24.13it/s]"
          ]
        },
        {
          "output_type": "stream",
          "name": "stdout",
          "text": [
            "[19.2  0.   0. ]\n",
            "[19.33333333  0.          0.        ]\n",
            "[19.46666667  0.          0.        ]\n"
          ]
        },
        {
          "output_type": "stream",
          "name": "stderr",
          "text": [
            "\rWaiting 0:  92%|█████████▏| 132/143 [00:04<00:00, 24.03it/s]"
          ]
        },
        {
          "output_type": "stream",
          "name": "stdout",
          "text": [
            "[19.6  0.   0. ]\n",
            "[19.73333333  0.          0.        ]\n"
          ]
        },
        {
          "output_type": "stream",
          "name": "stderr",
          "text": [
            "\rWaiting 0:  94%|█████████▍| 135/143 [00:04<00:00, 22.51it/s]"
          ]
        },
        {
          "output_type": "stream",
          "name": "stdout",
          "text": [
            "[19.86666667  0.          0.        ]\n",
            "[20.  0.  0.]\n",
            "[20.13333333  0.          0.        ]\n"
          ]
        },
        {
          "output_type": "stream",
          "name": "stderr",
          "text": [
            "\rWaiting 0:  97%|█████████▋| 138/143 [00:04<00:00, 22.04it/s]"
          ]
        },
        {
          "output_type": "stream",
          "name": "stdout",
          "text": [
            "[20.26666667  0.          0.        ]\n",
            "[20.4  0.   0. ]\n"
          ]
        },
        {
          "output_type": "stream",
          "name": "stderr",
          "text": [
            "\rWaiting 0:  99%|█████████▊| 141/143 [00:04<00:00, 22.18it/s]"
          ]
        },
        {
          "output_type": "stream",
          "name": "stdout",
          "text": [
            "[20.53333333  0.          0.        ]\n",
            "[20.66666667  0.          0.        ]\n",
            "[20.8  0.   0. ]\n"
          ]
        },
        {
          "output_type": "stream",
          "name": "stderr",
          "text": [
            "\r                                                            "
          ]
        },
        {
          "output_type": "stream",
          "name": "stdout",
          "text": [
            "[20.93333333  0.          0.        ]\n",
            "[20.93333333  0.          0.        ]\n"
          ]
        },
        {
          "output_type": "stream",
          "name": "stderr",
          "text": [
            "\r"
          ]
        },
        {
          "output_type": "display_data",
          "data": {
            "text/plain": [
              "\u001b[2;36m[04/11/23 19:22:09]\u001b[0m\u001b[2;36m \u001b[0m\u001b[32mINFO    \u001b[0m Animation \u001b[32m0\u001b[0m : Partial movie file written in                   \u001b]8;id=439964;file:///usr/local/lib/python3.9/dist-packages/manim/scene/scene_file_writer.py\u001b\\\u001b[2mscene_file_writer.py\u001b[0m\u001b]8;;\u001b\\\u001b[2m:\u001b[0m\u001b]8;id=400920;file:///usr/local/lib/python3.9/dist-packages/manim/scene/scene_file_writer.py#527\u001b\\\u001b[2m527\u001b[0m\u001b]8;;\u001b\\\n",
              "\u001b[2;36m                    \u001b[0m         \u001b[32m'/content/media/videos/content/480p15/partial_movie_files/Sin\u001b[0m \u001b[2m                        \u001b[0m\n",
              "\u001b[2;36m                    \u001b[0m         \u001b[32meFunctionWithUnitCircle/4266129954_1865452027_3764689128.mp4'\u001b[0m \u001b[2m                        \u001b[0m\n"
            ],
            "text/html": [
              "<pre style=\"white-space:pre;overflow-x:auto;line-height:normal;font-family:Menlo,'DejaVu Sans Mono',consolas,'Courier New',monospace\"><span style=\"color: #7fbfbf; text-decoration-color: #7fbfbf\">[04/11/23 19:22:09] </span><span style=\"color: #008000; text-decoration-color: #008000\">INFO    </span> Animation <span style=\"color: #008000; text-decoration-color: #008000\">0</span> : Partial movie file written in                   <a href=\"file:///usr/local/lib/python3.9/dist-packages/manim/scene/scene_file_writer.py\" target=\"_blank\"><span style=\"color: #7f7f7f; text-decoration-color: #7f7f7f\">scene_file_writer.py</span></a><span style=\"color: #7f7f7f; text-decoration-color: #7f7f7f\">:</span><a href=\"file:///usr/local/lib/python3.9/dist-packages/manim/scene/scene_file_writer.py#527\" target=\"_blank\"><span style=\"color: #7f7f7f; text-decoration-color: #7f7f7f\">527</span></a>\n",
              "<span style=\"color: #7fbfbf; text-decoration-color: #7fbfbf\">                    </span>         <span style=\"color: #008000; text-decoration-color: #008000\">'/content/media/videos/content/480p15/partial_movie_files/Sin</span> <span style=\"color: #7f7f7f; text-decoration-color: #7f7f7f\">                        </span>\n",
              "<span style=\"color: #7fbfbf; text-decoration-color: #7fbfbf\">                    </span>         <span style=\"color: #008000; text-decoration-color: #008000\">eFunctionWithUnitCircle/4266129954_1865452027_3764689128.mp4'</span> <span style=\"color: #7f7f7f; text-decoration-color: #7f7f7f\">                        </span>\n",
              "</pre>\n"
            ]
          },
          "metadata": {}
        },
        {
          "output_type": "stream",
          "name": "stderr",
          "text": [
            "INFO:manim:Animation 0 : Partial movie file written in '/content/media/videos/content/480p15/partial_movie_files/SineFunctionWithUnitCircle/4266129954_1865452027_3764689128.mp4'\n"
          ]
        },
        {
          "output_type": "stream",
          "name": "stdout",
          "text": [
            "[20.93333333  0.          0.        ]\n"
          ]
        },
        {
          "output_type": "stream",
          "name": "stderr",
          "text": [
            "Waiting 1:  20%|██        | 3/15 [00:00<00:00, 29.42it/s]"
          ]
        },
        {
          "output_type": "stream",
          "name": "stdout",
          "text": [
            "[20.93333333  0.          0.        ]\n",
            "[21.06666667  0.          0.        ]\n",
            "[21.2  0.   0. ]\n",
            "[21.33333333  0.          0.        ]\n",
            "[21.46666667  0.          0.        ]\n",
            "[21.6  0.   0. ]\n",
            "[21.73333333  0.          0.        ]\n",
            "[21.86666667  0.          0.        ]\n"
          ]
        },
        {
          "output_type": "stream",
          "name": "stderr",
          "text": []
        },
        {
          "output_type": "stream",
          "name": "stdout",
          "text": [
            "[22.  0.  0.]\n",
            "[22.13333333  0.          0.        ]\n",
            "[22.26666667  0.          0.        ]\n",
            "[22.4  0.   0. ]\n",
            "[22.53333333  0.          0.        ]\n",
            "[22.66666667  0.          0.        ]\n",
            "[22.8  0.   0. ]\n",
            "[22.8  0.   0. ]\n"
          ]
        },
        {
          "output_type": "display_data",
          "data": {
            "text/plain": [
              "\u001b[2;36m                   \u001b[0m\u001b[2;36m \u001b[0m\u001b[32mINFO    \u001b[0m Animation \u001b[32m1\u001b[0m : Partial movie file written in                   \u001b]8;id=26499;file:///usr/local/lib/python3.9/dist-packages/manim/scene/scene_file_writer.py\u001b\\\u001b[2mscene_file_writer.py\u001b[0m\u001b]8;;\u001b\\\u001b[2m:\u001b[0m\u001b]8;id=387586;file:///usr/local/lib/python3.9/dist-packages/manim/scene/scene_file_writer.py#527\u001b\\\u001b[2m527\u001b[0m\u001b]8;;\u001b\\\n",
              "\u001b[2;36m                    \u001b[0m         \u001b[32m'/content/media/videos/content/480p15/partial_movie_files/Sin\u001b[0m \u001b[2m                        \u001b[0m\n",
              "\u001b[2;36m                    \u001b[0m         \u001b[32meFunctionWithUnitCircle/1442284246_3604166955_1763887070.mp4'\u001b[0m \u001b[2m                        \u001b[0m\n"
            ],
            "text/html": [
              "<pre style=\"white-space:pre;overflow-x:auto;line-height:normal;font-family:Menlo,'DejaVu Sans Mono',consolas,'Courier New',monospace\"><span style=\"color: #7fbfbf; text-decoration-color: #7fbfbf\">                    </span><span style=\"color: #008000; text-decoration-color: #008000\">INFO    </span> Animation <span style=\"color: #008000; text-decoration-color: #008000\">1</span> : Partial movie file written in                   <a href=\"file:///usr/local/lib/python3.9/dist-packages/manim/scene/scene_file_writer.py\" target=\"_blank\"><span style=\"color: #7f7f7f; text-decoration-color: #7f7f7f\">scene_file_writer.py</span></a><span style=\"color: #7f7f7f; text-decoration-color: #7f7f7f\">:</span><a href=\"file:///usr/local/lib/python3.9/dist-packages/manim/scene/scene_file_writer.py#527\" target=\"_blank\"><span style=\"color: #7f7f7f; text-decoration-color: #7f7f7f\">527</span></a>\n",
              "<span style=\"color: #7fbfbf; text-decoration-color: #7fbfbf\">                    </span>         <span style=\"color: #008000; text-decoration-color: #008000\">'/content/media/videos/content/480p15/partial_movie_files/Sin</span> <span style=\"color: #7f7f7f; text-decoration-color: #7f7f7f\">                        </span>\n",
              "<span style=\"color: #7fbfbf; text-decoration-color: #7fbfbf\">                    </span>         <span style=\"color: #008000; text-decoration-color: #008000\">eFunctionWithUnitCircle/1442284246_3604166955_1763887070.mp4'</span> <span style=\"color: #7f7f7f; text-decoration-color: #7f7f7f\">                        </span>\n",
              "</pre>\n"
            ]
          },
          "metadata": {}
        },
        {
          "output_type": "stream",
          "name": "stderr",
          "text": [
            "INFO:manim:Animation 1 : Partial movie file written in '/content/media/videos/content/480p15/partial_movie_files/SineFunctionWithUnitCircle/1442284246_3604166955_1763887070.mp4'\n"
          ]
        },
        {
          "output_type": "display_data",
          "data": {
            "text/plain": [
              "\u001b[2;36m                   \u001b[0m\u001b[2;36m \u001b[0m\u001b[32mINFO    \u001b[0m Combining to Movie file.                                      \u001b]8;id=504649;file:///usr/local/lib/python3.9/dist-packages/manim/scene/scene_file_writer.py\u001b\\\u001b[2mscene_file_writer.py\u001b[0m\u001b]8;;\u001b\\\u001b[2m:\u001b[0m\u001b]8;id=39104;file:///usr/local/lib/python3.9/dist-packages/manim/scene/scene_file_writer.py#617\u001b\\\u001b[2m617\u001b[0m\u001b]8;;\u001b\\\n"
            ],
            "text/html": [
              "<pre style=\"white-space:pre;overflow-x:auto;line-height:normal;font-family:Menlo,'DejaVu Sans Mono',consolas,'Courier New',monospace\"><span style=\"color: #7fbfbf; text-decoration-color: #7fbfbf\">                    </span><span style=\"color: #008000; text-decoration-color: #008000\">INFO    </span> Combining to Movie file.                                      <a href=\"file:///usr/local/lib/python3.9/dist-packages/manim/scene/scene_file_writer.py\" target=\"_blank\"><span style=\"color: #7f7f7f; text-decoration-color: #7f7f7f\">scene_file_writer.py</span></a><span style=\"color: #7f7f7f; text-decoration-color: #7f7f7f\">:</span><a href=\"file:///usr/local/lib/python3.9/dist-packages/manim/scene/scene_file_writer.py#617\" target=\"_blank\"><span style=\"color: #7f7f7f; text-decoration-color: #7f7f7f\">617</span></a>\n",
              "</pre>\n"
            ]
          },
          "metadata": {}
        },
        {
          "output_type": "stream",
          "name": "stderr",
          "text": [
            "INFO:manim:Combining to Movie file.\n"
          ]
        },
        {
          "output_type": "display_data",
          "data": {
            "text/plain": [
              "\u001b[2;36m                   \u001b[0m\u001b[2;36m \u001b[0m\u001b[32mINFO    \u001b[0m                                                               \u001b]8;id=724079;file:///usr/local/lib/python3.9/dist-packages/manim/scene/scene_file_writer.py\u001b\\\u001b[2mscene_file_writer.py\u001b[0m\u001b]8;;\u001b\\\u001b[2m:\u001b[0m\u001b]8;id=23383;file:///usr/local/lib/python3.9/dist-packages/manim/scene/scene_file_writer.py#736\u001b\\\u001b[2m736\u001b[0m\u001b]8;;\u001b\\\n",
              "\u001b[2;36m                    \u001b[0m         \u001b[1;33mFile\u001b[0m ready at                                                 \u001b[2m                        \u001b[0m\n",
              "\u001b[2;36m                    \u001b[0m         \u001b[32m'/content/media/videos/content/480p15/SineFunctionWithUnitCir\u001b[0m \u001b[2m                        \u001b[0m\n",
              "\u001b[2;36m                    \u001b[0m         \u001b[32mcle.mp4'\u001b[0m                                                      \u001b[2m                        \u001b[0m\n",
              "\u001b[2;36m                    \u001b[0m                                                                       \u001b[2m                        \u001b[0m\n"
            ],
            "text/html": [
              "<pre style=\"white-space:pre;overflow-x:auto;line-height:normal;font-family:Menlo,'DejaVu Sans Mono',consolas,'Courier New',monospace\"><span style=\"color: #7fbfbf; text-decoration-color: #7fbfbf\">                    </span><span style=\"color: #008000; text-decoration-color: #008000\">INFO    </span>                                                               <a href=\"file:///usr/local/lib/python3.9/dist-packages/manim/scene/scene_file_writer.py\" target=\"_blank\"><span style=\"color: #7f7f7f; text-decoration-color: #7f7f7f\">scene_file_writer.py</span></a><span style=\"color: #7f7f7f; text-decoration-color: #7f7f7f\">:</span><a href=\"file:///usr/local/lib/python3.9/dist-packages/manim/scene/scene_file_writer.py#736\" target=\"_blank\"><span style=\"color: #7f7f7f; text-decoration-color: #7f7f7f\">736</span></a>\n",
              "<span style=\"color: #7fbfbf; text-decoration-color: #7fbfbf\">                    </span>         <span style=\"color: #808000; text-decoration-color: #808000; font-weight: bold\">File</span> ready at                                                 <span style=\"color: #7f7f7f; text-decoration-color: #7f7f7f\">                        </span>\n",
              "<span style=\"color: #7fbfbf; text-decoration-color: #7fbfbf\">                    </span>         <span style=\"color: #008000; text-decoration-color: #008000\">'/content/media/videos/content/480p15/SineFunctionWithUnitCir</span> <span style=\"color: #7f7f7f; text-decoration-color: #7f7f7f\">                        </span>\n",
              "<span style=\"color: #7fbfbf; text-decoration-color: #7fbfbf\">                    </span>         <span style=\"color: #008000; text-decoration-color: #008000\">cle.mp4'</span>                                                      <span style=\"color: #7f7f7f; text-decoration-color: #7f7f7f\">                        </span>\n",
              "<span style=\"color: #7fbfbf; text-decoration-color: #7fbfbf\">                    </span>                                                                       <span style=\"color: #7f7f7f; text-decoration-color: #7f7f7f\">                        </span>\n",
              "</pre>\n"
            ]
          },
          "metadata": {}
        },
        {
          "output_type": "stream",
          "name": "stderr",
          "text": [
            "INFO:manim:\n",
            "File ready at '/content/media/videos/content/480p15/SineFunctionWithUnitCircle.mp4'\n",
            "\n"
          ]
        },
        {
          "output_type": "display_data",
          "data": {
            "text/plain": [
              "\u001b[2;36m                   \u001b[0m\u001b[2;36m \u001b[0m\u001b[32mINFO    \u001b[0m \u001b[1;33mRendered\u001b[0m SineFunctionWithUnitCircle                                       \u001b]8;id=570576;file:///usr/local/lib/python3.9/dist-packages/manim/scene/scene.py\u001b\\\u001b[2mscene.py\u001b[0m\u001b]8;;\u001b\\\u001b[2m:\u001b[0m\u001b]8;id=370419;file:///usr/local/lib/python3.9/dist-packages/manim/scene/scene.py#241\u001b\\\u001b[2m241\u001b[0m\u001b]8;;\u001b\\\n",
              "\u001b[2;36m                    \u001b[0m         \u001b[1;33mPlayed\u001b[0m \u001b[32m2\u001b[0m \u001b[1;33manimations\u001b[0m                                                       \u001b[2m            \u001b[0m\n"
            ],
            "text/html": [
              "<pre style=\"white-space:pre;overflow-x:auto;line-height:normal;font-family:Menlo,'DejaVu Sans Mono',consolas,'Courier New',monospace\"><span style=\"color: #7fbfbf; text-decoration-color: #7fbfbf\">                    </span><span style=\"color: #008000; text-decoration-color: #008000\">INFO    </span> <span style=\"color: #808000; text-decoration-color: #808000; font-weight: bold\">Rendered</span> SineFunctionWithUnitCircle                                       <a href=\"file:///usr/local/lib/python3.9/dist-packages/manim/scene/scene.py\" target=\"_blank\"><span style=\"color: #7f7f7f; text-decoration-color: #7f7f7f\">scene.py</span></a><span style=\"color: #7f7f7f; text-decoration-color: #7f7f7f\">:</span><a href=\"file:///usr/local/lib/python3.9/dist-packages/manim/scene/scene.py#241\" target=\"_blank\"><span style=\"color: #7f7f7f; text-decoration-color: #7f7f7f\">241</span></a>\n",
              "<span style=\"color: #7fbfbf; text-decoration-color: #7fbfbf\">                    </span>         <span style=\"color: #808000; text-decoration-color: #808000; font-weight: bold\">Played</span> <span style=\"color: #008000; text-decoration-color: #008000\">2</span> <span style=\"color: #808000; text-decoration-color: #808000; font-weight: bold\">animations</span>                                                       <span style=\"color: #7f7f7f; text-decoration-color: #7f7f7f\">            </span>\n",
              "</pre>\n"
            ]
          },
          "metadata": {}
        },
        {
          "output_type": "stream",
          "name": "stderr",
          "text": [
            "INFO:manim:Rendered SineFunctionWithUnitCircle\n",
            "Played 2 animations\n"
          ]
        },
        {
          "output_type": "display_data",
          "data": {
            "text/plain": [
              "<IPython.core.display.Video object>"
            ],
            "text/html": [
              "<video controls autoplay loop style=\"max-width: 60%;\"  >\n",
              " <source src=\"data:video/mp4;base64,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\" type=\"video/mp4\">\n",
              " Your browser does not support the video tag.\n",
              " </video>"
            ]
          },
          "metadata": {}
        }
      ]
    }
  ]
}